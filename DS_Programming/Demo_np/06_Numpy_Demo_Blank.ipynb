{
  "cells": [
    {
      "cell_type": "markdown",
      "metadata": {
        "id": "F4jDARSiIBDC",
        "tags": []
      },
      "source": [
        "# Numpy"
      ]
    },
    {
      "cell_type": "markdown",
      "metadata": {
        "id": "of_TzqnpIBDI"
      },
      "source": [
        "**Reference for numpy**\n",
        "1. [Python Data Science Handbook\n",
        "](https://jakevdp.github.io/PythonDataScienceHandbook/02.00-introduction-to-numpy.htm)\n",
        "2. [Numpy cheat sheet](https://www.datacamp.com/cheat-sheet/numpy-cheat-sheet-data-analysis-in-python))"
      ]
    },
    {
      "cell_type": "code",
      "execution_count": 68,
      "metadata": {
        "hide_input": false,
        "id": "MmOf2GIiIBDJ"
      },
      "outputs": [],
      "source": [
        "import numpy as np\n",
        "\n",
        "import matplotlib.pyplot as plt\n",
        "import random # Thư viện built-in của Python"
      ]
    },
    {
      "cell_type": "markdown",
      "metadata": {
        "id": "EFua2wdSIBDM"
      },
      "source": [
        "Kiểm tra cài đặt numpy"
      ]
    },
    {
      "cell_type": "code",
      "execution_count": 69,
      "metadata": {
        "colab": {
          "base_uri": "https://localhost:8080/",
          "height": 35
        },
        "id": "UeO7vanUIBDM",
        "outputId": "0efcde75-749f-4849-dc12-61e8c5633294"
      },
      "outputs": [
        {
          "data": {
            "text/plain": [
              "'1.24.1'"
            ]
          },
          "execution_count": 69,
          "metadata": {},
          "output_type": "execute_result"
        }
      ],
      "source": [
        "np.__version__"
      ]
    },
    {
      "cell_type": "markdown",
      "metadata": {
        "id": "0KCUiRzSIBDN",
        "tags": []
      },
      "source": [
        "## Tại sao lại cần Numpy"
      ]
    },
    {
      "cell_type": "markdown",
      "metadata": {
        "id": "8BksthuhIBDN"
      },
      "source": [
        "Nhân 2 ma trận bằng Python list + vòng lặp:"
      ]
    },
    {
      "cell_type": "code",
      "execution_count": 70,
      "metadata": {
        "colab": {
          "base_uri": "https://localhost:8080/"
        },
        "id": "UjPOWM_9IBDO",
        "outputId": "5180b197-dfc9-4e4c-f230-7b602dd7a1ed",
        "tags": []
      },
      "outputs": [
        {
          "name": "stdout",
          "output_type": "stream",
          "text": [
            "1000 500\n",
            "500 1000\n"
          ]
        }
      ],
      "source": [
        "# Tạo 2 ma trận có kích thước 1000x500 và 500x1000\n",
        "nrows1 = 1000; ncols1 = nrows2 = 500; ncols2 = 1000\n",
        "m1_list = []\n",
        "for r in range(nrows1):\n",
        "    row_vals = []\n",
        "    for c in range(ncols1):\n",
        "        row_vals.append(random.randint(-100, 100))\n",
        "    m1_list.append(row_vals)\n",
        "\n",
        "m2_list = []\n",
        "for r in range(nrows2):\n",
        "    row_vals = []\n",
        "    for c in range(ncols2):\n",
        "        row_vals.append(random.randint(-100, 100))\n",
        "    m2_list.append(row_vals)\n",
        "\n",
        "print(len(m1_list), len(m1_list[0]))\n",
        "print(len(m2_list), len(m2_list[0]))"
      ]
    },
    {
      "cell_type": "code",
      "execution_count": 71,
      "metadata": {
        "colab": {
          "base_uri": "https://localhost:8080/"
        },
        "id": "bqh9kwSxIBDP",
        "outputId": "d51a730e-4306-4480-9e7b-a1e4de72c0d6",
        "tags": []
      },
      "outputs": [],
      "source": [
        "# %%time\n",
        "# # Nhân 2 ma trận\n",
        "# m3_list = []\n",
        "# for r in range(nrows1):\n",
        "#     row_vals = []\n",
        "#     for c in range(ncols2):\n",
        "#         temp = 0\n",
        "#         for i in range(ncols1):\n",
        "#             temp += m1_list[r][i] * m2_list[i][c]\n",
        "#         row_vals.append(temp)\n",
        "#     m3_list.append(row_vals)"
      ]
    },
    {
      "cell_type": "markdown",
      "metadata": {
        "id": "teZer0j1IBDQ"
      },
      "source": [
        "Nhân 2 ma trận bằng Numpy array + toán tử nhân ma trận của Numpy:"
      ]
    },
    {
      "cell_type": "code",
      "execution_count": 72,
      "metadata": {
        "id": "a9zE5Vc6IBDQ"
      },
      "outputs": [],
      "source": [
        "m1_numpy = np.array(m1_list)\n",
        "m2_numpy = np.array(m2_list)"
      ]
    },
    {
      "cell_type": "code",
      "execution_count": 73,
      "metadata": {
        "colab": {
          "base_uri": "https://localhost:8080/"
        },
        "id": "pCmwye9dIBDR",
        "outputId": "8187487c-18b4-41e9-860a-693ca96043be"
      },
      "outputs": [
        {
          "name": "stdout",
          "output_type": "stream",
          "text": [
            "CPU times: user 942 ms, sys: 4.01 ms, total: 946 ms\n",
            "Wall time: 945 ms\n"
          ]
        }
      ],
      "source": [
        "%%time\n",
        "m3_numpy = m1_numpy @ m2_numpy"
      ]
    },
    {
      "cell_type": "markdown",
      "metadata": {
        "id": "IP5Ef5dUIBDR"
      },
      "source": [
        "So sánh 2 cách làm:\n",
        "\n",
        "- Thời gian viết code: ...\n",
        "- Thời gian chạy: ...\n",
        "- Kết quả: ..."
      ]
    },
    {
      "cell_type": "code",
      "execution_count": 74,
      "metadata": {
        "colab": {
          "base_uri": "https://localhost:8080/"
        },
        "id": "2yux6-6JIBDR",
        "outputId": "6589dcbe-7570-4c40-a352-e37d9cb7adb9"
      },
      "outputs": [
        {
          "name": "stderr",
          "output_type": "stream",
          "text": [
            "/tmp/ipykernel_5243/1889643117.py:2: DeprecationWarning: elementwise comparison failed; this will raise an error in the future.\n",
            "  np.all(np.array(m3_list) == m3_numpy)\n"
          ]
        },
        {
          "data": {
            "text/plain": [
              "False"
            ]
          },
          "execution_count": 74,
          "metadata": {},
          "output_type": "execute_result"
        }
      ],
      "source": [
        "# m3_list có bằng m3_array không?\n",
        "np.all(np.array(m3_list) == m3_numpy)"
      ]
    },
    {
      "cell_type": "markdown",
      "metadata": {
        "id": "9bspsLkBIBDS",
        "tags": []
      },
      "source": [
        "## Tạo Numpy array & xem thông tin của Numpy array"
      ]
    },
    {
      "cell_type": "code",
      "execution_count": 75,
      "metadata": {
        "colab": {
          "base_uri": "https://localhost:8080/"
        },
        "id": "ONCUvhppIBDS",
        "outputId": "d0d8d6fa-0dee-4138-be2d-5795cfc304c3"
      },
      "outputs": [
        {
          "data": {
            "text/plain": [
              "array([5., 6., 7., 8.])"
            ]
          },
          "execution_count": 75,
          "metadata": {},
          "output_type": "execute_result"
        }
      ],
      "source": [
        "# Tạo 1D array từ list\n",
        "a = np.array([5, 6, 7, 8], dtype='float')\n",
        "a"
      ]
    },
    {
      "cell_type": "code",
      "execution_count": 76,
      "metadata": {
        "colab": {
          "base_uri": "https://localhost:8080/"
        },
        "id": "NTeUf1otIBDS",
        "outputId": "6778f78d-dc1f-4ff5-aca1-fb007f226e85"
      },
      "outputs": [
        {
          "data": {
            "text/plain": [
              "array([[5, 6, 7, 8],\n",
              "       [9, 0, 1, 2]])"
            ]
          },
          "execution_count": 76,
          "metadata": {},
          "output_type": "execute_result"
        }
      ],
      "source": [
        "# Tạo 2D array từ list\n",
        "b = np.array([[5, 6, 7, 8], [9, 0, 1, 2]])\n",
        "b"
      ]
    },
    {
      "cell_type": "code",
      "execution_count": 77,
      "metadata": {
        "colab": {
          "base_uri": "https://localhost:8080/"
        },
        "id": "tEsUTMH9IBDS",
        "outputId": "953d54e6-1142-4cce-ddec-3efc396f81b2"
      },
      "outputs": [
        {
          "name": "stdout",
          "output_type": "stream",
          "text": [
            "Số chiều: 2\n",
            "Số lượng phần tử của mỗi chiều: (2, 4)\n",
            "Tổng số lượng phần tử: 8\n",
            "Kiểu dữ liệu của mỗi phần tử: int64\n",
            "Kích thước (byte) của mỗi phần tử: 8\n",
            "Tổng kích thước (byte): 64\n"
          ]
        }
      ],
      "source": [
        "# Xem các thông tin của array\n",
        "print('Số chiều:', b.ndim)\n",
        "print('Số lượng phần tử của mỗi chiều:', b.shape)\n",
        "print('Tổng số lượng phần tử:', b.size)\n",
        "print('Kiểu dữ liệu của mỗi phần tử:', b.dtype)\n",
        "print('Kích thước (byte) của mỗi phần tử:', b.itemsize)\n",
        "print('Tổng kích thước (byte):', b.nbytes)"
      ]
    },
    {
      "cell_type": "code",
      "execution_count": 78,
      "metadata": {
        "colab": {
          "base_uri": "https://localhost:8080/"
        },
        "id": "Ujl6PUiZIBDT",
        "outputId": "e272aec1-f3b1-4519-d64c-c47342c6aa19"
      },
      "outputs": [
        {
          "data": {
            "text/plain": [
              "array([[9, 9, 9],\n",
              "       [9, 9, 9]])"
            ]
          },
          "execution_count": 78,
          "metadata": {},
          "output_type": "execute_result"
        }
      ],
      "source": [
        "# Tạo ra array toàn với cùng một giá trị, chẳng hạn 0\n",
        "a = np.full((2, 3), 9)\n",
        "a"
      ]
    },
    {
      "cell_type": "code",
      "execution_count": 79,
      "metadata": {
        "colab": {
          "base_uri": "https://localhost:8080/"
        },
        "id": "slng0r4vIBDT",
        "outputId": "553ab291-8abe-4819-9f2f-18af168a98df"
      },
      "outputs": [
        {
          "data": {
            "text/plain": [
              "array([[9, 8, 5, 9, 1],\n",
              "       [9, 4, 8, 5, 0]])"
            ]
          },
          "execution_count": 79,
          "metadata": {},
          "output_type": "execute_result"
        }
      ],
      "source": [
        "# Tạo ra array gồm các số được phát sinh ngẫu nghiên\n",
        "# Ví dụ, số nguyên được phát sinh theo phân bố đều trong [0, 10)\n",
        "a = np.random.randint(0, 10, (2, 5))\n",
        "a"
      ]
    },
    {
      "cell_type": "code",
      "execution_count": 80,
      "metadata": {
        "colab": {
          "base_uri": "https://localhost:8080/"
        },
        "id": "9DZKMPJiIBDT",
        "outputId": "368b75fb-d25e-440b-803f-3e17a7519a02"
      },
      "outputs": [
        {
          "data": {
            "text/plain": [
              "array([[0., 0., 1., 0., 1.],\n",
              "       [1., 0., 1., 0., 0.]])"
            ]
          },
          "execution_count": 80,
          "metadata": {},
          "output_type": "execute_result"
        }
      ],
      "source": [
        "# Tạo ra array rỗng (không khởi tạo giá trị)\n",
        "a = np.empty((2, 5))\n",
        "a"
      ]
    },
    {
      "cell_type": "code",
      "execution_count": 81,
      "metadata": {
        "colab": {
          "base_uri": "https://localhost:8080/"
        },
        "id": "mU1AsUU9IBDT",
        "outputId": "8e152695-30a0-40de-f3ce-386f42f315db"
      },
      "outputs": [
        {
          "data": {
            "text/plain": [
              "array([[1., 0., 0.],\n",
              "       [0., 1., 0.],\n",
              "       [0., 0., 1.]])"
            ]
          },
          "execution_count": 81,
          "metadata": {},
          "output_type": "execute_result"
        }
      ],
      "source": [
        "# Tạo ra ma trận đơn vị (identity matrix)\n",
        "a = np.identity(3)\n",
        "a"
      ]
    },
    {
      "cell_type": "code",
      "execution_count": 82,
      "metadata": {
        "colab": {
          "base_uri": "https://localhost:8080/"
        },
        "id": "G-Wva4mkIBDT",
        "outputId": "744fee8c-9d2e-47bd-deef-5a33afdc349e"
      },
      "outputs": [
        {
          "data": {
            "text/plain": [
              "array([1. , 1.5, 2. , 2.5, 3. , 3.5, 4. , 4.5, 5. ])"
            ]
          },
          "execution_count": 82,
          "metadata": {},
          "output_type": "execute_result"
        }
      ],
      "source": [
        "# Tạo ra array gồm các số cách đều nhau\n",
        "# Ví dụ, array gồm: 1, 1.5, 2, 2.5, ..., 5\n",
        "# Cách 1: chỉ định đầu, cuối, và bước nhảy\n",
        "a = np.arange(1, 5.5, 0.5)\n",
        "a"
      ]
    },
    {
      "cell_type": "code",
      "execution_count": 83,
      "metadata": {
        "colab": {
          "base_uri": "https://localhost:8080/"
        },
        "id": "KC_iml7jIBDU",
        "outputId": "5117430e-cb8a-46f5-fdb1-dc326a056f87"
      },
      "outputs": [
        {
          "data": {
            "text/plain": [
              "array([1. , 1.4, 1.8, 2.2, 2.6, 3. , 3.4, 3.8, 4.2, 4.6, 5. ])"
            ]
          },
          "execution_count": 83,
          "metadata": {},
          "output_type": "execute_result"
        }
      ],
      "source": [
        "# Tạo ra array gồm các số cách đều nhau\n",
        "# Ví dụ, array gồm: 1, 1.5, 2, 2.5, ..., 5\n",
        "# Cách 2: chỉ định đầu, cuối, và số lượng phần tử\n",
        "a = np.linspace(1, 5, 11)\n",
        "a"
      ]
    },
    {
      "cell_type": "code",
      "execution_count": 84,
      "metadata": {
        "colab": {
          "base_uri": "https://localhost:8080/"
        },
        "id": "o5pozS21IBDU",
        "outputId": "787174c1-1239-4d9f-c2b9-941d76088ee5"
      },
      "outputs": [
        {
          "name": "stdout",
          "output_type": "stream",
          "text": [
            "[0 1 2 3 4 5 6 7 8 9]\n",
            "[[0 1 2 3 4]\n",
            " [5 6 7 8 9]]\n"
          ]
        }
      ],
      "source": [
        "# Tạo ra array từ một array khác bằng cách thay đổi shape\n",
        "a = np.arange(0, 10)\n",
        "print(a)\n",
        "b = a.reshape((2, 5)).copy()\n",
        "print(b)"
      ]
    },
    {
      "cell_type": "markdown",
      "metadata": {
        "id": "JzaPY2_YIBDU"
      },
      "source": [
        "`b` trỏ tới một array object khác với `a`:"
      ]
    },
    {
      "cell_type": "code",
      "execution_count": 85,
      "metadata": {
        "colab": {
          "base_uri": "https://localhost:8080/"
        },
        "id": "GKNiIaqbIBDU",
        "outputId": "9f0668da-13e0-4f90-8c24-102f928dfdbc"
      },
      "outputs": [
        {
          "data": {
            "text/plain": [
              "False"
            ]
          },
          "execution_count": 85,
          "metadata": {},
          "output_type": "execute_result"
        }
      ],
      "source": [
        "b is a"
      ]
    },
    {
      "cell_type": "markdown",
      "metadata": {
        "id": "1XjSPFgrIBDU"
      },
      "source": [
        "Nếu object mà `b` trỏ tới hoàn toàn độc lập với object mà `a` trỏ tới thì `b` được gọi là một copy (deep copy) của `a` $\\to$ khi thay đổi dữ liệu ở `b` (ví dụ, cho `b[0, 0] = 99`) thì không làm ảnh hưởng đến dữ liệu ở `a`.\n",
        "\n",
        "Còn nếu object mà `b` trỏ tới dùng chung dữ liệu (một object có khá nhiều thành phần, trong đó có dữ liệu) với object mà `a` trỏ tới thì `b` được gọi là view (shallow copy) của `a` $\\to$ khi thay đổi dữ liệu ở `b` thì sẽ làm thay đổi dữ liệu ở `a`.\n",
        "\n",
        "Ở đây, `b` là có được bằng cách reshape `a`. Vậy `b` là copy hay là view của `a`?\n",
        "\n",
        "Một cách là kiểm tra `b.flags.owndata`. Nếu kết quả là True thì có nghĩa là `b` có dữ liệu độc lập của `b`, tức `b` là copy của `a`; ngược lại `b` là view của `a`."
      ]
    },
    {
      "cell_type": "code",
      "execution_count": 86,
      "metadata": {
        "colab": {
          "base_uri": "https://localhost:8080/"
        },
        "id": "kENnzI0BIBDV",
        "outputId": "f01ffcd5-f902-46e8-f0bc-3160c7e88715"
      },
      "outputs": [
        {
          "name": "stdout",
          "output_type": "stream",
          "text": [
            "True\n",
            "True\n"
          ]
        }
      ],
      "source": [
        "print(a.flags.owndata)\n",
        "print(b.flags.owndata)"
      ]
    },
    {
      "cell_type": "code",
      "execution_count": 87,
      "metadata": {
        "colab": {
          "base_uri": "https://localhost:8080/"
        },
        "id": "YRYOoWVAIBDV",
        "outputId": "368a6843-65d9-42d8-ff1c-307d52ffdddb"
      },
      "outputs": [
        {
          "data": {
            "text/plain": [
              "array([0, 1, 2, 3, 4, 5, 6, 7, 8, 9])"
            ]
          },
          "execution_count": 87,
          "metadata": {},
          "output_type": "execute_result"
        }
      ],
      "source": [
        "b[0, 0] = 999\n",
        "b[1, 2] = 123\n",
        "a"
      ]
    },
    {
      "cell_type": "code",
      "execution_count": 88,
      "metadata": {
        "colab": {
          "base_uri": "https://localhost:8080/"
        },
        "id": "h9gytiRnIBDV",
        "outputId": "41878f39-c63f-4a37-fe86-d37273f5d1fa",
        "scrolled": true
      },
      "outputs": [
        {
          "data": {
            "text/plain": [
              "array([[ 0.  ,  0.  ,  0.  ,  0.  ],\n",
              "       [10.  , 10.  , 10.  ,  9.5 ],\n",
              "       [10.  ,  9.25,  9.  ,  7.  ],\n",
              "       [10.  ,  9.5 ,  9.85,  8.  ],\n",
              "       [10.  ,  9.75,  9.75,  9.  ],\n",
              "       [10.  , 10.  , 10.  ,  8.5 ],\n",
              "       [10.  , 10.  ,  9.75,  9.  ],\n",
              "       [10.  ,  9.5 ,  9.7 ,  9.  ],\n",
              "       [10.  ,  9.75,  9.35,  9.  ],\n",
              "       [10.  , 10.  ,  9.6 ,  8.  ],\n",
              "       [ 9.  ,  9.25,  9.9 ,  7.5 ],\n",
              "       [10.  , 10.  , 10.  ,  8.  ],\n",
              "       [10.  ,  8.5 ,  5.75,  7.  ],\n",
              "       [10.  ,  9.5 ,  9.75,  8.  ],\n",
              "       [ 9.25, 10.  , 10.  ,  8.5 ],\n",
              "       [10.  , 10.  , 10.  , 10.  ],\n",
              "       [ 8.5 ,  8.25,  0.  ,  0.  ],\n",
              "       [10.  , 10.  ,  9.9 ,  9.  ],\n",
              "       [10.  ,  9.5 ,  9.45,  9.  ],\n",
              "       [ 9.75, 10.  , 10.  ,  9.  ],\n",
              "       [10.  , 10.  ,  9.  , 10.  ],\n",
              "       [10.  ,  9.75, 10.  , 10.  ],\n",
              "       [ 9.75,  9.5 ,  5.25,  6.5 ],\n",
              "       [ 9.75,  9.75, 10.  ,  9.5 ],\n",
              "       [ 9.5 , 10.  , 10.  ,  7.5 ],\n",
              "       [10.  ,  9.25,  9.9 ,  9.  ],\n",
              "       [10.  , 10.  , 10.  ,  7.5 ],\n",
              "       [ 9.5 , 10.  ,  9.75,  9.5 ],\n",
              "       [ 9.75, 10.  ,  9.4 ,  7.  ],\n",
              "       [ 1.5 ,  5.5 ,  9.  ,  7.5 ],\n",
              "       [10.  ,  8.  , 10.  ,  9.  ],\n",
              "       [10.  ,  9.  , 10.  ,  9.  ],\n",
              "       [ 9.75, 10.  ,  9.6 ,  7.  ],\n",
              "       [10.  , 10.  , 10.  ,  7.  ],\n",
              "       [ 8.75, 10.  ,  8.25,  7.5 ],\n",
              "       [ 0.  ,  9.  ,  9.55,  6.5 ],\n",
              "       [ 9.5 , 10.  ,  9.75,  6.5 ],\n",
              "       [ 9.75,  9.5 ,  9.2 ,  7.  ],\n",
              "       [ 0.  ,  9.75,  0.  ,  8.5 ],\n",
              "       [10.  ,  9.5 ,  9.8 ,  6.5 ],\n",
              "       [10.  , 10.  , 10.  ,  9.  ],\n",
              "       [ 9.5 , 10.  ,  9.  ,  8.5 ],\n",
              "       [10.  , 10.  , 10.  , 10.  ],\n",
              "       [ 0.  ,  8.5 ,  9.6 ,  9.  ],\n",
              "       [ 9.75, 10.  , 10.  ,  8.  ]])"
            ]
          },
          "execution_count": 88,
          "metadata": {},
          "output_type": "execute_result"
        }
      ],
      "source": [
        "# Tạo array từ file\n",
        "# File 'P4DS-Grades.csv' chứa điểm môn này của khóa trước ;-)\n",
        "# 3 cột đầu ứng với điểm 3 HW (mỗi HW chiếm 50%/3 tổng điểm)\n",
        "# cột cuối ứng điểm đồ án cuối kỳ (chiếm 50% tổng điểm)\n",
        "p4ds_grades = np.genfromtxt(\"P4DS-Grades.csv\", delimiter=\",\", skip_header=True)\n",
        "p4ds_grades"
      ]
    },
    {
      "cell_type": "markdown",
      "metadata": {
        "id": "CmCq3c3DIBDV",
        "tags": []
      },
      "source": [
        "## Truy xuất (và thay đổi) các phần tử trong Numpy array"
      ]
    },
    {
      "cell_type": "markdown",
      "metadata": {
        "heading_collapsed": true,
        "id": "pTiEsMKjIBDV"
      },
      "source": [
        "### Integer indexing"
      ]
    },
    {
      "cell_type": "code",
      "execution_count": 89,
      "metadata": {
        "colab": {
          "base_uri": "https://localhost:8080/"
        },
        "hidden": true,
        "id": "zTcAntqoIBDW",
        "outputId": "3a42db3c-b7ae-427b-e673-a2f9fd550003"
      },
      "outputs": [
        {
          "data": {
            "text/plain": [
              "0.0"
            ]
          },
          "execution_count": 89,
          "metadata": {},
          "output_type": "execute_result"
        }
      ],
      "source": [
        "# Sinh viên đầu tiên có điểm đồ án cuối kỳ là bao nhiêu?\n",
        "p4ds_grades[0, -1]"
      ]
    },
    {
      "cell_type": "code",
      "execution_count": 90,
      "metadata": {
        "colab": {
          "base_uri": "https://localhost:8080/"
        },
        "hidden": true,
        "id": "Y_qXo2X0IBDW",
        "outputId": "5d3e02a7-bfb7-4383-9ffc-fe4d859f2736",
        "scrolled": true
      },
      "outputs": [
        {
          "data": {
            "text/plain": [
              "8.0"
            ]
          },
          "execution_count": 90,
          "metadata": {},
          "output_type": "execute_result"
        }
      ],
      "source": [
        "# Sinh viên cuối cùng có điểm đồ án cuối kỳ là bao nhiêu?\n",
        "p4ds_grades[-1, -1]"
      ]
    },
    {
      "cell_type": "code",
      "execution_count": 91,
      "metadata": {
        "hidden": true,
        "id": "m5AO1yJMIBDW",
        "scrolled": true
      },
      "outputs": [],
      "source": [
        "# Sửa điểm đồ án cho sinh viên đầu tiên thành 0.5\n",
        "p4ds_grades[0, -1] = 0.5"
      ]
    },
    {
      "cell_type": "markdown",
      "metadata": {
        "heading_collapsed": true,
        "id": "ll8DGCUkIBDW"
      },
      "source": [
        "### Slicing"
      ]
    },
    {
      "cell_type": "code",
      "execution_count": 92,
      "metadata": {
        "colab": {
          "base_uri": "https://localhost:8080/"
        },
        "hidden": true,
        "id": "M0pJwjbWIBDW",
        "outputId": "60fbf379-e76c-4dc6-f13a-8c0f5b293a26"
      },
      "outputs": [
        {
          "data": {
            "text/plain": [
              "array([[ 0.  ,  0.  ,  0.  ],\n",
              "       [10.  , 10.  , 10.  ],\n",
              "       [10.  ,  9.25,  9.  ],\n",
              "       [10.  ,  9.5 ,  9.85],\n",
              "       [10.  ,  9.75,  9.75]])"
            ]
          },
          "execution_count": 92,
          "metadata": {},
          "output_type": "execute_result"
        }
      ],
      "source": [
        "# 5 sinh viên đầu có điểm 3 HW là bao nhiêu?\n",
        "p4ds_grades[:5, :3]"
      ]
    },
    {
      "cell_type": "code",
      "execution_count": 93,
      "metadata": {
        "colab": {
          "base_uri": "https://localhost:8080/"
        },
        "hidden": true,
        "id": "VNZNgyGbIBDX",
        "outputId": "1aa19b5c-f9fa-4edb-d1f1-f61c6a06ae01",
        "scrolled": true
      },
      "outputs": [
        {
          "data": {
            "text/plain": [
              "array([[ 0.5],\n",
              "       [ 9.5],\n",
              "       [ 7. ],\n",
              "       [ 8. ],\n",
              "       [ 9. ],\n",
              "       [ 8.5],\n",
              "       [ 9. ],\n",
              "       [ 9. ],\n",
              "       [ 9. ],\n",
              "       [ 8. ],\n",
              "       [ 7.5],\n",
              "       [ 8. ],\n",
              "       [ 7. ],\n",
              "       [ 8. ],\n",
              "       [ 8.5],\n",
              "       [10. ],\n",
              "       [ 0. ],\n",
              "       [ 9. ],\n",
              "       [ 9. ],\n",
              "       [ 9. ],\n",
              "       [10. ],\n",
              "       [10. ],\n",
              "       [ 6.5],\n",
              "       [ 9.5],\n",
              "       [ 7.5],\n",
              "       [ 9. ],\n",
              "       [ 7.5],\n",
              "       [ 9.5],\n",
              "       [ 7. ],\n",
              "       [ 7.5],\n",
              "       [ 9. ],\n",
              "       [ 9. ],\n",
              "       [ 7. ],\n",
              "       [ 7. ],\n",
              "       [ 7.5],\n",
              "       [ 6.5],\n",
              "       [ 6.5],\n",
              "       [ 7. ],\n",
              "       [ 8.5],\n",
              "       [ 6.5],\n",
              "       [ 9. ],\n",
              "       [ 8.5],\n",
              "       [10. ],\n",
              "       [ 9. ],\n",
              "       [ 8. ]])"
            ]
          },
          "execution_count": 93,
          "metadata": {},
          "output_type": "execute_result"
        }
      ],
      "source": [
        "# Lấy ra cột điểm đồ án cuối kỳ\n",
        "p4ds_grades[:, -1:]"
      ]
    },
    {
      "cell_type": "code",
      "execution_count": 94,
      "metadata": {
        "hidden": true,
        "id": "_4HaukZ9IBDf"
      },
      "outputs": [],
      "source": [
        "# Lấy ra cột điểm đồ án cuối kỳ\n",
        "# bằng cách kết hợp slicing với integer indexing\n"
      ]
    },
    {
      "cell_type": "code",
      "execution_count": 95,
      "metadata": {
        "hidden": true,
        "id": "L-okkx-KIBDf",
        "scrolled": true
      },
      "outputs": [],
      "source": [
        "# Sinh viên cuối cùng có các điểm là bao nhiêu?\n",
        "# (lấy ra mảng một chiều)\n"
      ]
    },
    {
      "cell_type": "code",
      "execution_count": 96,
      "metadata": {
        "hidden": true,
        "id": "kwRnXInYIBDf",
        "scrolled": true
      },
      "outputs": [],
      "source": [
        "# Array có được khi thực hiện slicing\n",
        "# là view hay copy của array ban đầu?\n"
      ]
    },
    {
      "cell_type": "code",
      "execution_count": 97,
      "metadata": {
        "hidden": true,
        "id": "EJ-_VzPKIBDg"
      },
      "outputs": [],
      "source": [
        "# Để ý sự kết biệt giữa slicing ở Numpy array và slicing ở list\n"
      ]
    },
    {
      "cell_type": "markdown",
      "metadata": {
        "heading_collapsed": true,
        "id": "KerBFoa6IBDg"
      },
      "source": [
        "### Bool array indexing"
      ]
    },
    {
      "cell_type": "code",
      "execution_count": 98,
      "metadata": {
        "hidden": true,
        "id": "sbhOOM_eIBDg"
      },
      "outputs": [
        {
          "data": {
            "text/plain": [
              "array([0.5, 0. ])"
            ]
          },
          "execution_count": 98,
          "metadata": {},
          "output_type": "execute_result"
        }
      ],
      "source": [
        "# Lấy ra các điểm đồ án cuối kỳ < 5\n",
        "final_grades = p4ds_grades[:, -1]\n",
        "mask = final_grades < 5\n",
        "final_grades[mask]"
      ]
    },
    {
      "cell_type": "code",
      "execution_count": 99,
      "metadata": {
        "hidden": true,
        "id": "UjW5xF2iIBDg"
      },
      "outputs": [
        {
          "data": {
            "text/plain": [
              "array([8. , 9. , 8.5, 9. , 9. , 9. , 8. , 8. , 8. , 8.5, 9. , 9. , 9. ,\n",
              "       9. , 9. , 9. , 8.5, 9. , 8.5, 9. , 8. ])"
            ]
          },
          "execution_count": 99,
          "metadata": {},
          "output_type": "execute_result"
        }
      ],
      "source": [
        "# Lấy ra các điểm đồ án cuối kỳ >= 8 và <= 9\n",
        "final_grades = p4ds_grades[:, -1]\n",
        "mask = (final_grades >= 8) & (final_grades <= 9)\n",
        "final_grades[mask]"
      ]
    },
    {
      "cell_type": "code",
      "execution_count": 100,
      "metadata": {
        "hidden": true,
        "id": "bq0VOtOBIBDg"
      },
      "outputs": [
        {
          "data": {
            "text/plain": [
              "array([10., 10., 10., 10.])"
            ]
          },
          "execution_count": 100,
          "metadata": {},
          "output_type": "execute_result"
        }
      ],
      "source": [
        "# Lấy ra điểm HW1 của các sinh viên có điểm đồ án cuối kỳ = 10\n",
        "# bằng cách kết hợp bool array indexing với integer indexing\n",
        "p4ds_grades[final_grades == 10, 0]"
      ]
    },
    {
      "cell_type": "code",
      "execution_count": 101,
      "metadata": {
        "hidden": true,
        "id": "jG4y_jzSIBDh"
      },
      "outputs": [
        {
          "data": {
            "text/plain": [
              "array([[10.  , 10.  , 10.  , 10.  ],\n",
              "       [10.  , 10.  ,  9.  , 10.  ],\n",
              "       [10.  ,  9.75, 10.  , 10.  ],\n",
              "       [10.  , 10.  , 10.  , 10.  ]])"
            ]
          },
          "execution_count": 101,
          "metadata": {},
          "output_type": "execute_result"
        }
      ],
      "source": [
        "# Lấy ra các điểm ứng với các sinh viên có điểm đồ án cuối kỳ = 10\n",
        "# bằng cách kết hợp bool array indexing với slicing\n",
        "p4ds_grades[final_grades==10, :]"
      ]
    },
    {
      "cell_type": "markdown",
      "metadata": {
        "heading_collapsed": true,
        "id": "7bvne8XlIBDh"
      },
      "source": [
        "### Integer array indexing"
      ]
    },
    {
      "cell_type": "code",
      "execution_count": 102,
      "metadata": {
        "hidden": true,
        "id": "d07gmsnAIBDh"
      },
      "outputs": [
        {
          "data": {
            "text/plain": [
              "array([0.  , 9.75, 8.  ])"
            ]
          },
          "execution_count": 102,
          "metadata": {},
          "output_type": "execute_result"
        }
      ],
      "source": [
        "# Lấy ra điểm HW1 của sinh viên thứ nhất\n",
        "#        điểm HW2 của sinh viên thứ năm\n",
        "#        điểm đồ án cuối kỳ của sinh viên thứ mười\n",
        "p4ds_grades[[0, 4, 9], [0, 1, 3]]"
      ]
    },
    {
      "cell_type": "code",
      "execution_count": 103,
      "metadata": {
        "hidden": true,
        "id": "PaQW1UTHIBDh"
      },
      "outputs": [
        {
          "data": {
            "text/plain": [
              "array([[10.  ,  9.75,  9.35,  9.  ],\n",
              "       [10.  , 10.  , 10.  ,  9.  ],\n",
              "       [10.  , 10.  ,  9.  , 10.  ],\n",
              "       [10.  ,  8.  , 10.  ,  9.  ],\n",
              "       [10.  ,  9.5 ,  9.75,  8.  ]])"
            ]
          },
          "execution_count": 103,
          "metadata": {},
          "output_type": "execute_result"
        }
      ],
      "source": [
        "# Lấy ra ngẫu nhiên 5 sinh viên để xem điểm\n",
        "p4ds_grades[np.random.randint(0, len(p4ds_grades), size=5), :]\n"
      ]
    },
    {
      "cell_type": "markdown",
      "metadata": {
        "id": "EP0lF4ptIBDh",
        "tags": []
      },
      "source": [
        "## Fun example: vẽ hình"
      ]
    },
    {
      "cell_type": "markdown",
      "metadata": {
        "id": "AUMW5K7NIBDi"
      },
      "source": [
        "Vẽ bàn cờ 8x8 như hình. Bạn có thể tùy ý chọn màu cho ô (xem giá trị rgb của các màu [ở đây](https://flaviocopes.com/rgb-color-codes/)). Nếu bạn có array 3 chiều với `shape` là height x with x 3 và `dtype` là `np.uint8` thì bạn có thể trực quan hóa array này dưới dạng ảnh bằng hàm `plt.imshow`.\n",
        "![image.png](data:image/png;base64,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)"
      ]
    },
    {
      "cell_type": "code",
      "execution_count": 104,
      "metadata": {
        "id": "MRGIqHSgIBDi"
      },
      "outputs": [
        {
          "data": {
            "image/png": "[encoded data removed]",
            "text/plain": [
              "<Figure size 640x480 with 1 Axes>"
            ]
          },
          "metadata": {},
          "output_type": "display_data"
        }
      ],
      "source": [
        "a = np.zeros((8, 8, 3), dtype=np.uint8)\n",
        "yellow_green = [154, 205, 50]\n",
        "\n",
        "#TODO HERE\n",
        "a[::2, ::2] = yellow_green\n",
        "a[1::2, 1::2] = yellow_green\n",
        "\n",
        "plt.imshow(a)\n",
        "plt.xticks(range(8))\n",
        "plt.yticks(range(8));"
      ]
    },
    {
      "cell_type": "markdown",
      "metadata": {
        "id": "CCYFpMtNIBDi",
        "tags": []
      },
      "source": [
        "## Tính toán trên Numpy array"
      ]
    },
    {
      "cell_type": "markdown",
      "metadata": {
        "id": "vzteB7KRIBDj"
      },
      "source": [
        "Để sử dụng Numpy hiệu quả thì thay đổi cách tư duy: cần suy nghĩ về <font color=blue>các thao tác tính toán trên nguyên mảng</font> mà Numpy đã cung cấp, chứ không phải là các thao tác tính toán trên từng con số"
      ]
    },
    {
      "cell_type": "markdown",
      "metadata": {
        "id": "c7BH-jdzIBDj"
      },
      "source": [
        "Hầu hết mọi thao tác tính toán trên mảng mà ta có thể nghĩ tới thì đều đã được Numpy cung cấp:\n",
        "\n",
        "`+`, `np.add`\\\n",
        "`-`, `np.subtract`\\\n",
        "`-`, `np.negative`\\\n",
        "`*`, `np.multiply`\\\n",
        "`@`, `np.dot`\\\n",
        "`/`, `np.divide`\\\n",
        "`//`, `np.floor_divide`\\\n",
        "`**`, `np.power`\\\n",
        "`%`, `np.mod`\\\n",
        "`np.abs`\\\n",
        "`np.exp`\\\n",
        "`np.log`\\\n",
        "...\n",
        "\n",
        "`==`, `np.equal`\\\n",
        "`<`, `np.less`\\\n",
        "`>`, `np.greater`\\\n",
        "`!=`, `np.not_equal`\\\n",
        "`<=`, `np.less_equal`\\\n",
        "`>=`, `np.greater_equal`\\\n",
        "`&`, `np.bitwise_and`\\\n",
        "`|`, `np.bitwise_or`\\\n",
        "`~`, `np.bitwise_not`\\\n",
        "`np.nonzero`\\\n",
        "`np.any`\\\n",
        "`np.all`\\\n",
        "...\n",
        "\n",
        "`np.sum`\\\n",
        "`np.prod`\\\n",
        "`np.min`\\\n",
        "`np.max`\\\n",
        "`np.argmin`\\\n",
        "`np.argmax`\\\n",
        "...\n",
        "\n",
        "`np.mean`\\\n",
        "`np.std`\\\n",
        "`np.percentile`\\\n",
        "`np.histogram`\\\n",
        "`np.unique`\\\n",
        "`np.sort`\\\n",
        "`np.argsort`\\\n",
        "...\n",
        "\n",
        "Với một tính toán nào đó trên Numpy array, ngoài dạng hàm (hoặc toán tử) thì thường ta cũng có thể gọi phương thức tương đương từ Numpy array \\\n",
        "$\\to$ Giúp đáp ứng các \"khẩu vị code\" khác nhau của người dùng"
      ]
    },
    {
      "cell_type": "code",
      "execution_count": 105,
      "metadata": {
        "id": "7PSKjik3IBDj"
      },
      "outputs": [
        {
          "name": "stdout",
          "output_type": "stream",
          "text": [
            "[0. 0. 0. 0.]\n",
            "[10. 10. 10. 10.]\n"
          ]
        }
      ],
      "source": [
        "# Tính min, max của mỗi cột điểm\n",
        "# để xem có gì bất thường không\n",
        "print(np.min(p4ds_grades, axis=0))\n",
        "print(np.max(p4ds_grades, axis=0))"
      ]
    },
    {
      "cell_type": "code",
      "execution_count": 106,
      "metadata": {
        "id": "2EBgkMj_IBDj"
      },
      "outputs": [
        {
          "data": {
            "text/plain": [
              "array([ 0.25      ,  9.75      ,  8.20833333,  8.89166667,  9.41666667,\n",
              "        9.25      ,  9.45833333,  9.36666667,  9.35      ,  8.93333333,\n",
              "        8.44166667,  9.        ,  7.54166667,  8.875     ,  9.125     ,\n",
              "       10.        ,  2.79166667,  9.48333333,  9.325     ,  9.45833333,\n",
              "        9.83333333,  9.95833333,  7.33333333,  9.66666667,  8.66666667,\n",
              "        9.35833333,  8.75      ,  9.625     ,  8.35833333,  6.41666667,\n",
              "        9.16666667,  9.33333333,  8.39166667,  8.5       ,  8.25      ,\n",
              "        6.34166667,  8.125     ,  8.24166667,  5.875     ,  8.13333333,\n",
              "        9.5       ,  9.        , 10.        ,  7.51666667,  8.95833333])"
            ]
          },
          "execution_count": 106,
          "metadata": {},
          "output_type": "execute_result"
        }
      ],
      "source": [
        "# Tính cột điểm tổng kết\n",
        "avg_grades = (p4ds_grades[:,0] + p4ds_grades[:,1] + p4ds_grades[:,2])*0.5/3 + p4ds_grades[:,3]*0.5\n",
        "avg_grades"
      ]
    },
    {
      "cell_type": "code",
      "execution_count": 107,
      "metadata": {
        "id": "cAs6jfQ6IBDk"
      },
      "outputs": [
        {
          "data": {
            "text/plain": [
              "0.044444444444444446"
            ]
          },
          "execution_count": 107,
          "metadata": {},
          "output_type": "execute_result"
        }
      ],
      "source": [
        "# Tỉ lệ SV rớt môn là bao nhiêu?\n",
        "len(avg_grades[avg_grades < 5]) * 1.0 / len(avg_grades)"
      ]
    },
    {
      "cell_type": "markdown",
      "metadata": {
        "id": "gqi6AxD2IBDk"
      },
      "source": [
        "## Example: Iris dataset extraction"
      ]
    },
    {
      "cell_type": "markdown",
      "metadata": {
        "id": "gRcr8sOKIBDk"
      },
      "source": [
        "Trong bài này, chúng ta sẽ áp dụng numpy để tiền xử lý dữ liệu trong tập dữ liệu [Iris](https://www.kaggle.com/datasets/arshid/iris-flower-dataset/data)."
      ]
    },
    {
      "cell_type": "code",
      "execution_count": 108,
      "metadata": {
        "id": "tOeoIih9IBDk"
      },
      "outputs": [
        {
          "data": {
            "text/plain": [
              "['Iris-setosa', 'Iris-setosa', 'Iris-setosa', 'Iris-setosa', 'Iris-setosa']"
            ]
          },
          "execution_count": 108,
          "metadata": {},
          "output_type": "execute_result"
        }
      ],
      "source": [
        "# Q. Rút trích cột text về loại hoa từ tập dữ liệu\n",
        "iris = np.genfromtxt(\"Iris.csv\", delimiter=\",\", skip_header=True, dtype=None, encoding=None)\n",
        "species = [row[4] for row in iris]\n",
        "species[:5]"
      ]
    },
    {
      "cell_type": "code",
      "execution_count": 110,
      "metadata": {
        "id": "YmadRtzqIBDk"
      },
      "outputs": [
        {
          "data": {
            "text/plain": [
              "array([[5.1, 3.5, 1.4, 0.2],\n",
              "       [4.9, 3. , 1.4, 0.2],\n",
              "       [4.7, 3.2, 1.3, 0.2],\n",
              "       [4.6, 3.1, 1.5, 0.2],\n",
              "       [5. , 3.6, 1.4, 0.2]])"
            ]
          },
          "execution_count": 110,
          "metadata": {},
          "output_type": "execute_result"
        }
      ],
      "source": [
        "# Q. Convert mảng 1 chiều iris thành mảng 2 chiều bằng cách bỏ cột text\n",
        "iris_2d = np.array(\n",
        "    [row.tolist()[0:4] for row in iris]\n",
        ")\n",
        "iris_2d[0:5]"
      ]
    },
    {
      "cell_type": "code",
      "execution_count": 113,
      "metadata": {
        "id": "BNXFwj9xIBDl"
      },
      "outputs": [
        {
          "name": "stdout",
          "output_type": "stream",
          "text": [
            "5.843333333333334 5.8 0.8253012917851409\n"
          ]
        }
      ],
      "source": [
        "# Q. Tìm mean, median, standard deviation của sepallength (1st column)\n",
        "sepallength = iris_2d[:, 0]\n",
        "mean, median, std = np.mean(sepallength), np.median(sepallength), np.std(sepallength)\n",
        "print(mean, median, std)"
      ]
    },
    {
      "cell_type": "code",
      "execution_count": 114,
      "metadata": {
        "id": "TVc2eLbFIBDl"
      },
      "outputs": [
        {
          "data": {
            "text/plain": [
              "array([0.22222222, 0.16666667, 0.11111111, 0.08333333, 0.19444444,\n",
              "       0.30555556, 0.08333333, 0.19444444, 0.02777778, 0.16666667,\n",
              "       0.30555556, 0.13888889, 0.13888889, 0.        , 0.41666667,\n",
              "       0.38888889, 0.30555556, 0.22222222, 0.38888889, 0.22222222,\n",
              "       0.30555556, 0.22222222, 0.08333333, 0.22222222, 0.13888889,\n",
              "       0.19444444, 0.19444444, 0.25      , 0.25      , 0.11111111,\n",
              "       0.13888889, 0.30555556, 0.25      , 0.33333333, 0.16666667,\n",
              "       0.19444444, 0.33333333, 0.16666667, 0.02777778, 0.22222222,\n",
              "       0.19444444, 0.05555556, 0.02777778, 0.19444444, 0.22222222,\n",
              "       0.13888889, 0.22222222, 0.08333333, 0.27777778, 0.19444444,\n",
              "       0.75      , 0.58333333, 0.72222222, 0.33333333, 0.61111111,\n",
              "       0.38888889, 0.55555556, 0.16666667, 0.63888889, 0.25      ,\n",
              "       0.19444444, 0.44444444, 0.47222222, 0.5       , 0.36111111,\n",
              "       0.66666667, 0.36111111, 0.41666667, 0.52777778, 0.36111111,\n",
              "       0.44444444, 0.5       , 0.55555556, 0.5       , 0.58333333,\n",
              "       0.63888889, 0.69444444, 0.66666667, 0.47222222, 0.38888889,\n",
              "       0.33333333, 0.33333333, 0.41666667, 0.47222222, 0.30555556,\n",
              "       0.47222222, 0.66666667, 0.55555556, 0.36111111, 0.33333333,\n",
              "       0.33333333, 0.5       , 0.41666667, 0.19444444, 0.36111111,\n",
              "       0.38888889, 0.38888889, 0.52777778, 0.22222222, 0.38888889,\n",
              "       0.55555556, 0.41666667, 0.77777778, 0.55555556, 0.61111111,\n",
              "       0.91666667, 0.16666667, 0.83333333, 0.66666667, 0.80555556,\n",
              "       0.61111111, 0.58333333, 0.69444444, 0.38888889, 0.41666667,\n",
              "       0.58333333, 0.61111111, 0.94444444, 0.94444444, 0.47222222,\n",
              "       0.72222222, 0.36111111, 0.94444444, 0.55555556, 0.66666667,\n",
              "       0.80555556, 0.52777778, 0.5       , 0.58333333, 0.80555556,\n",
              "       0.86111111, 1.        , 0.58333333, 0.55555556, 0.5       ,\n",
              "       0.94444444, 0.55555556, 0.58333333, 0.47222222, 0.72222222,\n",
              "       0.66666667, 0.72222222, 0.41666667, 0.69444444, 0.66666667,\n",
              "       0.66666667, 0.55555556, 0.61111111, 0.52777778, 0.44444444])"
            ]
          },
          "execution_count": 114,
          "metadata": {},
          "output_type": "execute_result"
        }
      ],
      "source": [
        "# Q. Chuẩn hóa cột sepallength để giá trị trong khoảng [0,1]\n",
        "sepallength_norm = ((sepallength - sepallength.min()) /\n",
        "                        (sepallength.max() - sepallength.min()) )\n",
        "sepallength_norm"
      ]
    },
    {
      "cell_type": "code",
      "execution_count": 117,
      "metadata": {
        "id": "p1oBmpqwIBDl"
      },
      "outputs": [
        {
          "data": {
            "text/plain": [
              "0.9999999999999996"
            ]
          },
          "execution_count": 117,
          "metadata": {},
          "output_type": "execute_result"
        }
      ],
      "source": [
        "# Q. Tính softmax score của sepallength.\n",
        "\n",
        "# The Softmax regression is a form of logistic regression that normalizes an input\n",
        "# value into a vector of values that follows a probability distribution whose total sums up to 1.\n",
        "def softmax(x):\n",
        "    e_x = np.exp(x)\n",
        "    return e_x / e_x.sum(axis=0)\n",
        "\n",
        "softmax_score = softmax(sepallength)\n",
        "softmax_score.sum()"
      ]
    }
  ],
  "metadata": {
    "colab": {
      "provenance": []
    },
    "kernelspec": {
      "display_name": "Python 3 (ipykernel)",
      "language": "python",
      "name": "python3"
    },
    "language_info": {
      "codemirror_mode": {
        "name": "ipython",
        "version": 3
      },
      "file_extension": ".py",
      "mimetype": "text/x-python",
      "name": "python",
      "nbconvert_exporter": "python",
      "pygments_lexer": "ipython3",
      "version": "3.10.8"
    },
    "toc": {
      "base_numbering": 1,
      "nav_menu": {},
      "number_sections": false,
      "sideBar": true,
      "skip_h1_title": false,
      "title_cell": "Table of Contents",
      "title_sidebar": "Contents",
      "toc_cell": false,
      "toc_position": {
        "height": "338.4px",
        "left": "140px",
        "top": "32.133px",
        "width": "165px"
      },
      "toc_section_display": true,
      "toc_window_display": true
    }
  },
  "nbformat": 4,
  "nbformat_minor": 0
}

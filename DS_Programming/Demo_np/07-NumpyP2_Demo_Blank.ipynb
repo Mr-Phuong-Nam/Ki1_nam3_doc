{
 "cells": [
  {
   "cell_type": "markdown",
   "metadata": {
    "tags": []
   },
   "source": [
    "# Numpy (phần 2)"
   ]
  },
  {
   "cell_type": "markdown",
   "metadata": {},
   "source": [
    "**Reference**\n",
    "1. [Python Data Science Handbook\n",
    "](https://jakevdp.github.io/PythonDataScienceHandbook/02.00-introduction-to-numpy.htm)\n",
    "2. [Numpy cheat sheet](https://www.datacamp.com/cheat-sheet/numpy-cheat-sheet-data-analysis-in-python)"
   ]
  },
  {
   "cell_type": "code",
   "execution_count": 43,
   "metadata": {
    "hide_input": false
   },
   "outputs": [],
   "source": [
    "import numpy as np\n",
    "\n",
    "import matplotlib.pyplot as plt\n",
    "import seaborn; seaborn.set() # Plot styling\n",
    "import math # Thư viện built-in của Python"
   ]
  },
  {
   "cell_type": "markdown",
   "metadata": {},
   "source": [
    "## Review"
   ]
  },
  {
   "cell_type": "markdown",
   "metadata": {},
   "source": [
    "### Tạo Numpy array & xem thông tin của Numpy array"
   ]
  },
  {
   "cell_type": "markdown",
   "metadata": {},
   "source": [
    "Tạo Numpy array: \\\n",
    "`np.array` \\\n",
    "`np.full` `np.zeros` `np.ones` \\\n",
    "`np.random.random` \\\n",
    "`np.empty` \\\n",
    "`np.eye` \\\n",
    "`np.arange` `np.linspace` \\\n",
    "`np.reshape` \\\n",
    "`np.genfromtxt`\\\n",
    "...\n",
    "\n",
    "Xem thông tin của Numpy array: \\\n",
    "`a.ndim` `a.shape` `a.size` \\\n",
    "`a.dtype` \\\n",
    "`a.itemsize` `a.nbytes` \\\n",
    "..."
   ]
  },
  {
   "cell_type": "markdown",
   "metadata": {},
   "source": [
    "### Truy xuất (và thay đổi) các phần tử trong Numpy array"
   ]
  },
  {
   "cell_type": "markdown",
   "metadata": {},
   "source": [
    "- Integer indexing\n",
    "- Slicing\n",
    "- Bool array indexing\n",
    "- Integer array indexing\n",
    "- Kết hợp 4 loại trên với nhau (khi làm với array nhiều chiều)"
   ]
  },
  {
   "cell_type": "markdown",
   "metadata": {
    "tags": []
   },
   "source": [
    "### Tính toán trên Numpy array "
   ]
  },
  {
   "cell_type": "markdown",
   "metadata": {},
   "source": [
    "Để sử dụng Numpy hiệu quả thì thay đổi cách tư duy: cần suy nghĩ về <font color=blue>các thao tác tính toán trên nguyên mảng</font> mà Numpy đã cung cấp, chứ không phải là các thao tác tính toán trên từng con số"
   ]
  },
  {
   "cell_type": "markdown",
   "metadata": {},
   "source": [
    "Hầu hết mọi thao tác tính toán trên mảng mà ta có thể nghĩ tới thì đều đã được Numpy cung cấp:\n",
    "\n",
    "`+`, `np.add`\\\n",
    "`-`, `np.subtract`\\\n",
    "`-`, `np.negative`\\\n",
    "`*`, `np.multiply`\\\n",
    "`@`, `np.dot`\\\n",
    "`/`, `np.divide`\\\n",
    "`//`, `np.floor_divide`\\\n",
    "`**`, `np.power`\\\n",
    "`%`, `np.mod`\\\n",
    "`np.abs`\\\n",
    "`np.exp`\\\n",
    "`np.log`\\\n",
    "...\n",
    "\n",
    "`==`, `np.equal`\\\n",
    "`<`, `np.less`\\\n",
    "`>`, `np.greater`\\\n",
    "`!=`, `np.not_equal`\\\n",
    "`<=`, `np.less_equal`\\\n",
    "`>=`, `np.greater_equal`\\\n",
    "`&`, `np.bitwise_and`\\\n",
    "`|`, `np.bitwise_or`\\\n",
    "`~`, `np.bitwise_not`\\\n",
    "`np.nonzero`\\\n",
    "`np.any`\\\n",
    "`np.all`\\\n",
    "...\n",
    "\n",
    "`np.sum`\\\n",
    "`np.prod`\\\n",
    "`np.min`\\\n",
    "`np.max`\\\n",
    "`np.argmin`\\\n",
    "`np.argmax`\\\n",
    "...\n",
    "\n",
    "`np.mean`\\\n",
    "`np.std`\\\n",
    "`np.percentile`\\\n",
    "`np.histogram`\\\n",
    "`np.unique`\\\n",
    "`np.sort`\\\n",
    "`np.argsort`\\\n",
    "...\n",
    "\n",
    "Với một tính toán nào đó trên Numpy array, ngoài dạng hàm (hoặc toán tử) thì thường ta cũng có thể gọi phương thức tương đương từ Numpy array \\\n",
    "$\\to$ Giúp đáp ứng các \"khẩu vị code\" khác nhau của người dùng"
   ]
  },
  {
   "cell_type": "markdown",
   "metadata": {},
   "source": [
    "## Áp dụng Numpy để thực hiện khám phá và tiền xử lý dữ liệu"
   ]
  },
  {
   "cell_type": "markdown",
   "metadata": {},
   "source": [
    "**Trong phần này, chúng ta sẽ thực hiện quy trình khám phá dữ liệu trên tập dữ liệu P4DS-Grades.csv với sự hỗ trợ của thư viện `numpy`**"
   ]
  },
  {
   "cell_type": "code",
   "execution_count": 44,
   "metadata": {
    "scrolled": true,
    "tags": []
   },
   "outputs": [
    {
     "data": {
      "text/plain": [
       "array([[ 0.  ,  0.  ,  0.  ,  0.  ],\n",
       "       [10.  , 10.  , 10.  ,  9.5 ],\n",
       "       [10.  ,  9.25,  9.  ,  7.  ],\n",
       "       [10.  ,  9.5 ,  9.85,  8.  ],\n",
       "       [10.  ,  9.75,  9.75,  9.  ],\n",
       "       [10.  , 10.  , 10.  ,  8.5 ],\n",
       "       [10.  , 10.  ,  9.75,  9.  ],\n",
       "       [10.  ,  9.5 ,  9.7 ,  9.  ],\n",
       "       [10.  ,  9.75,  9.35,  9.  ],\n",
       "       [10.  , 10.  ,  9.6 ,  8.  ],\n",
       "       [ 9.  ,  9.25,  9.9 ,  7.5 ],\n",
       "       [10.  , 10.  , 10.  ,  8.  ],\n",
       "       [10.  ,  8.5 ,  5.75,  7.  ],\n",
       "       [10.  ,  9.5 ,  9.75,  8.  ],\n",
       "       [ 9.25, 10.  , 10.  ,  8.5 ],\n",
       "       [10.  , 10.  , 10.  , 10.  ],\n",
       "       [ 8.5 ,  8.25,  0.  ,  0.  ],\n",
       "       [10.  , 10.  ,  9.9 ,  9.  ],\n",
       "       [10.  ,  9.5 ,  9.45,  9.  ],\n",
       "       [ 9.75, 10.  , 10.  ,  9.  ],\n",
       "       [10.  , 10.  ,  9.  , 10.  ],\n",
       "       [10.  ,  9.75, 10.  , 10.  ],\n",
       "       [ 9.75,  9.5 ,  5.25,  6.5 ],\n",
       "       [ 9.75,  9.75, 10.  ,  9.5 ],\n",
       "       [ 9.5 , 10.  , 10.  ,  7.5 ],\n",
       "       [10.  ,  9.25,  9.9 ,  9.  ],\n",
       "       [10.  , 10.  , 10.  ,  7.5 ],\n",
       "       [ 9.5 , 10.  ,  9.75,  9.5 ],\n",
       "       [ 9.75, 10.  ,  9.4 ,  7.  ],\n",
       "       [ 1.5 ,  5.5 ,  9.  ,  7.5 ],\n",
       "       [10.  ,  8.  , 10.  ,  9.  ],\n",
       "       [10.  ,  9.  , 10.  ,  9.  ],\n",
       "       [ 9.75, 10.  ,  9.6 ,  7.  ],\n",
       "       [10.  , 10.  , 10.  ,  7.  ],\n",
       "       [ 8.75, 10.  ,  8.25,  7.5 ],\n",
       "       [ 0.  ,  9.  ,  9.55,  6.5 ],\n",
       "       [ 9.5 , 10.  ,  9.75,  6.5 ],\n",
       "       [ 9.75,  9.5 ,  9.2 ,  7.  ],\n",
       "       [ 0.  ,  9.75,  0.  ,  8.5 ],\n",
       "       [10.  ,  9.5 ,  9.8 ,  6.5 ],\n",
       "       [10.  , 10.  , 10.  ,  9.  ],\n",
       "       [ 9.5 , 10.  ,  9.  ,  8.5 ],\n",
       "       [10.  , 10.  , 10.  , 10.  ],\n",
       "       [ 0.  ,  8.5 ,  9.6 ,  9.  ],\n",
       "       [ 9.75, 10.  , 10.  ,  8.  ]])"
      ]
     },
     "execution_count": 44,
     "metadata": {},
     "output_type": "execute_result"
    }
   ],
   "source": [
    "# Tạo array từ file\n",
    "# File 'P4DS-Grades.csv' chứa điểm này của khóa trước ;-)\n",
    "# 3 cột đầu ứng với điểm 3 HW (mỗi HW chiếm 50%/3 tổng điểm)\n",
    "# cột cuối ứng điểm đồ án cuối kỳ (chiếm 50% tổng điểm)\n",
    "p4ds_grades = np.genfromtxt('Data/P4DS-Grades.csv',\n",
    "                            delimiter=',', skip_header=1)\n",
    "p4ds_grades"
   ]
  },
  {
   "cell_type": "code",
   "execution_count": 45,
   "metadata": {},
   "outputs": [
    {
     "data": {
      "text/plain": [
       "(45, 4)"
      ]
     },
     "execution_count": 45,
     "metadata": {},
     "output_type": "execute_result"
    }
   ],
   "source": [
    "#Dữ liệu có bao nhiêu dòng và bao nhiêu cột?\n",
    "p4ds_grades.shape"
   ]
  },
  {
   "cell_type": "code",
   "execution_count": 46,
   "metadata": {
    "tags": []
   },
   "outputs": [
    {
     "name": "stdout",
     "output_type": "stream",
     "text": [
      "[0. 0. 0. 0.]\n",
      "[10. 10. 10. 10.]\n"
     ]
    }
   ],
   "source": [
    "# Tính min, max của mỗi cột điểm\n",
    "# để xem có gì bất thường không\n",
    "print(np.min(p4ds_grades, axis=0))\n",
    "print(np.max(p4ds_grades, axis=0))"
   ]
  },
  {
   "cell_type": "code",
   "execution_count": 47,
   "metadata": {
    "scrolled": true,
    "tags": []
   },
   "outputs": [
    {
     "data": {
      "text/plain": [
       "array([ 0.        ,  9.75      ,  8.20833333,  8.89166667,  9.41666667,\n",
       "        9.25      ,  9.45833333,  9.36666667,  9.35      ,  8.93333333,\n",
       "        8.44166667,  9.        ,  7.54166667,  8.875     ,  9.125     ,\n",
       "       10.        ,  2.79166667,  9.48333333,  9.325     ,  9.45833333,\n",
       "        9.83333333,  9.95833333,  7.33333333,  9.66666667,  8.66666667,\n",
       "        9.35833333,  8.75      ,  9.625     ,  8.35833333,  6.41666667,\n",
       "        9.16666667,  9.33333333,  8.39166667,  8.5       ,  8.25      ,\n",
       "        6.34166667,  8.125     ,  8.24166667,  5.875     ,  8.13333333,\n",
       "        9.5       ,  9.        , 10.        ,  7.51666667,  8.95833333])"
      ]
     },
     "execution_count": 47,
     "metadata": {},
     "output_type": "execute_result"
    }
   ],
   "source": [
    "# Tính cột điểm tổng kết\n",
    "avg_grades = p4ds_grades[:,0]*0.5/3 + p4ds_grades[:,1]*0.5/3 + p4ds_grades[:,2]*0.5/3 + p4ds_grades[:,3]*0.5\n",
    "avg_grades"
   ]
  },
  {
   "cell_type": "code",
   "execution_count": 48,
   "metadata": {},
   "outputs": [
    {
     "data": {
      "text/plain": [
       "0.044444444444444446"
      ]
     },
     "execution_count": 48,
     "metadata": {},
     "output_type": "execute_result"
    }
   ],
   "source": [
    "# Tỉ lệ sinh viên rớt môn là bao nhiêu?\n",
    "np.sum(avg_grades < 5)/len(avg_grades)"
   ]
  },
  {
   "cell_type": "code",
   "execution_count": 49,
   "metadata": {
    "scrolled": true
   },
   "outputs": [
    {
     "name": "stdout",
     "output_type": "stream",
     "text": [
      "8.443703703703703\n",
      "3.2856825788751727\n"
     ]
    }
   ],
   "source": [
    "# Tính mean & standard deviation của cột điểm tổng kết\n",
    "print(np.mean(avg_grades))\n",
    "print(np.var(avg_grades))"
   ]
  },
  {
   "cell_type": "code",
   "execution_count": 50,
   "metadata": {},
   "outputs": [
    {
     "name": "stdout",
     "output_type": "stream",
     "text": [
      "0.0\n",
      "8.241666666666667\n",
      "8.958333333333334\n",
      "9.416666666666668\n",
      "10.0\n"
     ]
    }
   ],
   "source": [
    "# Tính min, lower quartile, median, upper quartile, max \n",
    "# của cột điểm tổng kết\n",
    "print(np.percentile(avg_grades, 0))\n",
    "print(np.percentile(avg_grades, 25))\n",
    "print(np.percentile(avg_grades, 50))\n",
    "print(np.percentile(avg_grades, 75))\n",
    "print(np.percentile(avg_grades, 100))"
   ]
  },
  {
   "cell_type": "code",
   "execution_count": 51,
   "metadata": {},
   "outputs": [
    {
     "name": "stdout",
     "output_type": "stream",
     "text": [
      "1 1\n",
      "1 1\n",
      "2 2\n",
      "3 3\n",
      "4 4\n",
      "5 5\n",
      "5 5\n",
      "6 6\n",
      "7 7\n",
      "8 8\n",
      "9 9\n"
     ]
    }
   ],
   "source": [
    "# So sánh hàm tính percentile của Numpy với hàm tự viết trước đây\n",
    "def compute_percentile(data, p):\n",
    "    sorted_data = sorted(data)\n",
    "    i = int(p / 100 * (len(sorted_data)-1))\n",
    "    return sorted_data[i]\n",
    "\n",
    "data = np.arange(1, 10)\n",
    "for p in range(0, 101, 10):\n",
    "    print(compute_percentile(data, p), end=' ')\n",
    "    print(np.percentile(data, p, method='lower'))"
   ]
  },
  {
   "cell_type": "code",
   "execution_count": 52,
   "metadata": {},
   "outputs": [
    {
     "data": {
      "text/plain": [
       "[<matplotlib.lines.Line2D at 0x7fcc15096020>]"
      ]
     },
     "execution_count": 52,
     "metadata": {},
     "output_type": "execute_result"
    },
    {
     "data": {
      "image/png": "[encoded data removed]",
      "text/plain": [
       "<Figure size 640x480 with 1 Axes>"
      ]
     },
     "metadata": {},
     "output_type": "display_data"
    }
   ],
   "source": [
    "# Tính histogram của cột điểm tổng kết, rồi vẽ\n",
    "bins = np.linspace(0, 10, 10)\n",
    "counts = np.zeros_like(bins)\n",
    "\n",
    "i = np.searchsorted(bins, avg_grades)\n",
    "np.add.at(counts, i, 1)\n",
    "plt.step(bins, counts)\n"
   ]
  },
  {
   "cell_type": "code",
   "execution_count": 53,
   "metadata": {},
   "outputs": [
    {
     "data": {
      "text/plain": [
       "array([ 1,  0,  1,  0,  0,  1,  2,  3, 15, 22])"
      ]
     },
     "execution_count": 53,
     "metadata": {},
     "output_type": "execute_result"
    }
   ],
   "source": [
    "np.histogram(avg_grades, 10)[0]"
   ]
  },
  {
   "cell_type": "code",
   "execution_count": 54,
   "metadata": {},
   "outputs": [
    {
     "data": {
      "text/plain": [
       "(array([ 1.,  0.,  1.,  0.,  0.,  1.,  2.,  3., 15., 22.]),\n",
       " array([ 0.,  1.,  2.,  3.,  4.,  5.,  6.,  7.,  8.,  9., 10.]),\n",
       " <BarContainer object of 10 artists>)"
      ]
     },
     "execution_count": 54,
     "metadata": {},
     "output_type": "execute_result"
    },
    {
     "data": {
      "image/png": "[encoded data removed]",
      "text/plain": [
       "<Figure size 640x480 with 1 Axes>"
      ]
     },
     "metadata": {},
     "output_type": "display_data"
    }
   ],
   "source": [
    "counts, bins = np.histogram(avg_grades, bins=range(11))\n",
    "plt.hist(bins[:-1], bins, edgecolor='black', weights=counts)"
   ]
  },
  {
   "cell_type": "code",
   "execution_count": 55,
   "metadata": {},
   "outputs": [
    {
     "data": {
      "image/png": "[encoded data removed]",
      "text/plain": [
       "<Figure size 640x480 with 1 Axes>"
      ]
     },
     "metadata": {},
     "output_type": "display_data"
    }
   ],
   "source": [
    "# Tính histogram và vẽ luôn một lần bằng câu lệnh plt.hist\n",
    "plt.figure()\n",
    "plt.hist(avg_grades, bins=range(11), edgecolor='black');"
   ]
  },
  {
   "cell_type": "code",
   "execution_count": 56,
   "metadata": {},
   "outputs": [
    {
     "data": {
      "text/plain": [
       "array([[ 0.        ,  0.        ,  0.        ,  0.        ,  0.        ],\n",
       "       [10.        , 10.        , 10.        ,  9.5       ,  9.75      ],\n",
       "       [10.        ,  9.25      ,  9.        ,  7.        ,  8.20833333],\n",
       "       [10.        ,  9.5       ,  9.85      ,  8.        ,  8.89166667],\n",
       "       [10.        ,  9.75      ,  9.75      ,  9.        ,  9.41666667],\n",
       "       [10.        , 10.        , 10.        ,  8.5       ,  9.25      ],\n",
       "       [10.        , 10.        ,  9.75      ,  9.        ,  9.45833333],\n",
       "       [10.        ,  9.5       ,  9.7       ,  9.        ,  9.36666667],\n",
       "       [10.        ,  9.75      ,  9.35      ,  9.        ,  9.35      ],\n",
       "       [10.        , 10.        ,  9.6       ,  8.        ,  8.93333333],\n",
       "       [ 9.        ,  9.25      ,  9.9       ,  7.5       ,  8.44166667],\n",
       "       [10.        , 10.        , 10.        ,  8.        ,  9.        ],\n",
       "       [10.        ,  8.5       ,  5.75      ,  7.        ,  7.54166667],\n",
       "       [10.        ,  9.5       ,  9.75      ,  8.        ,  8.875     ],\n",
       "       [ 9.25      , 10.        , 10.        ,  8.5       ,  9.125     ],\n",
       "       [10.        , 10.        , 10.        , 10.        , 10.        ],\n",
       "       [ 8.5       ,  8.25      ,  0.        ,  0.        ,  2.79166667],\n",
       "       [10.        , 10.        ,  9.9       ,  9.        ,  9.48333333],\n",
       "       [10.        ,  9.5       ,  9.45      ,  9.        ,  9.325     ],\n",
       "       [ 9.75      , 10.        , 10.        ,  9.        ,  9.45833333],\n",
       "       [10.        , 10.        ,  9.        , 10.        ,  9.83333333],\n",
       "       [10.        ,  9.75      , 10.        , 10.        ,  9.95833333],\n",
       "       [ 9.75      ,  9.5       ,  5.25      ,  6.5       ,  7.33333333],\n",
       "       [ 9.75      ,  9.75      , 10.        ,  9.5       ,  9.66666667],\n",
       "       [ 9.5       , 10.        , 10.        ,  7.5       ,  8.66666667],\n",
       "       [10.        ,  9.25      ,  9.9       ,  9.        ,  9.35833333],\n",
       "       [10.        , 10.        , 10.        ,  7.5       ,  8.75      ],\n",
       "       [ 9.5       , 10.        ,  9.75      ,  9.5       ,  9.625     ],\n",
       "       [ 9.75      , 10.        ,  9.4       ,  7.        ,  8.35833333],\n",
       "       [ 1.5       ,  5.5       ,  9.        ,  7.5       ,  6.41666667],\n",
       "       [10.        ,  8.        , 10.        ,  9.        ,  9.16666667],\n",
       "       [10.        ,  9.        , 10.        ,  9.        ,  9.33333333],\n",
       "       [ 9.75      , 10.        ,  9.6       ,  7.        ,  8.39166667],\n",
       "       [10.        , 10.        , 10.        ,  7.        ,  8.5       ],\n",
       "       [ 8.75      , 10.        ,  8.25      ,  7.5       ,  8.25      ],\n",
       "       [ 0.        ,  9.        ,  9.55      ,  6.5       ,  6.34166667],\n",
       "       [ 9.5       , 10.        ,  9.75      ,  6.5       ,  8.125     ],\n",
       "       [ 9.75      ,  9.5       ,  9.2       ,  7.        ,  8.24166667],\n",
       "       [ 0.        ,  9.75      ,  0.        ,  8.5       ,  5.875     ],\n",
       "       [10.        ,  9.5       ,  9.8       ,  6.5       ,  8.13333333],\n",
       "       [10.        , 10.        , 10.        ,  9.        ,  9.5       ],\n",
       "       [ 9.5       , 10.        ,  9.        ,  8.5       ,  9.        ],\n",
       "       [10.        , 10.        , 10.        , 10.        , 10.        ],\n",
       "       [ 0.        ,  8.5       ,  9.6       ,  9.        ,  7.51666667],\n",
       "       [ 9.75      , 10.        , 10.        ,  8.        ,  8.95833333]])"
      ]
     },
     "execution_count": 56,
     "metadata": {},
     "output_type": "execute_result"
    }
   ],
   "source": [
    "# Thêm cột điểm tổng kết vào array gồm 4 cột điểm thành phần\n",
    "p4ds_grades_final = np.concatenate([p4ds_grades, avg_grades.reshape(-1, 1)], axis=1)\n",
    "p4ds_grades_final"
   ]
  },
  {
   "cell_type": "code",
   "execution_count": 57,
   "metadata": {},
   "outputs": [],
   "source": [
    "# Lưu array gồm 4 cột điểm thành phần + 1 cột điểm tổng kết \n",
    "# xuống file\n",
    "# Bạn có thể dùng hàm np.savetxt\n",
    "np.savetxt(\"Data/P4DS_GradeFinal.csv\",p4ds_grades_final.round(1), delimiter=',',fmt='%1.1f')"
   ]
  },
  {
   "cell_type": "markdown",
   "metadata": {},
   "source": [
    "## Fancy Indexing"
   ]
  },
  {
   "cell_type": "code",
   "execution_count": 58,
   "metadata": {},
   "outputs": [
    {
     "name": "stdout",
     "output_type": "stream",
     "text": [
      "[  0  10  20  30  40  50  60  70  80  90 100]\n"
     ]
    }
   ],
   "source": [
    "x = np.arange(11) * 10\n",
    "print(x)"
   ]
  },
  {
   "cell_type": "code",
   "execution_count": 59,
   "metadata": {},
   "outputs": [
    {
     "data": {
      "text/plain": [
       "(0, 30, 50)"
      ]
     },
     "execution_count": 59,
     "metadata": {},
     "output_type": "execute_result"
    }
   ],
   "source": [
    "# Normal index\n",
    "x[0], x[3], x[5]"
   ]
  },
  {
   "cell_type": "code",
   "execution_count": 60,
   "metadata": {},
   "outputs": [
    {
     "data": {
      "text/plain": [
       "array([ 0, 50, 30])"
      ]
     },
     "execution_count": 60,
     "metadata": {},
     "output_type": "execute_result"
    }
   ],
   "source": [
    "# Dùng list như index\n",
    "x[[0, 5, 3]]"
   ]
  },
  {
   "cell_type": "markdown",
   "metadata": {},
   "source": [
    "Khi dùng *fancy indexing*, `shape` của kết quả sẽ là `shape` của *index array*, chứ không phải *mảng được index*"
   ]
  },
  {
   "cell_type": "code",
   "execution_count": 61,
   "metadata": {},
   "outputs": [
    {
     "data": {
      "text/plain": [
       "array([[30, 70],\n",
       "       [40, 50]])"
      ]
     },
     "execution_count": 61,
     "metadata": {},
     "output_type": "execute_result"
    }
   ],
   "source": [
    "ind = np.array([[3, 7],\n",
    "                [4, 5]])\n",
    "x[ind]"
   ]
  },
  {
   "cell_type": "markdown",
   "metadata": {},
   "source": [
    "**Fancy indexing 2D**"
   ]
  },
  {
   "cell_type": "code",
   "execution_count": 62,
   "metadata": {},
   "outputs": [
    {
     "data": {
      "text/plain": [
       "array([[ 0,  1,  2,  3],\n",
       "       [ 4,  5,  6,  7],\n",
       "       [ 8,  9, 10, 11]])"
      ]
     },
     "execution_count": 62,
     "metadata": {},
     "output_type": "execute_result"
    }
   ],
   "source": [
    "X = np.arange(12).reshape((3, 4))\n",
    "X"
   ]
  },
  {
   "cell_type": "code",
   "execution_count": 63,
   "metadata": {},
   "outputs": [
    {
     "data": {
      "text/plain": [
       "array([ 2,  5, 11])"
      ]
     },
     "execution_count": 63,
     "metadata": {},
     "output_type": "execute_result"
    }
   ],
   "source": [
    "# Fancy index 2D\n",
    "row = np.array([0, 1, 2])\n",
    "col = np.array([2, 1, 3])\n",
    "X[row, col]"
   ]
  },
  {
   "cell_type": "code",
   "execution_count": 64,
   "metadata": {},
   "outputs": [
    {
     "data": {
      "text/plain": [
       "array([10,  8,  9])"
      ]
     },
     "execution_count": 64,
     "metadata": {},
     "output_type": "execute_result"
    }
   ],
   "source": [
    "#Fancy and simple index\n",
    "X[2, [2, 0, 1]]"
   ]
  },
  {
   "cell_type": "code",
   "execution_count": 65,
   "metadata": {},
   "outputs": [
    {
     "data": {
      "text/plain": [
       "array([[ 6,  7],\n",
       "       [10, 11]])"
      ]
     },
     "execution_count": 65,
     "metadata": {},
     "output_type": "execute_result"
    }
   ],
   "source": [
    "#Fancy and simple index\n",
    "X[1:, [2, 3]]"
   ]
  },
  {
   "cell_type": "markdown",
   "metadata": {},
   "source": [
    "## Sorting"
   ]
  },
  {
   "cell_type": "code",
   "execution_count": 66,
   "metadata": {},
   "outputs": [
    {
     "data": {
      "text/plain": [
       "array([2, 1, 4, 3, 5])"
      ]
     },
     "execution_count": 66,
     "metadata": {},
     "output_type": "execute_result"
    }
   ],
   "source": [
    "# Sort mảng x\n",
    "x = np.array([2, 1, 4, 3, 5])\n",
    "np.sort(x)\n",
    "x"
   ]
  },
  {
   "cell_type": "code",
   "execution_count": 67,
   "metadata": {},
   "outputs": [
    {
     "data": {
      "text/plain": [
       "array([1, 2, 3, 4, 5])"
      ]
     },
     "execution_count": 67,
     "metadata": {},
     "output_type": "execute_result"
    }
   ],
   "source": [
    "# Sort mảng x\n",
    "x = np.array([2, 1, 4, 3, 5])\n",
    "x.sort()\n",
    "x"
   ]
  },
  {
   "cell_type": "code",
   "execution_count": 68,
   "metadata": {},
   "outputs": [
    {
     "data": {
      "text/plain": [
       "array([1, 2, 3, 4, 5])"
      ]
     },
     "execution_count": 68,
     "metadata": {},
     "output_type": "execute_result"
    }
   ],
   "source": [
    "# argsort\n",
    "x[np.argsort(x)]"
   ]
  },
  {
   "cell_type": "markdown",
   "metadata": {},
   "source": [
    "**2D Sort**"
   ]
  },
  {
   "cell_type": "code",
   "execution_count": 69,
   "metadata": {},
   "outputs": [
    {
     "name": "stdout",
     "output_type": "stream",
     "text": [
      "[[0 3 5 1 8 8]\n",
      " [4 4 9 7 9 2]\n",
      " [1 9 2 0 1 2]\n",
      " [2 8 6 0 0 9]]\n"
     ]
    }
   ],
   "source": [
    "X = np.random.randint(0, 10, (4, 6))\n",
    "print(X)"
   ]
  },
  {
   "cell_type": "code",
   "execution_count": 70,
   "metadata": {},
   "outputs": [
    {
     "data": {
      "text/plain": [
       "array([[0, 3, 2, 0, 0, 2],\n",
       "       [1, 4, 5, 0, 1, 2],\n",
       "       [2, 8, 6, 1, 8, 8],\n",
       "       [4, 9, 9, 7, 9, 9]])"
      ]
     },
     "execution_count": 70,
     "metadata": {},
     "output_type": "execute_result"
    }
   ],
   "source": [
    "# sort each column of X\n",
    "np.sort(X, axis=0)"
   ]
  },
  {
   "cell_type": "code",
   "execution_count": 71,
   "metadata": {},
   "outputs": [
    {
     "data": {
      "text/plain": [
       "array([[0, 1, 3, 5, 8, 8],\n",
       "       [2, 4, 4, 7, 9, 9],\n",
       "       [0, 1, 1, 2, 2, 9],\n",
       "       [0, 0, 2, 6, 8, 9]])"
      ]
     },
     "execution_count": 71,
     "metadata": {},
     "output_type": "execute_result"
    }
   ],
   "source": [
    "# sort each row of X\n",
    "np.sort(X, axis=1)"
   ]
  },
  {
   "cell_type": "code",
   "execution_count": 72,
   "metadata": {},
   "outputs": [
    {
     "data": {
      "text/plain": [
       "array([2, 1, 3, 4, 6, 5, 7])"
      ]
     },
     "execution_count": 72,
     "metadata": {},
     "output_type": "execute_result"
    }
   ],
   "source": [
    "# Tìm ra k số nhỏ nhất với partition\n",
    "x = np.array([7, 2, 3, 1, 6, 5, 4])\n",
    "np.partition(x, 3)"
   ]
  },
  {
   "cell_type": "code",
   "execution_count": 73,
   "metadata": {},
   "outputs": [
    {
     "data": {
      "text/plain": [
       "array([[0, 1, 3, 5, 8, 8],\n",
       "       [2, 4, 4, 7, 9, 9],\n",
       "       [0, 1, 1, 9, 2, 2],\n",
       "       [0, 0, 2, 6, 8, 9]])"
      ]
     },
     "execution_count": 73,
     "metadata": {},
     "output_type": "execute_result"
    }
   ],
   "source": [
    "# Tìm ra k số nhỏ nhất mỗi hàng\n",
    "np.partition(X, 2, axis=1)"
   ]
  },
  {
   "cell_type": "markdown",
   "metadata": {},
   "source": [
    " "
   ]
  },
  {
   "cell_type": "markdown",
   "metadata": {
    "tags": []
   },
   "source": [
    "## Broadcasting"
   ]
  },
  {
   "cell_type": "markdown",
   "metadata": {},
   "source": [
    "Là cơ chế của Numpy cho phép thực hiện tính toán khi các array không có cùng shape như thể có cùng shape (ở bên dưới, vụ này sẽ được thực hiện một cách hiệu quả: sẽ không tạo ra các array mới có cùng shape).\n",
    "\n",
    "Ví dụ: \n",
    "\n",
    "`a = np.array([1, 2, 3])`\n",
    "\n",
    "`a + 10`\n",
    "\n",
    "[Luật broadcasting](https://numpy.org/devdocs/user/quickstart.html#broadcasting-rules):\n",
    "\n",
    "- Rule 1: If the two arrays differ in their number of dimensions, the shape of the one with fewer dimensions is *padded* with ones on its leading (left) side.\n",
    "- Rule 2: If the shape of the two arrays does not match in any dimension, the array with shape equal to 1 in that dimension is stretched to match the other shape.\n",
    "- Rule 3: If in any dimension the sizes disagree and neither is equal to 1, an error is raised."
   ]
  },
  {
   "cell_type": "code",
   "execution_count": 74,
   "metadata": {},
   "outputs": [
    {
     "name": "stdout",
     "output_type": "stream",
     "text": [
      "(2, 3)\n",
      "(3,)\n",
      "[[1. 1. 1.]\n",
      " [1. 1. 1.]]\n",
      "[0 1 2]\n"
     ]
    }
   ],
   "source": [
    "#Ví dụ 1: 1D + 2D\n",
    "M = np.ones((2, 3))\n",
    "a = np.arange(3)\n",
    "print(f'{M.shape}\\n{a.shape}')\n",
    "print(M)\n",
    "print(a)"
   ]
  },
  {
   "cell_type": "code",
   "execution_count": 75,
   "metadata": {},
   "outputs": [
    {
     "data": {
      "text/plain": [
       "array([[1., 2., 3.],\n",
       "       [1., 2., 3.]])"
      ]
     },
     "execution_count": 75,
     "metadata": {},
     "output_type": "execute_result"
    }
   ],
   "source": [
    "M+a"
   ]
  },
  {
   "cell_type": "code",
   "execution_count": 76,
   "metadata": {},
   "outputs": [
    {
     "data": {
      "text/plain": [
       "(2, 3)"
      ]
     },
     "execution_count": 76,
     "metadata": {},
     "output_type": "execute_result"
    }
   ],
   "source": [
    "# Ví dụ 2\n",
    "a = np.array([[4, 5, 6],\n",
    "              [7, 8, 9]])\n",
    "a.shape"
   ]
  },
  {
   "cell_type": "code",
   "execution_count": 77,
   "metadata": {},
   "outputs": [
    {
     "data": {
      "text/plain": [
       "array([[14, 15, 16],\n",
       "       [17, 18, 19]])"
      ]
     },
     "execution_count": 77,
     "metadata": {},
     "output_type": "execute_result"
    }
   ],
   "source": [
    "a + 10"
   ]
  },
  {
   "cell_type": "code",
   "execution_count": 78,
   "metadata": {},
   "outputs": [
    {
     "name": "stdout",
     "output_type": "stream",
     "text": [
      "(2, 3)\n",
      "(3,)\n"
     ]
    }
   ],
   "source": [
    "# Ví dụ 3\n",
    "a = np.array([[4, 5, 6],\n",
    "              [7, 8, 9]])\n",
    "b = np.array([1, 2, 3])\n",
    "print(f'{a.shape}\\n{b.shape}')"
   ]
  },
  {
   "cell_type": "code",
   "execution_count": 79,
   "metadata": {},
   "outputs": [
    {
     "data": {
      "text/plain": [
       "array([[ 4, 10, 18],\n",
       "       [ 7, 16, 27]])"
      ]
     },
     "execution_count": 79,
     "metadata": {},
     "output_type": "execute_result"
    }
   ],
   "source": [
    "a * b"
   ]
  },
  {
   "cell_type": "code",
   "execution_count": 80,
   "metadata": {
    "tags": []
   },
   "outputs": [
    {
     "name": "stdout",
     "output_type": "stream",
     "text": [
      "(3, 1)\n",
      "(3,)\n"
     ]
    }
   ],
   "source": [
    "# Broadcasting - ví dụ 4\n",
    "a = np.array([[4],\n",
    "              [5],\n",
    "              [6]])\n",
    "b = np.array([1, 2, 3])\n",
    "print(f'{a.shape}\\n{b.shape}')"
   ]
  },
  {
   "cell_type": "code",
   "execution_count": 81,
   "metadata": {},
   "outputs": [
    {
     "data": {
      "text/plain": [
       "array([[5, 6, 7],\n",
       "       [6, 7, 8],\n",
       "       [7, 8, 9]])"
      ]
     },
     "execution_count": 81,
     "metadata": {},
     "output_type": "execute_result"
    }
   ],
   "source": [
    "a + b"
   ]
  },
  {
   "cell_type": "code",
   "execution_count": 82,
   "metadata": {},
   "outputs": [
    {
     "name": "stdout",
     "output_type": "stream",
     "text": [
      "(2, 3)\n",
      "(2,)\n"
     ]
    }
   ],
   "source": [
    "# Broadcasting - ví dụ 5\n",
    "a = np.array([[4, 5, 6],\n",
    "              [7, 8, 9]])\n",
    "b = np.array([1, 2])\n",
    "print(f'{a.shape}\\n{b.shape}')"
   ]
  },
  {
   "cell_type": "code",
   "execution_count": 83,
   "metadata": {},
   "outputs": [
    {
     "ename": "ValueError",
     "evalue": "operands could not be broadcast together with shapes (2,3) (2,) ",
     "output_type": "error",
     "traceback": [
      "\u001b[0;31m---------------------------------------------------------------------------\u001b[0m",
      "\u001b[0;31mValueError\u001b[0m                                Traceback (most recent call last)",
      "\u001b[1;32m/home/phuongnam/Documents/DS_Programming/Demo_np/07-NumpyP2_Demo_Blank.ipynb Cell 61\u001b[0m line \u001b[0;36m1\n\u001b[0;32m----> <a href='vscode-notebook-cell:/home/phuongnam/Documents/DS_Programming/Demo_np/07-NumpyP2_Demo_Blank.ipynb#Y114sZmlsZQ%3D%3D?line=0'>1</a>\u001b[0m a \u001b[39m*\u001b[39;49m b\n",
      "\u001b[0;31mValueError\u001b[0m: operands could not be broadcast together with shapes (2,3) (2,) "
     ]
    }
   ],
   "source": [
    "a * b"
   ]
  },
  {
   "cell_type": "code",
   "execution_count": 88,
   "metadata": {},
   "outputs": [
    {
     "data": {
      "text/plain": [
       "array([-1.33226763e-16,  3.88578059e-17])"
      ]
     },
     "execution_count": 88,
     "metadata": {},
     "output_type": "execute_result"
    }
   ],
   "source": [
    "# Bài tập broadcasting:\n",
    "# Chuẩn hóa để các cột của array data có mean = 0 & std = 1\n",
    "# (Cách làm: lấy mỗi cột trừ cho mean của cột đó, \n",
    "#            rồi chia cho std của cột đó)\n",
    "data = np.random.randint(0, 10, (20, 2))\n",
    "data[:, 1] *= 3\n",
    "# TODO\n",
    "mean_cols = np.mean(data, axis=0)\n",
    "std_cols = np.std(data, axis=0)\n",
    "normal_cols_data = ((data - mean_cols)/std_cols)\n",
    "normal_cols_data.mean(axis=0)"
   ]
  },
  {
   "cell_type": "markdown",
   "metadata": {},
   "source": [
    "## Áp dụng Numpy để làm một ví dụ thực tế: k-Nearest Neighbors"
   ]
  },
  {
   "cell_type": "code",
   "execution_count": 142,
   "metadata": {},
   "outputs": [
    {
     "data": {
      "text/plain": [
       "array([[0.6447324 , 0.56997586],\n",
       "       [0.33356693, 0.16950231],\n",
       "       [0.14672354, 0.28938804],\n",
       "       [0.94660178, 0.09081292],\n",
       "       [0.45591587, 0.58629894],\n",
       "       [0.11777676, 0.94668011],\n",
       "       [0.88962911, 0.51978962],\n",
       "       [0.45000466, 0.36124263],\n",
       "       [0.80899362, 0.87942484],\n",
       "       [0.84436022, 0.10158056]])"
      ]
     },
     "execution_count": 142,
     "metadata": {},
     "output_type": "execute_result"
    }
   ],
   "source": [
    "X = np.random.rand(10, 2)\n",
    "X"
   ]
  },
  {
   "cell_type": "code",
   "execution_count": 143,
   "metadata": {},
   "outputs": [
    {
     "data": {
      "image/png": "[encoded data removed]",
      "text/plain": [
       "<Figure size 640x480 with 1 Axes>"
      ]
     },
     "metadata": {},
     "output_type": "display_data"
    }
   ],
   "source": [
    "plt.scatter(X[:, 0], X[:, 1], s=100);"
   ]
  },
  {
   "cell_type": "code",
   "execution_count": 144,
   "metadata": {},
   "outputs": [],
   "source": [
    "# for each pair of points, compute differences in their coordinates\n",
    "diff = X[:, np.newaxis, :] - X[np.newaxis, : , :]"
   ]
  },
  {
   "cell_type": "code",
   "execution_count": 145,
   "metadata": {},
   "outputs": [
    {
     "data": {
      "text/plain": [
       "(10, 10, 2)"
      ]
     },
     "execution_count": 145,
     "metadata": {},
     "output_type": "execute_result"
    }
   ],
   "source": [
    "# square the coordinate differences\n",
    "sqr_diff = diff**2\n",
    "sqr_diff.shape"
   ]
  },
  {
   "cell_type": "code",
   "execution_count": 146,
   "metadata": {},
   "outputs": [
    {
     "data": {
      "text/plain": [
       "array([[0.  , 0.26, 0.33, 0.32, 0.04, 0.42, 0.06, 0.08, 0.12, 0.26],\n",
       "       [0.26, 0.  , 0.05, 0.38, 0.19, 0.65, 0.43, 0.05, 0.73, 0.27],\n",
       "       [0.33, 0.05, 0.  , 0.68, 0.18, 0.43, 0.6 , 0.1 , 0.79, 0.52],\n",
       "       [0.32, 0.38, 0.68, 0.  , 0.49, 1.42, 0.19, 0.32, 0.64, 0.01],\n",
       "       [0.04, 0.19, 0.18, 0.49, 0.  , 0.24, 0.19, 0.05, 0.21, 0.39],\n",
       "       [0.42, 0.65, 0.43, 1.42, 0.24, 0.  , 0.78, 0.45, 0.48, 1.24],\n",
       "       [0.06, 0.43, 0.6 , 0.19, 0.19, 0.78, 0.  , 0.22, 0.14, 0.18],\n",
       "       [0.08, 0.05, 0.1 , 0.32, 0.05, 0.45, 0.22, 0.  , 0.4 , 0.22],\n",
       "       [0.12, 0.73, 0.79, 0.64, 0.21, 0.48, 0.14, 0.4 , 0.  , 0.61],\n",
       "       [0.26, 0.27, 0.52, 0.01, 0.39, 1.24, 0.18, 0.22, 0.61, 0.  ]])"
      ]
     },
     "execution_count": 146,
     "metadata": {},
     "output_type": "execute_result"
    }
   ],
   "source": [
    "# sum the coordinate differences to get the squared distance\n",
    "distances = sqr_diff.sum(axis=2).round(2)\n",
    "distances"
   ]
  },
  {
   "cell_type": "code",
   "execution_count": 153,
   "metadata": {},
   "outputs": [
    {
     "data": {
      "text/plain": [
       "array([[0, 4, 6, 7, 8, 1, 9, 3, 2, 5],\n",
       "       [1, 2, 7, 4, 0, 9, 3, 6, 5, 8],\n",
       "       [2, 1, 7, 4, 0, 5, 9, 6, 3, 8],\n",
       "       [3, 9, 6, 0, 7, 1, 4, 8, 2, 5],\n",
       "       [4, 0, 7, 2, 1, 6, 8, 5, 9, 3],\n",
       "       [5, 4, 0, 2, 7, 8, 1, 6, 9, 3],\n",
       "       [6, 0, 8, 9, 3, 4, 7, 1, 2, 5],\n",
       "       [7, 1, 4, 0, 2, 6, 9, 3, 8, 5],\n",
       "       [8, 0, 6, 4, 7, 5, 9, 3, 1, 2],\n",
       "       [9, 3, 6, 7, 0, 1, 4, 2, 8, 5]])"
      ]
     },
     "execution_count": 153,
     "metadata": {},
     "output_type": "execute_result"
    }
   ],
   "source": [
    "nearest = np.argsort(distances, axis=1)\n",
    "nearest"
   ]
  },
  {
   "cell_type": "code",
   "execution_count": 152,
   "metadata": {},
   "outputs": [
    {
     "data": {
      "text/plain": [
       "array([[4, 6],\n",
       "       [2, 7],\n",
       "       [1, 7],\n",
       "       [9, 6],\n",
       "       [0, 7],\n",
       "       [4, 0],\n",
       "       [0, 8],\n",
       "       [1, 4],\n",
       "       [0, 6],\n",
       "       [3, 6]])"
      ]
     },
     "execution_count": 152,
     "metadata": {},
     "output_type": "execute_result"
    }
   ],
   "source": []
  },
  {
   "cell_type": "code",
   "execution_count": 154,
   "metadata": {},
   "outputs": [
    {
     "data": {
      "text/plain": [
       "array([[4, 6],\n",
       "       [2, 7],\n",
       "       [1, 7],\n",
       "       [9, 6],\n",
       "       [0, 7],\n",
       "       [4, 0],\n",
       "       [0, 8],\n",
       "       [1, 4],\n",
       "       [0, 6],\n",
       "       [3, 6]])"
      ]
     },
     "execution_count": 154,
     "metadata": {},
     "output_type": "execute_result"
    }
   ],
   "source": [
    "\n",
    "K = 2\n",
    "nearest_partition = nearest[:,1:K+1]\n",
    "nearest_partition"
   ]
  },
  {
   "cell_type": "code",
   "execution_count": 156,
   "metadata": {},
   "outputs": [
    {
     "data": {
      "image/png": "[encoded data removed]",
      "text/plain": [
       "<Figure size 640x480 with 1 Axes>"
      ]
     },
     "metadata": {},
     "output_type": "display_data"
    }
   ],
   "source": [
    "plt.scatter(X[:, 0], X[:, 1], s=100)\n",
    "\n",
    "# draw lines from each point to its two nearest neighbors\n",
    "K = 2\n",
    "\n",
    "for i in range(X.shape[0]):\n",
    "    for j in nearest_partition[i, :]:\n",
    "        # plot a line from X[i] to X[j]\n",
    "        # use some zip magic to make it happen:\n",
    "        plt.plot(*zip(X[j], X[i]))"
   ]
  },
  {
   "cell_type": "code",
   "execution_count": null,
   "metadata": {},
   "outputs": [],
   "source": [
    "    "
   ]
  },
  {
   "cell_type": "code",
   "execution_count": null,
   "metadata": {},
   "outputs": [],
   "source": []
  },
  {
   "cell_type": "code",
   "execution_count": null,
   "metadata": {},
   "outputs": [],
   "source": []
  },
  {
   "cell_type": "markdown",
   "metadata": {
    "tags": []
   },
   "source": [
    "## Áp dụng Numpy để làm một ví dụ thực tế: recommender system "
   ]
  },
  {
   "cell_type": "code",
   "execution_count": 159,
   "metadata": {},
   "outputs": [
    {
     "data": {
      "text/plain": [
       "array([[ 5.,  4., nan,  1., nan],\n",
       "       [nan,  4.,  4.,  2.,  2.],\n",
       "       [ 3., nan, nan,  5.,  5.],\n",
       "       [nan,  3.,  4.,  4., nan]])"
      ]
     },
     "execution_count": 159,
     "metadata": {},
     "output_type": "execute_result"
    }
   ],
   "source": [
    "# Đọc file Ratings-Small.csv vào Numpy array\n",
    "# Trong file này:\n",
    "# - Mỗi cột ứng với một phim\n",
    "# - Mỗi dòng ứng với một người dùng, và cho biết người này đã\n",
    "#   cho mỗi phim bao nhiêu điểm (thang 1-5)\n",
    "ratings = np.genfromtxt('Data/Ratings-Small.csv',\n",
    "                        delimiter=',',\n",
    "                        skip_header=1)\n",
    "ratings"
   ]
  },
  {
   "cell_type": "markdown",
   "metadata": {},
   "source": [
    "Mục tiêu ở đây là dự đoán các giá trị thiếu của mỗi người dùng; từ đó, recommend cho người dùng các bộ phim mà ta dự đoán người dùng sẽ cho điểm cao.\n",
    "\n",
    "Để đơn giản, ở đây ta chỉ tập trung làm cho người dùng đầu tiên."
   ]
  },
  {
   "cell_type": "code",
   "execution_count": 158,
   "metadata": {},
   "outputs": [],
   "source": [
    "np.set_printoptions(suppress=True) # Để numpy in dễ nhìn"
   ]
  },
  {
   "cell_type": "code",
   "execution_count": 164,
   "metadata": {
    "scrolled": true
   },
   "outputs": [
    {
     "data": {
      "text/plain": [
       "array([1000.        ,    1.99600798,    0.33322226,    0.49975012])"
      ]
     },
     "execution_count": 164,
     "metadata": {},
     "output_type": "execute_result"
    }
   ],
   "source": [
    "# Tính trọng số thể hiện cho độ tương tự giữa người dùng đầu tiên\n",
    "# với tất cả người dùng \n",
    "r0  = ratings[0]\n",
    "a = np.abs(ratings - r0)\n",
    "w = 1 / (np.nanmean(a, axis=1) + 0.001)\n",
    "w"
   ]
  },
  {
   "cell_type": "code",
   "execution_count": 169,
   "metadata": {},
   "outputs": [
    {
     "data": {
      "text/plain": [
       "array([[ True,  True],\n",
       "       [False, False],\n",
       "       [ True, False],\n",
       "       [False,  True]])"
      ]
     },
     "execution_count": 169,
     "metadata": {},
     "output_type": "execute_result"
    }
   ],
   "source": [
    "# Lấy ra các cột ứng với các phim \n",
    "# mà người dùng đầu tiên chưa cho điểm\n",
    "a = ratings[:, np.isnan(r0)]\n",
    "np.isnan(a)"
   ]
  },
  {
   "cell_type": "code",
   "execution_count": 172,
   "metadata": {},
   "outputs": [
    {
     "data": {
      "text/plain": [
       "array([[0.        , 0.        ],\n",
       "       [0.79976019, 0.85693889],\n",
       "       [0.        , 0.14306111],\n",
       "       [0.20023981, 0.        ]])"
      ]
     },
     "execution_count": 172,
     "metadata": {},
     "output_type": "execute_result"
    }
   ],
   "source": [
    "# Tính ma trận trọng số đã được chuẩn hóa \n",
    "# có cùng shape với kết quả ở trên\n",
    "# (tổng các cột sẽ bằng 1)\n",
    "normalized_w = ~np.isnan(a) * w.reshape(-1, 1)\n",
    "normalized_w = normalized_w / np.sum(normalized_w, axis=0)\n",
    "normalized_w"
   ]
  },
  {
   "cell_type": "code",
   "execution_count": 174,
   "metadata": {},
   "outputs": [
    {
     "data": {
      "text/plain": [
       "array([4.        , 2.42918332])"
      ]
     },
     "execution_count": 174,
     "metadata": {},
     "output_type": "execute_result"
    }
   ],
   "source": [
    "# Nhân điểm (rating) với trọng số đã chuẩn hóa rồi cộng lại\n",
    "# là sẽ ra điểm dự đoán cho người dùng đầu tiên\n",
    "np.nansum(a * normalized_w, axis=0)"
   ]
  },
  {
   "cell_type": "markdown",
   "metadata": {},
   "source": [
    "Như vậy, ta có thể recommend cho người dùng đầu tiên phim có điểm dự đoán cao."
   ]
  }
 ],
 "metadata": {
  "kernelspec": {
   "display_name": "Python 3 (ipykernel)",
   "language": "python",
   "name": "python3"
  },
  "language_info": {
   "codemirror_mode": {
    "name": "ipython",
    "version": 3
   },
   "file_extension": ".py",
   "mimetype": "text/x-python",
   "name": "python",
   "nbconvert_exporter": "python",
   "pygments_lexer": "ipython3",
   "version": "3.10.8"
  },
  "toc": {
   "base_numbering": 1,
   "nav_menu": {},
   "number_sections": false,
   "sideBar": true,
   "skip_h1_title": false,
   "title_cell": "Table of Contents",
   "title_sidebar": "Contents",
   "toc_cell": false,
   "toc_position": {
    "height": "338.4px",
    "left": "140px",
    "top": "32.133px",
    "width": "165px"
   },
   "toc_section_display": true,
   "toc_window_display": false
  }
 },
 "nbformat": 4,
 "nbformat_minor": 4
}

{
 "cells": [
  {
   "cell_type": "markdown",
   "metadata": {
    "tags": []
   },
   "source": [
    "# Numpy Exercises 2"
   ]
  },
  {
   "cell_type": "code",
   "execution_count": 1,
   "metadata": {
    "hide_input": false
   },
   "outputs": [],
   "source": [
    "import numpy as np\n",
    "\n",
    "import matplotlib.pyplot as plt\n",
    "import random # Thư viện built-in của Python "
   ]
  },
  {
   "cell_type": "markdown",
   "metadata": {},
   "source": [
    "**Question 1**"
   ]
  },
  {
   "cell_type": "markdown",
   "metadata": {},
   "source": [
    "Search for the duplicate entries (2nd occurrence onwards) in the given numpy array and mark them as `True`. First time occurrences should be `False` \\\n",
    "Input: `[0 0 3 0 2 4 2 2 2 2]` \\\n",
    "Correct Output: `[False  True False  True False False  True  True  True  True]`"
   ]
  },
  {
   "cell_type": "code",
   "execution_count": 10,
   "metadata": {},
   "outputs": [
    {
     "name": "stdout",
     "output_type": "stream",
     "text": [
      "Array:  [0 0 3 0 2 4 2 2 2 2]\n"
     ]
    },
    {
     "data": {
      "text/plain": [
       "array([False,  True, False,  True, False, False,  True,  True,  True,\n",
       "        True])"
      ]
     },
     "execution_count": 10,
     "metadata": {},
     "output_type": "execute_result"
    }
   ],
   "source": [
    "#Init array\n",
    "np.random.seed(100)\n",
    "a = np.random.randint(0, 5, 10)\n",
    "print('Array: ', a)\n",
    "# TODO\n",
    "mask = np.full_like(a, True, dtype=bool)\n",
    "# The numpy.unique function with return_index=True returns a tuple containing two arrays. The first array contains the unique elements of the input array a, and the second array contains the indices of the first occurrences of these unique elements in the original array.\n",
    "first_occurrences = np.unique(a, return_index=True)[1]\n",
    "mask[first_occurrences] = False\n",
    "mask"
   ]
  },
  {
   "cell_type": "markdown",
   "metadata": {},
   "source": [
    "**Question 2**"
   ]
  },
  {
   "cell_type": "markdown",
   "metadata": {},
   "source": [
    "Return all items in array `a` that not in array `b` \\\n",
    "Input: \\\n",
    "`a` = `[1,2,3,4,5]` \\\n",
    "`b` = `[5,6,7,8,9]` \\\n",
    "Output: \\\n",
    "`[1,2,3,4]`"
   ]
  },
  {
   "cell_type": "code",
   "execution_count": 80,
   "metadata": {},
   "outputs": [
    {
     "name": "stdout",
     "output_type": "stream",
     "text": [
      "[6 0 2 3 7 5 9] [9 1 4 0 2 6 5]\n"
     ]
    },
    {
     "data": {
      "text/plain": [
       "array([3, 7])"
      ]
     },
     "execution_count": 80,
     "metadata": {},
     "output_type": "execute_result"
    }
   ],
   "source": [
    "a = np.random.choice(range(10), 7, replace=False)\n",
    "b = np.random.choice(range(10), 7, replace=False)\n",
    "print(a,b)\n",
    "#TODO\n",
    "# in1d returns True if the element of a is in b, otherwise False\n",
    "mask = np.in1d(a, b)\n",
    "a[~mask]"
   ]
  },
  {
   "cell_type": "markdown",
   "metadata": {},
   "source": [
    "**Question 3**"
   ]
  },
  {
   "cell_type": "markdown",
   "metadata": {},
   "source": [
    "Given a vector `a`, build a new vector with 2 consecutive zeros interleaved between each value. \\\n",
    "Input: \\\n",
    "`a` = `[4, 3, 4, 9, 8]` \\\n",
    "Output: \\\n",
    "`[4. 0. 0. 3. 0. 0. 4. 0. 0. 9. 0. 0. 8.]`"
   ]
  },
  {
   "cell_type": "code",
   "execution_count": 41,
   "metadata": {},
   "outputs": [
    {
     "name": "stdout",
     "output_type": "stream",
     "text": [
      "[4 7 2 5 4]\n"
     ]
    },
    {
     "data": {
      "text/plain": [
       "array([4, 0, 0, 7, 0, 0, 2, 0, 0, 5, 0, 0, 4])"
      ]
     },
     "execution_count": 41,
     "metadata": {},
     "output_type": "execute_result"
    }
   ],
   "source": [
    "a = np.random.randint(1, 10, 5)\n",
    "print(a)\n",
    "#TODO\n",
    "new_shape = a.shape[0] + (a.shape[0] - 1)*2\n",
    "result = np.zeros(new_shape, dtype=int)\n",
    "result[::3] = a\n",
    "result"
   ]
  },
  {
   "cell_type": "markdown",
   "metadata": {},
   "source": [
    "---\n",
    "*For the next few questions we will work with `Iris Dataset`*"
   ]
  },
  {
   "cell_type": "code",
   "execution_count": 70,
   "metadata": {},
   "outputs": [
    {
     "data": {
      "text/plain": [
       "array(['Iris-setosa', 'Iris-setosa', 'Iris-setosa', 'Iris-setosa',\n",
       "       'Iris-setosa', 'Iris-setosa', 'Iris-setosa', 'Iris-setosa',\n",
       "       'Iris-setosa', 'Iris-setosa', 'Iris-setosa', 'Iris-setosa',\n",
       "       'Iris-setosa', 'Iris-setosa', 'Iris-setosa', 'Iris-setosa',\n",
       "       'Iris-setosa', 'Iris-setosa', 'Iris-setosa', 'Iris-setosa',\n",
       "       'Iris-setosa', 'Iris-setosa', 'Iris-setosa', 'Iris-setosa',\n",
       "       'Iris-setosa', 'Iris-setosa', 'Iris-setosa', 'Iris-setosa',\n",
       "       'Iris-setosa', 'Iris-setosa', 'Iris-setosa', 'Iris-setosa',\n",
       "       'Iris-setosa', 'Iris-setosa', 'Iris-setosa', 'Iris-setosa',\n",
       "       'Iris-setosa', 'Iris-setosa', 'Iris-setosa', 'Iris-setosa',\n",
       "       'Iris-setosa', 'Iris-setosa', 'Iris-setosa', 'Iris-setosa',\n",
       "       'Iris-setosa', 'Iris-setosa', 'Iris-setosa', 'Iris-setosa',\n",
       "       'Iris-setosa', 'Iris-setosa', 'Iris-versicolor', 'Iris-versicolor',\n",
       "       'Iris-versicolor', 'Iris-versicolor', 'Iris-versicolor',\n",
       "       'Iris-versicolor', 'Iris-versicolor', 'Iris-versicolor',\n",
       "       'Iris-versicolor', 'Iris-versicolor', 'Iris-versicolor',\n",
       "       'Iris-versicolor', 'Iris-versicolor', 'Iris-versicolor',\n",
       "       'Iris-versicolor', 'Iris-versicolor', 'Iris-versicolor',\n",
       "       'Iris-versicolor', 'Iris-versicolor', 'Iris-versicolor',\n",
       "       'Iris-versicolor', 'Iris-versicolor', 'Iris-versicolor',\n",
       "       'Iris-versicolor', 'Iris-versicolor', 'Iris-versicolor',\n",
       "       'Iris-versicolor', 'Iris-versicolor', 'Iris-versicolor',\n",
       "       'Iris-versicolor', 'Iris-versicolor', 'Iris-versicolor',\n",
       "       'Iris-versicolor', 'Iris-versicolor', 'Iris-versicolor',\n",
       "       'Iris-versicolor', 'Iris-versicolor', 'Iris-versicolor',\n",
       "       'Iris-versicolor', 'Iris-versicolor', 'Iris-versicolor',\n",
       "       'Iris-versicolor', 'Iris-versicolor', 'Iris-versicolor',\n",
       "       'Iris-versicolor', 'Iris-versicolor', 'Iris-versicolor',\n",
       "       'Iris-versicolor', 'Iris-versicolor', 'Iris-versicolor',\n",
       "       'Iris-virginica', 'Iris-virginica', 'Iris-virginica',\n",
       "       'Iris-virginica', 'Iris-virginica', 'Iris-virginica',\n",
       "       'Iris-virginica', 'Iris-virginica', 'Iris-virginica',\n",
       "       'Iris-virginica', 'Iris-virginica', 'Iris-virginica',\n",
       "       'Iris-virginica', 'Iris-virginica', 'Iris-virginica',\n",
       "       'Iris-virginica', 'Iris-virginica', 'Iris-virginica',\n",
       "       'Iris-virginica', 'Iris-virginica', 'Iris-virginica',\n",
       "       'Iris-virginica', 'Iris-virginica', 'Iris-virginica',\n",
       "       'Iris-virginica', 'Iris-virginica', 'Iris-virginica',\n",
       "       'Iris-virginica', 'Iris-virginica', 'Iris-virginica',\n",
       "       'Iris-virginica', 'Iris-virginica', 'Iris-virginica',\n",
       "       'Iris-virginica', 'Iris-virginica', 'Iris-virginica',\n",
       "       'Iris-virginica', 'Iris-virginica', 'Iris-virginica',\n",
       "       'Iris-virginica', 'Iris-virginica', 'Iris-virginica',\n",
       "       'Iris-virginica', 'Iris-virginica', 'Iris-virginica',\n",
       "       'Iris-virginica', 'Iris-virginica', 'Iris-virginica',\n",
       "       'Iris-virginica', 'Iris-virginica'], dtype='<U15')"
      ]
     },
     "execution_count": 70,
     "metadata": {},
     "output_type": "execute_result"
    }
   ],
   "source": [
    "iris_1d = np.genfromtxt('Data/Iris.csv', delimiter=',', skip_header=1, dtype=None,encoding=None)\n",
    "iris_2d = np.array([row.tolist()[:4] for row in iris_1d])\n",
    "iris_2d"
   ]
  },
  {
   "cell_type": "markdown",
   "metadata": {},
   "source": [
    "**Question 4**\\\n",
    "Filter the rows of iris_2d that has `petallength` (3rd column) > 1.5 and `sepallength` (1st column) < 5.0"
   ]
  },
  {
   "cell_type": "code",
   "execution_count": 50,
   "metadata": {},
   "outputs": [
    {
     "data": {
      "text/plain": [
       "array([[4.8, 3.4, 1.6, 0.2],\n",
       "       [4.8, 3.4, 1.9, 0.2],\n",
       "       [4.7, 3.2, 1.6, 0.2],\n",
       "       [4.8, 3.1, 1.6, 0.2],\n",
       "       [4.9, 2.4, 3.3, 1. ],\n",
       "       [4.9, 2.5, 4.5, 1.7]])"
      ]
     },
     "execution_count": 50,
     "metadata": {},
     "output_type": "execute_result"
    }
   ],
   "source": [
    "#TODO\n",
    "mask = (iris_2d[:, 0] < 5 ) & (iris_2d[:, 2] > 1.5)\n",
    "iris_2d[mask]"
   ]
  },
  {
   "cell_type": "markdown",
   "metadata": {},
   "source": [
    "**Question 5**\\\n",
    "Add a new text column to `iris_2d`, which based on the petal length (3rd) column, such that if petal length is: \\\n",
    "- `Less than 3` --> 'small'\n",
    "- `3-5` --> 'medium'\n",
    "- `>=5` --> 'large'"
   ]
  },
  {
   "cell_type": "code",
   "execution_count": 60,
   "metadata": {},
   "outputs": [
    {
     "data": {
      "text/plain": [
       "array([['5.1', '3.5', '1.4', '0.2', 'small'],\n",
       "       ['4.9', '3.0', '1.4', '0.2', 'small'],\n",
       "       ['4.7', '3.2', '1.3', '0.2', 'small'],\n",
       "       ['4.6', '3.1', '1.5', '0.2', 'small'],\n",
       "       ['5.0', '3.6', '1.4', '0.2', 'small'],\n",
       "       ['5.4', '3.9', '1.7', '0.4', 'small'],\n",
       "       ['4.6', '3.4', '1.4', '0.3', 'small'],\n",
       "       ['5.0', '3.4', '1.5', '0.2', 'small'],\n",
       "       ['4.4', '2.9', '1.4', '0.2', 'small'],\n",
       "       ['4.9', '3.1', '1.5', '0.1', 'small'],\n",
       "       ['5.4', '3.7', '1.5', '0.2', 'small'],\n",
       "       ['4.8', '3.4', '1.6', '0.2', 'small'],\n",
       "       ['4.8', '3.0', '1.4', '0.1', 'small'],\n",
       "       ['4.3', '3.0', '1.1', '0.1', 'small'],\n",
       "       ['5.8', '4.0', '1.2', '0.2', 'small'],\n",
       "       ['5.7', '4.4', '1.5', '0.4', 'small'],\n",
       "       ['5.4', '3.9', '1.3', '0.4', 'small'],\n",
       "       ['5.1', '3.5', '1.4', '0.3', 'small'],\n",
       "       ['5.7', '3.8', '1.7', '0.3', 'small'],\n",
       "       ['5.1', '3.8', '1.5', '0.3', 'small'],\n",
       "       ['5.4', '3.4', '1.7', '0.2', 'small'],\n",
       "       ['5.1', '3.7', '1.5', '0.4', 'small'],\n",
       "       ['4.6', '3.6', '1.0', '0.2', 'small'],\n",
       "       ['5.1', '3.3', '1.7', '0.5', 'small'],\n",
       "       ['4.8', '3.4', '1.9', '0.2', 'small'],\n",
       "       ['5.0', '3.0', '1.6', '0.2', 'small'],\n",
       "       ['5.0', '3.4', '1.6', '0.4', 'small'],\n",
       "       ['5.2', '3.5', '1.5', '0.2', 'small'],\n",
       "       ['5.2', '3.4', '1.4', '0.2', 'small'],\n",
       "       ['4.7', '3.2', '1.6', '0.2', 'small'],\n",
       "       ['4.8', '3.1', '1.6', '0.2', 'small'],\n",
       "       ['5.4', '3.4', '1.5', '0.4', 'small'],\n",
       "       ['5.2', '4.1', '1.5', '0.1', 'small'],\n",
       "       ['5.5', '4.2', '1.4', '0.2', 'small'],\n",
       "       ['4.9', '3.1', '1.5', '0.1', 'small'],\n",
       "       ['5.0', '3.2', '1.2', '0.2', 'small'],\n",
       "       ['5.5', '3.5', '1.3', '0.2', 'small'],\n",
       "       ['4.9', '3.1', '1.5', '0.1', 'small'],\n",
       "       ['4.4', '3.0', '1.3', '0.2', 'small'],\n",
       "       ['5.1', '3.4', '1.5', '0.2', 'small'],\n",
       "       ['5.0', '3.5', '1.3', '0.3', 'small'],\n",
       "       ['4.5', '2.3', '1.3', '0.3', 'small'],\n",
       "       ['4.4', '3.2', '1.3', '0.2', 'small'],\n",
       "       ['5.0', '3.5', '1.6', '0.6', 'small'],\n",
       "       ['5.1', '3.8', '1.9', '0.4', 'small'],\n",
       "       ['4.8', '3.0', '1.4', '0.3', 'small'],\n",
       "       ['5.1', '3.8', '1.6', '0.2', 'small'],\n",
       "       ['4.6', '3.2', '1.4', '0.2', 'small'],\n",
       "       ['5.3', '3.7', '1.5', '0.2', 'small'],\n",
       "       ['5.0', '3.3', '1.4', '0.2', 'small'],\n",
       "       ['7.0', '3.2', '4.7', '1.4', 'medium'],\n",
       "       ['6.4', '3.2', '4.5', '1.5', 'medium'],\n",
       "       ['6.9', '3.1', '4.9', '1.5', 'medium'],\n",
       "       ['5.5', '2.3', '4.0', '1.3', 'medium'],\n",
       "       ['6.5', '2.8', '4.6', '1.5', 'medium'],\n",
       "       ['5.7', '2.8', '4.5', '1.3', 'medium'],\n",
       "       ['6.3', '3.3', '4.7', '1.6', 'medium'],\n",
       "       ['4.9', '2.4', '3.3', '1.0', 'medium'],\n",
       "       ['6.6', '2.9', '4.6', '1.3', 'medium'],\n",
       "       ['5.2', '2.7', '3.9', '1.4', 'medium'],\n",
       "       ['5.0', '2.0', '3.5', '1.0', 'medium'],\n",
       "       ['5.9', '3.0', '4.2', '1.5', 'medium'],\n",
       "       ['6.0', '2.2', '4.0', '1.0', 'medium'],\n",
       "       ['6.1', '2.9', '4.7', '1.4', 'medium'],\n",
       "       ['5.6', '2.9', '3.6', '1.3', 'medium'],\n",
       "       ['6.7', '3.1', '4.4', '1.4', 'medium'],\n",
       "       ['5.6', '3.0', '4.5', '1.5', 'medium'],\n",
       "       ['5.8', '2.7', '4.1', '1.0', 'medium'],\n",
       "       ['6.2', '2.2', '4.5', '1.5', 'medium'],\n",
       "       ['5.6', '2.5', '3.9', '1.1', 'medium'],\n",
       "       ['5.9', '3.2', '4.8', '1.8', 'medium'],\n",
       "       ['6.1', '2.8', '4.0', '1.3', 'medium'],\n",
       "       ['6.3', '2.5', '4.9', '1.5', 'medium'],\n",
       "       ['6.1', '2.8', '4.7', '1.2', 'medium'],\n",
       "       ['6.4', '2.9', '4.3', '1.3', 'medium'],\n",
       "       ['6.6', '3.0', '4.4', '1.4', 'medium'],\n",
       "       ['6.8', '2.8', '4.8', '1.4', 'medium'],\n",
       "       ['6.7', '3.0', '5.0', '1.7', 'large'],\n",
       "       ['6.0', '2.9', '4.5', '1.5', 'medium'],\n",
       "       ['5.7', '2.6', '3.5', '1.0', 'medium'],\n",
       "       ['5.5', '2.4', '3.8', '1.1', 'medium'],\n",
       "       ['5.5', '2.4', '3.7', '1.0', 'medium'],\n",
       "       ['5.8', '2.7', '3.9', '1.2', 'medium'],\n",
       "       ['6.0', '2.7', '5.1', '1.6', 'large'],\n",
       "       ['5.4', '3.0', '4.5', '1.5', 'medium'],\n",
       "       ['6.0', '3.4', '4.5', '1.6', 'medium'],\n",
       "       ['6.7', '3.1', '4.7', '1.5', 'medium'],\n",
       "       ['6.3', '2.3', '4.4', '1.3', 'medium'],\n",
       "       ['5.6', '3.0', '4.1', '1.3', 'medium'],\n",
       "       ['5.5', '2.5', '4.0', '1.3', 'medium'],\n",
       "       ['5.5', '2.6', '4.4', '1.2', 'medium'],\n",
       "       ['6.1', '3.0', '4.6', '1.4', 'medium'],\n",
       "       ['5.8', '2.6', '4.0', '1.2', 'medium'],\n",
       "       ['5.0', '2.3', '3.3', '1.0', 'medium'],\n",
       "       ['5.6', '2.7', '4.2', '1.3', 'medium'],\n",
       "       ['5.7', '3.0', '4.2', '1.2', 'medium'],\n",
       "       ['5.7', '2.9', '4.2', '1.3', 'medium'],\n",
       "       ['6.2', '2.9', '4.3', '1.3', 'medium'],\n",
       "       ['5.1', '2.5', '3.0', '1.1', 'medium'],\n",
       "       ['5.7', '2.8', '4.1', '1.3', 'medium'],\n",
       "       ['6.3', '3.3', '6.0', '2.5', 'large'],\n",
       "       ['5.8', '2.7', '5.1', '1.9', 'large'],\n",
       "       ['7.1', '3.0', '5.9', '2.1', 'large'],\n",
       "       ['6.3', '2.9', '5.6', '1.8', 'large'],\n",
       "       ['6.5', '3.0', '5.8', '2.2', 'large'],\n",
       "       ['7.6', '3.0', '6.6', '2.1', 'large'],\n",
       "       ['4.9', '2.5', '4.5', '1.7', 'medium'],\n",
       "       ['7.3', '2.9', '6.3', '1.8', 'large'],\n",
       "       ['6.7', '2.5', '5.8', '1.8', 'large'],\n",
       "       ['7.2', '3.6', '6.1', '2.5', 'large'],\n",
       "       ['6.5', '3.2', '5.1', '2.0', 'large'],\n",
       "       ['6.4', '2.7', '5.3', '1.9', 'large'],\n",
       "       ['6.8', '3.0', '5.5', '2.1', 'large'],\n",
       "       ['5.7', '2.5', '5.0', '2.0', 'large'],\n",
       "       ['5.8', '2.8', '5.1', '2.4', 'large'],\n",
       "       ['6.4', '3.2', '5.3', '2.3', 'large'],\n",
       "       ['6.5', '3.0', '5.5', '1.8', 'large'],\n",
       "       ['7.7', '3.8', '6.7', '2.2', 'large'],\n",
       "       ['7.7', '2.6', '6.9', '2.3', 'large'],\n",
       "       ['6.0', '2.2', '5.0', '1.5', 'large'],\n",
       "       ['6.9', '3.2', '5.7', '2.3', 'large'],\n",
       "       ['5.6', '2.8', '4.9', '2.0', 'medium'],\n",
       "       ['7.7', '2.8', '6.7', '2.0', 'large'],\n",
       "       ['6.3', '2.7', '4.9', '1.8', 'medium'],\n",
       "       ['6.7', '3.3', '5.7', '2.1', 'large'],\n",
       "       ['7.2', '3.2', '6.0', '1.8', 'large'],\n",
       "       ['6.2', '2.8', '4.8', '1.8', 'medium'],\n",
       "       ['6.1', '3.0', '4.9', '1.8', 'medium'],\n",
       "       ['6.4', '2.8', '5.6', '2.1', 'large'],\n",
       "       ['7.2', '3.0', '5.8', '1.6', 'large'],\n",
       "       ['7.4', '2.8', '6.1', '1.9', 'large'],\n",
       "       ['7.9', '3.8', '6.4', '2.0', 'large'],\n",
       "       ['6.4', '2.8', '5.6', '2.2', 'large'],\n",
       "       ['6.3', '2.8', '5.1', '1.5', 'large'],\n",
       "       ['6.1', '2.6', '5.6', '1.4', 'large'],\n",
       "       ['7.7', '3.0', '6.1', '2.3', 'large'],\n",
       "       ['6.3', '3.4', '5.6', '2.4', 'large'],\n",
       "       ['6.4', '3.1', '5.5', '1.8', 'large'],\n",
       "       ['6.0', '3.0', '4.8', '1.8', 'medium'],\n",
       "       ['6.9', '3.1', '5.4', '2.1', 'large'],\n",
       "       ['6.7', '3.1', '5.6', '2.4', 'large'],\n",
       "       ['6.9', '3.1', '5.1', '2.3', 'large'],\n",
       "       ['5.8', '2.7', '5.1', '1.9', 'large'],\n",
       "       ['6.8', '3.2', '5.9', '2.3', 'large'],\n",
       "       ['6.7', '3.3', '5.7', '2.5', 'large'],\n",
       "       ['6.7', '3.0', '5.2', '2.3', 'large'],\n",
       "       ['6.3', '2.5', '5.0', '1.9', 'large'],\n",
       "       ['6.5', '3.0', '5.2', '2.0', 'large'],\n",
       "       ['6.2', '3.4', '5.4', '2.3', 'large'],\n",
       "       ['5.9', '3.0', '5.1', '1.8', 'large']], dtype='<U32')"
      ]
     },
     "execution_count": 60,
     "metadata": {},
     "output_type": "execute_result"
    }
   ],
   "source": [
    "#TODO\n",
    "new_col = np.full(len(iris_2d), 'medium')\n",
    "new_col[iris_2d[:, 2] < 3] = 'small'\n",
    "new_col[iris_2d[:, 2] >= 5] = 'large'\n",
    "iris_2d = np.hstack((iris_2d, new_col.reshape(-1, 1)))\n",
    "iris_2d"
   ]
  },
  {
   "cell_type": "markdown",
   "metadata": {},
   "source": [
    "**Question 6**\\\n",
    "Find the value of second longest `petallength` of species `setosa`"
   ]
  },
  {
   "cell_type": "code",
   "execution_count": 79,
   "metadata": {},
   "outputs": [
    {
     "data": {
      "text/plain": [
       "1.7"
      ]
     },
     "execution_count": 79,
     "metadata": {},
     "output_type": "execute_result"
    }
   ],
   "source": [
    "#TODO\n",
    "species = np.array([row[-1] for row in iris_1d])\n",
    "setosa_specie_rows = iris_2d[species == 'Iris-setosa']\n",
    "setosa_petallengths = np.unique(setosa_specie_rows[:, 2])\n",
    "setosa_petallengths[np.argsort(setosa_petallengths)[-2]]"
   ]
  }
 ],
 "metadata": {
  "kernelspec": {
   "display_name": "Python 3 (ipykernel)",
   "language": "python",
   "name": "python3"
  },
  "language_info": {
   "codemirror_mode": {
    "name": "ipython",
    "version": 3
   },
   "file_extension": ".py",
   "mimetype": "text/x-python",
   "name": "python",
   "nbconvert_exporter": "python",
   "pygments_lexer": "ipython3",
   "version": "3.10.8"
  },
  "toc": {
   "base_numbering": 1,
   "nav_menu": {},
   "number_sections": false,
   "sideBar": true,
   "skip_h1_title": false,
   "title_cell": "Table of Contents",
   "title_sidebar": "Contents",
   "toc_cell": false,
   "toc_position": {
    "height": "338.4px",
    "left": "140px",
    "top": "32.133px",
    "width": "165px"
   },
   "toc_section_display": true,
   "toc_window_display": true
  }
 },
 "nbformat": 4,
 "nbformat_minor": 4
}

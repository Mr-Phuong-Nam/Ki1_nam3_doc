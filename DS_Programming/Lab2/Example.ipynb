{
 "cells": [
  {
   "cell_type": "code",
   "execution_count": 36,
   "id": "77b0cd6f",
   "metadata": {},
   "outputs": [],
   "source": [
    "import numpy as np"
   ]
  },
  {
   "cell_type": "markdown",
   "id": "2ff24795",
   "metadata": {},
   "source": [
    "Giả sử chúng ta có ma trận `ratings`, trong đó các phần từ thể hiện điểm số mà user đánh giá anime tương ứng"
   ]
  },
  {
   "cell_type": "code",
   "execution_count": 37,
   "id": "b86a5fec",
   "metadata": {},
   "outputs": [
    {
     "data": {
      "text/plain": [
       "array([[ 5.,  4., nan,  1., nan],\n",
       "       [nan,  4.,  4.,  2.,  2.],\n",
       "       [ 3., nan, nan,  5.,  5.],\n",
       "       [nan,  3.,  4.,  4., nan]])"
      ]
     },
     "execution_count": 37,
     "metadata": {},
     "output_type": "execute_result"
    }
   ],
   "source": [
    "ratings = np.array([[5, 4, np.nan, 1, np.nan], [np.nan, 4, 4, 2, 2],\n",
    "                    [3, np.nan, np.nan, 5, 5],[np.nan, 3, 4, 4, np.nan]])\n",
    "ratings"
   ]
  },
  {
   "cell_type": "code",
   "execution_count": null,
   "id": "92a556e3",
   "metadata": {},
   "outputs": [],
   "source": []
  },
  {
   "cell_type": "markdown",
   "id": "a6f6c38f",
   "metadata": {},
   "source": [
    "Ở đây mình chỉ tính trên 1 user thôi :v còn phần tính trên batch (nhiều user) các bạn sẽ cơ hội tự trải nghiệm. Chúng ta sẽ xây dựng một mô hình đơn giản để dự đoán các phim mà user chưa đánh gía, hay nói cách khác là các ô `NaN`. Đầu tiên, chúng ta tưởng tượng mỗi dòng là một vector ứng với một user. Sau đó, chúng ta tính toán độ tương tự giữa các vector thông qua khoảng cách. "
   ]
  },
  {
   "cell_type": "code",
   "execution_count": 38,
   "id": "8376384a",
   "metadata": {},
   "outputs": [
    {
     "data": {
      "text/plain": [
       "array([1.00000100e+09, 1.99600798e+00, 3.33222259e-01, 4.99750125e-01])"
      ]
     },
     "execution_count": 38,
     "metadata": {},
     "output_type": "execute_result"
    }
   ],
   "source": [
    "# Lấy ra user đầu tiên\n",
    "r0 = ratings[0]\n",
    "\n",
    "# Lấy tất cả các user trừ cho user đầu tiên để tính khoảng cách, \n",
    "# sau đó tính mean của từng dòng để thu được độ tương tự giữa các user đối với user[0]\n",
    "s = np.nanmean(np.abs(ratings - r0), axis = 1)\n",
    "\n",
    "s = 1/(s + 0.001)\n",
    "s[0] += 1000_000_000\n",
    "s"
   ]
  },
  {
   "cell_type": "code",
   "execution_count": 39,
   "id": "f05e7956",
   "metadata": {},
   "outputs": [
    {
     "data": {
      "text/plain": [
       "array([[ 5.,  4., nan,  1., nan],\n",
       "       [nan,  4.,  4.,  2.,  2.],\n",
       "       [ 3., nan, nan,  5.,  5.],\n",
       "       [nan,  3.,  4.,  4., nan]])"
      ]
     },
     "execution_count": 39,
     "metadata": {},
     "output_type": "execute_result"
    }
   ],
   "source": [
    "# Lấy ra các cột mà user[0] chưa đánh giá để \n",
    "a = ratings\n",
    "a"
   ]
  },
  {
   "cell_type": "code",
   "execution_count": 40,
   "metadata": {},
   "outputs": [],
   "source": [
    "# ~np.isnan(a)\n",
    "np.set_printoptions(linewidth=100)"
   ]
  },
  {
   "cell_type": "code",
   "execution_count": 41,
   "id": "bc6a9b56",
   "metadata": {},
   "outputs": [
    {
     "data": {
      "text/plain": [
       "array([[1.00000000e+00, 9.99999998e-01, 0.00000000e+00, 9.99999997e-01, 0.00000000e+00],\n",
       "       [0.00000000e+00, 1.99600598e-09, 7.99760192e-01, 1.99600598e-09, 8.56938892e-01],\n",
       "       [3.33221926e-10, 0.00000000e+00, 0.00000000e+00, 3.33221925e-10, 1.43061108e-01],\n",
       "       [0.00000000e+00, 4.99749624e-10, 2.00239808e-01, 4.99749624e-10, 0.00000000e+00]])"
      ]
     },
     "execution_count": 41,
     "metadata": {},
     "output_type": "execute_result"
    }
   ],
   "source": [
    "# Tạo ma trận trọng số dựa trên độ tương tự\n",
    "w = ~np.isnan(a)*s.reshape(-1, 1)\n",
    "# Chuẩn hoá trọng số\n",
    "w = w/w.sum(axis = 0)\n",
    "w"
   ]
  },
  {
   "cell_type": "code",
   "execution_count": 42,
   "id": "2446d791",
   "metadata": {},
   "outputs": [
    {
     "data": {
      "text/plain": [
       "array([5.        , 4.        , 4.        , 1.        , 2.42918332])"
      ]
     },
     "execution_count": 42,
     "metadata": {},
     "output_type": "execute_result"
    }
   ],
   "source": [
    "# Kết quả dự đoán được\n",
    "np.nansum(a*w, axis = 0)"
   ]
  },
  {
   "cell_type": "code",
   "execution_count": null,
   "id": "21b36200",
   "metadata": {},
   "outputs": [],
   "source": []
  }
 ],
 "metadata": {
  "kernelspec": {
   "display_name": "Python 3 (ipykernel)",
   "language": "python",
   "name": "python3"
  },
  "language_info": {
   "codemirror_mode": {
    "name": "ipython",
    "version": 3
   },
   "file_extension": ".py",
   "mimetype": "text/x-python",
   "name": "python",
   "nbconvert_exporter": "python",
   "pygments_lexer": "ipython3",
   "version": "3.10.8"
  },
  "varInspector": {
   "cols": {
    "lenName": 16,
    "lenType": 16,
    "lenVar": 40
   },
   "kernels_config": {
    "python": {
     "delete_cmd_postfix": "",
     "delete_cmd_prefix": "del ",
     "library": "var_list.py",
     "varRefreshCmd": "print(var_dic_list())"
    },
    "r": {
     "delete_cmd_postfix": ") ",
     "delete_cmd_prefix": "rm(",
     "library": "var_list.r",
     "varRefreshCmd": "cat(var_dic_list()) "
    }
   },
   "types_to_exclude": [
    "module",
    "function",
    "builtin_function_or_method",
    "instance",
    "_Feature"
   ],
   "window_display": false
  }
 },
 "nbformat": 4,
 "nbformat_minor": 5
}

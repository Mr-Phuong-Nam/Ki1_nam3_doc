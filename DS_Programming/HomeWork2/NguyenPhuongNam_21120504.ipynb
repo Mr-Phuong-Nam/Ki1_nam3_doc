{
  "cells": [
    {
      "cell_type": "markdown",
      "metadata": {
        "id": "N0FgqvZtkV55"
      },
      "source": [
        "## Import các thư viện cần thiết"
      ]
    },
    {
      "cell_type": "code",
      "execution_count": 2,
      "metadata": {
        "id": "5TzQFWFpkV55"
      },
      "outputs": [],
      "source": [
        "import datetime as dt # Để làm việc với dữ liệu datetime\n",
        "import math"
      ]
    },
    {
      "cell_type": "markdown",
      "metadata": {
        "id": "3t7gX_qokV56"
      },
      "source": [
        "## Đưa ra câu hỏi cần trả lời"
      ]
    },
    {
      "cell_type": "markdown",
      "metadata": {
        "id": "wgQzMoZWkV57"
      },
      "source": [
        "*Tình* trạng hiểu về Python các bạn trong lớp?"
      ]
    },
    {
      "cell_type": "markdown",
      "metadata": {
        "id": "zvsrUqf-kV57"
      },
      "source": [
        "## Thu thập dữ liệu"
      ]
    },
    {
      "cell_type": "markdown",
      "metadata": {
        "id": "DOfEvPkpkV57"
      },
      "source": [
        "Cho làm quiz về Python trên moodle.\n",
        "\n",
        "Kết quả có thể được download về dưới dạng file .csv."
      ]
    },
    {
      "cell_type": "markdown",
      "metadata": {
        "id": "8_pYrZemkV58"
      },
      "source": [
        "## Khám phá dữ liệu"
      ]
    },
    {
      "cell_type": "code",
      "execution_count": 3,
      "metadata": {},
      "outputs": [],
      "source": [
        "def printDic(df):\n",
        "    for key, val in df.items():\n",
        "        print(f'{key}: {val}')"
      ]
    },
    {
      "cell_type": "code",
      "execution_count": 4,
      "metadata": {
        "id": "6etQeipt2iQ-"
      },
      "outputs": [
        {
          "name": "stdout",
          "output_type": "stream",
          "text": [
            "State: ['Finished', 'Finished', 'Finished', 'Finished', 'Finished', 'Finished', 'Finished', 'Finished', 'Finished', 'Finished', 'Finished', 'Finished', 'Finished', 'Finished', 'Finished', 'Finished', 'Finished', 'Finished', 'Finished', 'Finished', 'Finished', 'Finished', 'Finished', 'Finished', 'Finished', 'Finished', 'Finished', 'Finished', 'Finished', 'Finished', 'Finished', 'Finished', 'Finished', 'Finished', 'Finished', 'Finished', 'Finished', 'Finished', 'Finished', 'Finished', 'Finished', 'Finished', 'Finished', 'Finished', 'Finished', 'Finished', 'Finished', 'Finished', 'Finished', 'Finished']\n",
            "Started on: ['11/11/2021 19:00', '11/11/2021 19:00', '11/11/2021 19:00', '11/11/2021 19:00', '11/11/2021 19:01', '11/11/2021 19:01', '11/11/2021 19:02', '11/11/2021 19:04', '11/11/2021 19:04', '11/11/2021 19:05', '11/11/2021 19:05', '11/11/2021 19:06', '11/11/2021 19:06', '11/11/2021 19:09', '11/11/2021 19:15', '11/11/2021 19:17', '11/11/2021 19:19', '11/11/2021 19:23', '11/11/2021 19:23', '11/11/2021 19:25', '11/11/2021 19:35', '11/11/2021 19:35', '11/11/2021 19:48', '11/11/2021 19:48', '11/11/2021 19:53', '11/11/2021 20:03', '11/11/2021 20:03', '11/11/2021 20:06', '11/11/2021 20:06', '11/11/2021 20:12', '11/11/2021 20:14', '11/11/2021 20:15', '11/11/2021 20:16', '11/11/2021 20:22', '11/11/2021 20:22', '11/11/2021 20:22', '11/11/2021 20:22', '11/11/2021 20:26', '11/11/2021 20:35', '11/11/2021 20:47', '11/11/2021 20:49', '11/11/2021 20:57', '11/11/2021 20:58', '11/11/2021 21:05', '11/11/2021 21:25', '11/11/2021 21:30', '11/11/2021 21:38', '11/11/2021 22:02', '11/11/2021 22:15', '11/11/2021 22:32']\n",
            "Completed: ['11/11/2021 19:13', '11/11/2021 19:38', '11/11/2021 19:22', '11/11/2021 19:33', '11/11/2021 19:24', '11/11/2021 19:33', '11/11/2021 19:30', '11/11/2021 22:05', '11/11/2021 19:51', '11/11/2021 19:27', '11/11/2021 19:32', '11/11/2021 19:53', '11/11/2021 19:32', '11/11/2021 19:54', '11/11/2021 19:27', '11/11/2021 19:37', '11/11/2021 19:34', '11/11/2021 19:49', '11/11/2021 19:40', '11/11/2021 19:46', '11/11/2021 19:51', '11/11/2021 20:25', '11/11/2021 21:12', '11/11/2021 20:00', '11/11/2021 20:05', '11/11/2021 20:17', '11/11/2021 20:32', '11/11/2021 20:18', '11/11/2021 20:47', '11/11/2021 20:26', '11/11/2021 20:36', '11/11/2021 20:33', '11/11/2021 20:57', '11/11/2021 21:08', '11/11/2021 20:46', '11/11/2021 20:52', '11/11/2021 20:37', '11/11/2021 20:46', '11/11/2021 21:18', '11/11/2021 21:25', '11/11/2021 21:25', '11/11/2021 21:12', '11/11/2021 21:16', '11/11/2021 21:26', '11/11/2021 21:47', '11/11/2021 21:42', '11/11/2021 21:52', '11/11/2021 22:18', '11/11/2021 22:31', '11/11/2021 22:54']\n",
            "Time taken: ['13 mins 31 secs', '38 mins 9 secs', '22 mins 9 secs', '32 mins 16 secs', '23 mins 53 secs', '32 mins 17 secs', '27 mins 29 secs', '3 hours', '47 mins 11 secs', '21 mins 56 secs', '27 mins 8 secs', '47 mins 5 secs', '26 mins 7 secs', '44 mins 43 secs', '12 mins 24 secs', '19 mins 43 secs', '15 mins 30 secs', '26 mins 36 secs', '16 mins 50 secs', '20 mins 23 secs', '16 mins 16 secs', '49 mins 37 secs', '1 hour 24 mins', '12 mins 53 secs', '11 mins 29 secs', '13 mins 50 secs', '28 mins 59 secs', '12 mins 49 secs', '41 mins 23 secs', '13 mins 51 secs', '22 mins 8 secs', '18 mins 39 secs', '41 mins 11 secs', '46 mins 36 secs', '24 mins 10 secs', '30 mins 14 secs', '15 mins 17 secs', '20 mins 6 secs', '43 mins 18 secs', '37 mins 33 secs', '35 mins 42 secs', '15 mins 14 secs', '17 mins 26 secs', '20 mins 57 secs', '21 mins 51 secs', '12 mins 43 secs', '13 mins 53 secs', '15 mins 17 secs', '15 mins 58 secs', '21 mins 38 secs']\n",
            "Grade/16.00: ['13.17', '14.5', '8.42', '16', '13.33', '15.33', '9.67', '5.08', '14.5', '11.17', '12.75', '14.75', '7.25', '12.67', '5.08', '15.17', '7', '15', '13.5', '8.92', '14.75', '15.67', '7.75', '9.83', '8.83', '11.67', '8.67', '7.92', '13.67', '7.83', '9.42', '13.25', '13.5', '4.17', '15.33', '9.5', '8.58', '10.17', '13.17', '15', '14.67', '9.42', '12.33', '15', '8.67', '13.17', '7.17', '13.58', '12.42', '14.5']\n",
            "Q. 1 /1.00: ['1', '1', '0.75', '1', '1', '1', '1', '0.67', '1', '1', '1', '1', '1', '1', '0', '1', '1', '1', '1', '0.75', '0.75', '1', '0.75', '0.75', '0.42', '1', '1', '1', '1', '1', '0.75', '0.75', '0.75', '0.75', '1', '1', '0.42', '0.75', '1', '1', '1', '0.5', '0.75', '1', '0.75', '0.67', '1', '0.75', '0.75', '1']\n",
            "Q. 2 /1.00: ['0', '1', '0', '1', '1', '1', '0', '1', '1', '0', '1', '1', '0', '0', '0', '1', '1', '0', '1', '1', '0', '1', '0', '1', '1', '1', '0', '1', '0', '0', '0', '0', '0', '1', '1', '1', '0', '0', '1', '0', '1', '1', '1', '0', '0', '1', '1', '1', '0', '1']\n",
            "Q. 3 /1.00: ['1', '1', '0', '1', '1', '1', '1', '0', '1', '1', '1', '1', '0', '1', '0', '1', '0', '1', '1', '1', '1', '1', '1', '1', '1', '1', '0', '0', '1', '1', '1', '1', '1', '0', '1', '0', '1', '1', '1', '1', '1', '0', '1', '1', '1', '1', '0', '1', '1', '1']\n",
            "Q. 4 /1.00: ['1', '1', '0', '1', '1', '1', '1', '0', '0', '1', '1', '0', '0', '1', '1', '1', '1', '1', '1', '1', '1', '1', '1', '0', '0', '1', '1', '0', '1', '0', '1', '1', '1', '0', '1', '0', '1', '0', '0', '1', '1', '1', '1', '1', '1', '1', '1', '1', '1', '1']\n",
            "Q. 5 /1.00: ['1', '1', '1', '1', '1', '1', '1', '0.75', '1', '0.5', '0.75', '0.75', '0.75', '1', '0.25', '1', '0.5', '1', '1', '0.5', '1', '1', '1', '0.75', '0.75', '0.5', '1', '0.75', '1', '0.5', '1', '1', '0.75', '0.75', '1', '1', '1', '0.75', '1', '1', '1', '0.75', '0.75', '1', '0.75', '1', '1', '1', '1', '1']\n",
            "Q. 6 /1.00: ['1', '1', '1', '1', '0', '1', '0', '0', '1', '1', '1', '1', '0', '1', '0', '1', '0', '1', '0', '0', '1', '1', '1', '0', '1', '1', '1', '1', '1', '0', '1', '1', '1', '0', '1', '1', '0', '1', '1', '1', '0', '1', '0', '1', '1', '1', '0', '1', '0', '1']\n",
            "Q. 7 /1.00: ['1', '1', '0', '1', '1', '1', '0', '0', '1', '1', '1', '1', '0', '1', '0', '1', '0', '1', '1', '0', '1', '1', '1', '0', '1', '0', '0', '0', '1', '0', '1', '0', '1', '0', '1', '0', '0', '1', '1', '1', '1', '0', '0', '1', '0', '1', '0', '1', '1', '1']\n",
            "Q. 8 /1.00: ['1', '0', '0', '1', '1', '1', '0', '0', '1', '0', '0', '1', '0', '1', '0', '1', '0', '1', '1', '0', '1', '1', '0', '1', '0', '0', '0', '0', '1', '0', '0', '1', '1', '0', '1', '0', '0', '0', '1', '1', '1', '0', '1', '1', '0', '0', '0', '1', '1', '1']\n",
            "Q. 9 /1.00: ['1', '1', '1', '1', '1', '1', '0', '0', '1', '1', '1', '1', '0', '0', '1', '1', '0', '1', '1', '1', '1', '1', '0', '1', '0', '1', '1', '0', '1', '1', '0', '1', '1', '0', '1', '0', '1', '1', '1', '1', '1', '1', '1', '1', '1', '1', '0', '0', '1', '0']\n",
            "Q. 10 /1.00: ['0', '1', '1', '1', '1', '1', '0', '0', '1', '1', '1', '1', '0', '1', '0', '1', '0', '1', '0', '0', '1', '1', '1', '1', '0', '0', '1', '0', '1', '0', '0', '1', '1', '0', '1', '0', '0', '0', '1', '1', '1', '0', '1', '1', '0', '1', '0', '1', '1', '1']\n",
            "Q. 11 /1.00: ['1', '1', '0.67', '1', '0.17', '1', '1', '0.5', '1', '0.17', '0.5', '1', '0.5', '0.5', '0.67', '0.17', '1', '1', '0.5', '0.5', '1', '1', '0', '0.67', '0.5', '0.17', '0.5', '0', '1', '0.17', '0.17', '1', '1', '1', '0.67', '0.5', '1', '1', '0.5', '1', '1', '0.5', '0.17', '1', '0.17', '0.5', '0.67', '0.17', '0.17', '1']\n",
            "Q. 12 /1.00: ['0.67', '0.5', '1', '1', '0.17', '0.67', '0.67', '0.17', '1', '0', '0.67', '1', '1', '0.17', '0.17', '1', '0', '1', '1', '0.17', '1', '1', '0', '0', '0', '1', '0.67', '0.17', '0.17', '0.17', '0.5', '0.5', '1', '0.17', '0.67', '1', '1', '0.67', '0.17', '1', '1', '0.17', '0.67', '1', '1', '1', '0.33', '1', '1', '1']\n",
            "Q. 13 /1.00: ['1', '1', '0', '1', '1', '1', '1', '1', '1', '1', '1', '1', '1', '1', '0', '1', '1', '1', '1', '1', '1', '1', '0', '1', '1', '1', '0', '1', '1', '1', '1', '1', '0', '0', '1', '1', '0', '1', '1', '1', '1', '1', '1', '1', '0', '1', '1', '1', '1', '1']\n",
            "Q. 14 /1.00: ['1', '1', '0', '1', '1', '1', '1', '0', '1', '1', '1', '1', '1', '1', '1', '1', '0', '1', '1', '0', '1', '1', '0', '1', '1', '1', '0', '1', '1', '1', '0', '1', '1', '0', '1', '1', '1', '1', '1', '1', '1', '1', '1', '1', '1', '1', '1', '1', '1', '1']\n",
            "Q. 15 /1.00: ['0.5', '1', '1', '1', '1', '1', '1', '0', '0.5', '0.5', '0.5', '1', '1', '1', '0', '1', '1', '1', '1', '1', '1', '1', '0.5', '0', '0.5', '1', '0.5', '1', '0.5', '1', '1', '1', '1', '0.5', '1', '1', '0.5', '0', '0.5', '1', '1', '0.5', '1', '1', '0', '1', '0', '1', '0.5', '0.5']\n",
            "Q. 16 /1.00: ['1', '1', '1', '1', '1', '0.67', '1', '1', '1', '1', '0.33', '1', '1', '1', '1', '1', '0.5', '1', '1', '1', '1', '0.67', '0.5', '0.67', '0.67', '1', '1', '1', '1', '1', '1', '1', '1', '0', '1', '1', '0.67', '1', '1', '1', '0.67', '1', '1', '1', '1', '0', '0.17', '0.67', '1', '1']\n"
          ]
        }
      ],
      "source": [
        "with open('Data/PythonQuiz.csv', 'r') as f:\n",
        "    header_list = f.readline()\n",
        "    header_list = header_list.strip().split(',')\n",
        "    df = {header: [] for header in header_list}\n",
        "\n",
        "    for line in f:\n",
        "        line = line.strip().split(',')\n",
        "        for i in range(len(line)):\n",
        "            df[header_list[i]].append(line[i])\n",
        "# Bỏ dòng cuôi\n",
        "df = {key: values[0:-1] for key, values in df.items()}\n",
        "printDic(df)"
      ]
    },
    {
      "cell_type": "markdown",
      "metadata": {
        "id": "bb27g3pvkV59"
      },
      "source": [
        "### Dữ liệu có bao nhiêu dòng và bao nhiêu cột?"
      ]
    },
    {
      "cell_type": "code",
      "execution_count": 5,
      "metadata": {
        "id": "QLXTAUh7kV59",
        "scrolled": false
      },
      "outputs": [
        {
          "data": {
            "text/plain": [
              "dict_keys(['State', 'Started on', 'Completed', 'Time taken', 'Grade/16.00', 'Q. 1 /1.00', 'Q. 2 /1.00', 'Q. 3 /1.00', 'Q. 4 /1.00', 'Q. 5 /1.00', 'Q. 6 /1.00', 'Q. 7 /1.00', 'Q. 8 /1.00', 'Q. 9 /1.00', 'Q. 10 /1.00', 'Q. 11 /1.00', 'Q. 12 /1.00', 'Q. 13 /1.00', 'Q. 14 /1.00', 'Q. 15 /1.00', 'Q. 16 /1.00'])"
            ]
          },
          "execution_count": 5,
          "metadata": {},
          "output_type": "execute_result"
        }
      ],
      "source": [
        "df.keys()"
      ]
    },
    {
      "cell_type": "code",
      "execution_count": 6,
      "metadata": {
        "id": "kO-9lKEWkV5-"
      },
      "outputs": [
        {
          "data": {
            "text/plain": [
              "50"
            ]
          },
          "execution_count": 6,
          "metadata": {},
          "output_type": "execute_result"
        }
      ],
      "source": [
        "# Số dòng\n",
        "len(df[header_list[0]])"
      ]
    },
    {
      "cell_type": "code",
      "execution_count": 7,
      "metadata": {
        "id": "9mQo0Zy2kV5-"
      },
      "outputs": [
        {
          "data": {
            "text/plain": [
              "21"
            ]
          },
          "execution_count": 7,
          "metadata": {},
          "output_type": "execute_result"
        }
      ],
      "source": [
        "# Số cột\n",
        "len(df.keys())"
      ]
    },
    {
      "cell_type": "markdown",
      "metadata": {
        "id": "1eKZDoBjkV5-"
      },
      "source": [
        "### Mỗi dòng có ý nghĩa gì? Có vấn đề các dòng có ý nghĩa khác nhau không?"
      ]
    },
    {
      "cell_type": "markdown",
      "metadata": {
        "id": "GLvN17SLkV5_"
      },
      "source": [
        "Mỗi dòng ứng với kết quả làm quiz của một sinh viên.\n",
        "\n",
        "Xem qua bảng dữ liệu của file csv thì có vẻ không thấy có dòng nào \"lạc loài\" (thật ra dữ liệu ban đầu là có dòng cuối là dòng tính điểm trung bình của các cột, nhưng mình đã bỏ đi rồi)."
      ]
    },
    {
      "cell_type": "markdown",
      "metadata": {
        "id": "TzmMHr_fkV5_"
      },
      "source": [
        "### Dữ liệu có các dòng bị lặp không?"
      ]
    },
    {
      "cell_type": "markdown",
      "metadata": {
        "id": "U1l4pwt6kV5_"
      },
      "source": [
        "Xem qua bảng dữ liệu của file csv thì có vẻ không thấy có vấn đề một sinh viên xuất hiện nhiều hơn một lần."
      ]
    },
    {
      "cell_type": "markdown",
      "metadata": {
        "id": "9TaqEcgLkV5_"
      },
      "source": [
        "### Mỗi cột có ý nghĩa gì?"
      ]
    },
    {
      "cell_type": "markdown",
      "metadata": {
        "id": "IAcYMQwckV5_"
      },
      "source": [
        "- Cột \"State\": cho biết trạng thái làm bài, chẳng hạn \"Finished\" là đã nộp bài (đã ấn nút \"submit all and finish\")\n",
        "- 3 cột \"Started on\", \"Completed\", \"Time taken\": lần lượt cho biết thời điểm bắt đầu làm, thời điểm làm xong, và thời gian từ khi bắt đầu làm cho tới khi làm xong\n",
        "- Cột \"Grade/16.00\": cho biết điểm tổng (tối đa là 16, vì có 16 câu và mỗi câu 1 điểm)\n",
        "- 16 cột còn lại \"Q. 1 /1.00\", \"Q. 2 /1.00\", ...: cho biết điểm của mỗi câu quiz (mỗi câu làm đúng hoàn toàn thì sẽ được 1 điểm)"
      ]
    },
    {
      "cell_type": "markdown",
      "metadata": {
        "id": "mGJ_54SVkV6A"
      },
      "source": [
        "### Mỗi cột hiện đang có kiểu dữ liệu gì? Có cột nào có kiểu dữ liệu chưa phù hợp để có thể xử lý tiếp không?"
      ]
    },
    {
      "cell_type": "code",
      "execution_count": 8,
      "metadata": {
        "id": "oYCz3wz-kV6A"
      },
      "outputs": [
        {
          "name": "stdout",
          "output_type": "stream",
          "text": [
            "State: <class 'str'>\n",
            "Started on: <class 'str'>\n",
            "Completed: <class 'str'>\n",
            "Time taken: <class 'str'>\n",
            "Grade/16.00: <class 'str'>\n",
            "Q. 1 /1.00: <class 'str'>\n",
            "Q. 2 /1.00: <class 'str'>\n",
            "Q. 3 /1.00: <class 'str'>\n",
            "Q. 4 /1.00: <class 'str'>\n",
            "Q. 5 /1.00: <class 'str'>\n",
            "Q. 6 /1.00: <class 'str'>\n",
            "Q. 7 /1.00: <class 'str'>\n",
            "Q. 8 /1.00: <class 'str'>\n",
            "Q. 9 /1.00: <class 'str'>\n",
            "Q. 10 /1.00: <class 'str'>\n",
            "Q. 11 /1.00: <class 'str'>\n",
            "Q. 12 /1.00: <class 'str'>\n",
            "Q. 13 /1.00: <class 'str'>\n",
            "Q. 14 /1.00: <class 'str'>\n",
            "Q. 15 /1.00: <class 'str'>\n",
            "Q. 16 /1.00: <class 'str'>\n"
          ]
        }
      ],
      "source": [
        "def printTypeOfCols(df):\n",
        "    for col_name, values in df.items():\n",
        "        print(f'{col_name}: {type(values[0])}')\n",
        "\n",
        "printTypeOfCols(df)"
      ]
    },
    {
      "cell_type": "markdown",
      "metadata": {
        "id": "pOgxVGgfkV6A"
      },
      "source": [
        "Đúng như dự đoán, tất cả các cột đều đang có kiểu dữ liệu là str. Để có thể tiếp tục khám phá tiếp thì ta cần tiền xử lý để các cột có kiểu dữ liệu phù hợp.\n",
        "\n",
        "- Cột \"State\": string là đúng rồi, không cần chuyển\n",
        "- Cột \"Started on\" và \"Completed on\": chuyển sang kiểu dữ liệu datetime\n",
        "- Cột \"Time taken\": chuyển sang một con số thể hiện cho số phút\n",
        "- Các cột \"Grade/16.00\", \"Q. 1 /1.00\", ...: chuyển sang kiểu dữ liệu số"
      ]
    },
    {
      "cell_type": "markdown",
      "metadata": {
        "id": "yvM8WM2kkV6B"
      },
      "source": [
        "## Tiền xử lý"
      ]
    },
    {
      "cell_type": "code",
      "execution_count": 9,
      "metadata": {
        "id": "NelQBynPkV6B"
      },
      "outputs": [],
      "source": [
        "new_df = {}\n",
        "def timeToMinutes(time):\n",
        "    hours = 0\n",
        "    minutes = 0\n",
        "    seconds = 0\n",
        "    parse_time = time.split()\n",
        "    for i in range(len(parse_time)):\n",
        "        if \"hour\" in parse_time[i]:\n",
        "            hours = int(parse_time[i - 1])\n",
        "        elif \"sec\" in parse_time[i]:\n",
        "            seconds = int(parse_time[i - 1])\n",
        "        elif \"min\" in parse_time[i]:\n",
        "            minutes = int(parse_time[i - 1])\n",
        "\n",
        "    return hours*60 + minutes + seconds/60.0\n",
        "for col_name, values in df.items():\n",
        "    if '/' in col_name:\n",
        "        values = [float(value) for value in values]\n",
        "    elif col_name in [\"Time taken\"]:\n",
        "        values = [timeToMinutes(value) for value in values]\n",
        "    elif col_name in [\"Started on\", \"Completed\"]:\n",
        "        format = \"%d/%m/%Y %H:%M\"\n",
        "        values = [dt.datetime.strptime(value, format) for value in values]\n",
        "\n",
        "    new_df[col_name] = values\n",
        "        "
      ]
    },
    {
      "cell_type": "code",
      "execution_count": 10,
      "metadata": {
        "id": "W439OLTRkV6C"
      },
      "outputs": [],
      "source": [
        "df = new_df"
      ]
    },
    {
      "cell_type": "code",
      "execution_count": 11,
      "metadata": {
        "id": "qfdFI8jEkV6C"
      },
      "outputs": [
        {
          "name": "stdout",
          "output_type": "stream",
          "text": [
            "State: <class 'str'>\n",
            "Started on: <class 'datetime.datetime'>\n",
            "Completed: <class 'datetime.datetime'>\n",
            "Time taken: <class 'float'>\n",
            "Grade/16.00: <class 'float'>\n",
            "Q. 1 /1.00: <class 'float'>\n",
            "Q. 2 /1.00: <class 'float'>\n",
            "Q. 3 /1.00: <class 'float'>\n",
            "Q. 4 /1.00: <class 'float'>\n",
            "Q. 5 /1.00: <class 'float'>\n",
            "Q. 6 /1.00: <class 'float'>\n",
            "Q. 7 /1.00: <class 'float'>\n",
            "Q. 8 /1.00: <class 'float'>\n",
            "Q. 9 /1.00: <class 'float'>\n",
            "Q. 10 /1.00: <class 'float'>\n",
            "Q. 11 /1.00: <class 'float'>\n",
            "Q. 12 /1.00: <class 'float'>\n",
            "Q. 13 /1.00: <class 'float'>\n",
            "Q. 14 /1.00: <class 'float'>\n",
            "Q. 15 /1.00: <class 'float'>\n",
            "Q. 16 /1.00: <class 'float'>\n"
          ]
        }
      ],
      "source": [
        "printTypeOfCols(df)"
      ]
    },
    {
      "cell_type": "markdown",
      "metadata": {
        "id": "l_trPZuekV6C"
      },
      "source": [
        "## Khám phá dữ liệu"
      ]
    },
    {
      "cell_type": "markdown",
      "metadata": {
        "id": "x8PuFXT5kV6D"
      },
      "source": [
        "### Với mỗi cột có kiểu dữ liệu dạng số (numerical), các giá trị được phân bố như thế nào?\n",
        "\n",
        "- Số-lượng/tỉ-lệ các giá trị thiếu?\n",
        "- Min? max? $\\to$ Có gì bất thường không?"
      ]
    },
    {
      "cell_type": "markdown",
      "metadata": {
        "id": "sZC1PMd1kV6D"
      },
      "source": [
        "Ta thấy: cột \"Started on\" và \"Completed\" có kiểu dữ liệu datetime nhưng cũng có thể cho gia nhập hội numeric và tính min & max luôn.\n",
        "\n",
        "Số-lượng/tỉ-lệ các giá trị thiếu? Không có giá trị thiếu.\n",
        "\n",
        "Min? Max?"
      ]
    },
    {
      "cell_type": "code",
      "execution_count": 12,
      "metadata": {
        "id": "8cBWbEj2kV6D"
      },
      "outputs": [
        {
          "name": "stdout",
          "output_type": "stream",
          "text": [
            "Started on:\t2021-11-11 19:00:00\t\t2021-11-11 22:32:00\n",
            "Completed:\t2021-11-11 19:13:00\t\t2021-11-11 22:54:00\n",
            "Time taken:\t11.483333333333333\t\t180.0\n",
            "Grade/16.00:\t4.17\t\t16.0\n",
            "Q. 1 /1.00:\t0.0\t\t1.0\n",
            "Q. 2 /1.00:\t0.0\t\t1.0\n",
            "Q. 3 /1.00:\t0.0\t\t1.0\n",
            "Q. 4 /1.00:\t0.0\t\t1.0\n",
            "Q. 5 /1.00:\t0.25\t\t1.0\n",
            "Q. 6 /1.00:\t0.0\t\t1.0\n",
            "Q. 7 /1.00:\t0.0\t\t1.0\n",
            "Q. 8 /1.00:\t0.0\t\t1.0\n",
            "Q. 9 /1.00:\t0.0\t\t1.0\n",
            "Q. 10 /1.00:\t0.0\t\t1.0\n",
            "Q. 11 /1.00:\t0.0\t\t1.0\n",
            "Q. 12 /1.00:\t0.0\t\t1.0\n",
            "Q. 13 /1.00:\t0.0\t\t1.0\n",
            "Q. 14 /1.00:\t0.0\t\t1.0\n",
            "Q. 15 /1.00:\t0.0\t\t1.0\n",
            "Q. 16 /1.00:\t0.0\t\t1.0\n"
          ]
        }
      ],
      "source": [
        "for col_name, col_vals in df.items():\n",
        "    if type(col_vals[0]) != str:\n",
        "        print(f'{col_name}:\\t{min(col_vals)}\\t\\t{max(col_vals)}')\n"
      ]
    },
    {
      "cell_type": "markdown",
      "metadata": {
        "id": "ZsE1aeILkV6D"
      },
      "source": [
        "Có vẻ không có gì bất thường."
      ]
    },
    {
      "cell_type": "markdown",
      "metadata": {
        "id": "2E5gJdR7kV6D"
      },
      "source": [
        "### Với mỗi cột có kiểu dữ liệu dạng phân loại (categorical), các giá trị được phân bố như thế nào?\n",
        "\n",
        "- Số-lượng/tỉ-lệ các giá trị thiếu?\n",
        "- Số lượng các giá trị khác nhau? Show một vài giá trị \\\n",
        "$\\to$ Có gì bất thường không?"
      ]
    },
    {
      "cell_type": "markdown",
      "metadata": {
        "id": "bbHwmB8kkV6D"
      },
      "source": [
        "Hội này chỉ có một thành viên là cột \"State\"!\n",
        "\n",
        "Số-lượng/tỉ-lệ các giá trị thiếu? Không có giá trị thiếu.\n",
        "\n",
        "Số lượng các giá trị khác nhau? Show một vài giá trị"
      ]
    },
    {
      "cell_type": "code",
      "execution_count": 13,
      "metadata": {
        "id": "dH2Sn7XhkV6E"
      },
      "outputs": [
        {
          "name": "stdout",
          "output_type": "stream",
          "text": [
            "State\n",
            " Number of unique values: 1\n",
            " List values: {'Finished'}\n"
          ]
        }
      ],
      "source": [
        "for col_name, col_vals in df.items():\n",
        "    if type(col_vals[0]) == str:\n",
        "        col_vals_set = set(col_vals)\n",
        "        print(f'{col_name}\\n Number of unique values: {len(col_vals_set)}\\n List values: {col_vals_set}')"
      ]
    },
    {
      "cell_type": "markdown",
      "metadata": {
        "id": "wAfkCdU_kV6E"
      },
      "source": [
        "Có vẻ không có gì bất thường."
      ]
    },
    {
      "cell_type": "markdown",
      "metadata": {
        "id": "QxSo6PxRkV6E"
      },
      "source": [
        "## Đưa ra câu hỏi cần trả lời"
      ]
    },
    {
      "cell_type": "markdown",
      "metadata": {
        "id": "D0wlqIcGkV6E"
      },
      "source": [
        "Sau khi đã hiểu hơn về dữ liệu, ta sẽ quay lại bước đưa ra câu hỏi cần trả lời: tinh chỉnh câu hỏi, hoặc có thể đưa ra thêm các câu hỏi mới.\n",
        "\n",
        "Câu hỏi “tình trạng hiểu về Python của các bạn trong lớp?” có thể được cụ thể hóa ra thành 2 câu hỏi:\n",
        "\n",
        "1. Cột điểm tổng “Grade/10.00” có phân bố các giá trị như thế nào?\n",
        "2. Câu quiz nào có nhiều bạn làm sai nhất, câu nào có nhiều bạn làm sai nhì, ...?"
      ]
    },
    {
      "cell_type": "markdown",
      "metadata": {
        "id": "DEyqOSx-kV6F"
      },
      "source": [
        "## Tiền xử lý + phân tích dữ liệu để trả lời cho câu hỏi 1"
      ]
    },
    {
      "cell_type": "markdown",
      "metadata": {
        "id": "lBbwMiimkV6F"
      },
      "source": [
        "*Câu hỏi 1: Cột điểm tổng “Grade/10.00” có phân bố các giá trị như thế nào?*\n",
        "\n",
        "Ở đây không cần tiền xử lý mà sẽ đi luôn vào phân tích dữ liệu.\n",
        "\n",
        "Đầu tiên, ta sẽ xem thử median của cột \"Grade/16.00\"."
      ]
    },
    {
      "cell_type": "code",
      "execution_count": 14,
      "metadata": {
        "id": "-JoJDopUkV6F"
      },
      "outputs": [
        {
          "data": {
            "text/plain": [
              "12.42"
            ]
          },
          "execution_count": 14,
          "metadata": {},
          "output_type": "execute_result"
        }
      ],
      "source": [
        "grades = df['Grade/16.00']\n",
        "sorted_grades = sorted(grades)\n",
        "median_index = int(0.5*(len(grades)-1))\n",
        "median = sorted_grades[median_index]\n",
        "median"
      ]
    },
    {
      "cell_type": "markdown",
      "metadata": {
        "id": "9cspw7_RkV6F"
      },
      "source": [
        "Để cảm thụ rõ hơn về phân bố các giá trị của cột \"Grade/16.00\", ta sẽ chia miền giá trị của cột này thành các khoảng (bin) và xem thử mỗi khoảng có bao nhiêu sinh viên.\n",
        "\n",
        "Giả sử ta sẽ chia đoạn [0, 16] thành 4 bin như sau: [0, 4], (4, 8], (8, 12], (12, 16]. Ta có thể lưu kết quả vào một dictionary, trong đó: key là một tuple cho biết 2 đầu của một bin (thay tuple bằng list thì có được không?), value là số lượng sinh viên rơi vào bin này.\n",
        "\n"
      ]
    },
    {
      "cell_type": "code",
      "execution_count": 15,
      "metadata": {},
      "outputs": [
        {
          "name": "stdout",
          "output_type": "stream",
          "text": [
            "(0, 4): 0\n",
            "(4, 8): 9\n",
            "(8, 12): 14\n",
            "(12, 16): 27\n"
          ]
        }
      ],
      "source": [
        "def checkInBin(bin: tuple, number: float):\n",
        "    res = False\n",
        "    if bin[0] == 0 and number == 0:\n",
        "        res = True\n",
        "    elif number > bin[0] and number <= bin[1]:\n",
        "        res = True\n",
        "    return res\n",
        "\n",
        "bin_count = {(0, 4): 0, (4, 8): 0, (8, 12): 0, (12, 16): 0}\n",
        "\n",
        "for grade in grades:\n",
        "    for bin, value in bin_count.items():\n",
        "        if checkInBin(bin, grade):\n",
        "            bin_count[bin] += 1\n",
        "\n",
        "printDic(bin_count)"
      ]
    },
    {
      "cell_type": "markdown",
      "metadata": {
        "id": "bVbfDPDOkV6G"
      },
      "source": [
        "## Tiền xử lý + phân tích dữ liệu để trả lời cho câu hỏi 2"
      ]
    },
    {
      "cell_type": "markdown",
      "metadata": {
        "id": "V4tittfFkV6G"
      },
      "source": [
        "*Câu hỏi 2: Câu quiz nào có nhiều bạn làm sai nhất, câu nào có nhiều bạn làm sai nhì, ...?*\n",
        "\n",
        "Ở đây ta không cần tiền xử lý mà đi trực tiếp vào phân tích dữ liệu\n",
        "\n",
        "Ta có thể lưu kết quả vào một dictionary, trong đó: key là tên của cột ứng với câu quiz, value là điểm trung bình của cột. Dictionary này được sort tăng dần theo value.\n",
        "\n"
      ]
    },
    {
      "cell_type": "code",
      "execution_count": 17,
      "metadata": {},
      "outputs": [
        {
          "data": {
            "text/plain": [
              "[('Q. 8 /1.00', 0.5),\n",
              " ('Q. 2 /1.00', 0.56),\n",
              " ('Q. 7 /1.00', 0.6),\n",
              " ('Q. 10 /1.00', 0.6),\n",
              " ('Q. 12 /1.00', 0.6212000000000002),\n",
              " ('Q. 11 /1.00', 0.6410000000000002),\n",
              " ('Q. 6 /1.00', 0.68),\n",
              " ('Q. 9 /1.00', 0.72),\n",
              " ('Q. 4 /1.00', 0.74),\n",
              " ('Q. 15 /1.00', 0.74),\n",
              " ('Q. 3 /1.00', 0.78),\n",
              " ('Q. 13 /1.00', 0.84),\n",
              " ('Q. 14 /1.00', 0.84),\n",
              " ('Q. 1 /1.00', 0.8636000000000001),\n",
              " ('Q. 16 /1.00', 0.8638000000000002),\n",
              " ('Q. 5 /1.00', 0.87)]"
            ]
          },
          "execution_count": 17,
          "metadata": {},
          "output_type": "execute_result"
        }
      ],
      "source": [
        "mean_quiz_grade = {}\n",
        "for col_name, col_values in df.items():\n",
        "    if \"Q.\" in col_name:\n",
        "        mean_quiz_grade[col_name] = sum(col_values)/len(col_values)\n",
        "\n",
        "# sort the dictionary by value\n",
        "sorted_mean_quiz_grade = sorted(mean_quiz_grade.items(), key=lambda x: x[1])\n",
        "sorted_mean_quiz_grade\n"
      ]
    },
    {
      "cell_type": "markdown",
      "metadata": {},
      "source": [
        "Vậy câu 8 là câu có nhiều bạn làm sai nhất, tiếp theo là câu 2, câu 7, ..."
      ]
    }
  ],
  "metadata": {
    "colab": {
      "provenance": []
    },
    "kernelspec": {
      "display_name": "Python 3 (ipykernel)",
      "language": "python",
      "name": "python3"
    },
    "language_info": {
      "codemirror_mode": {
        "name": "ipython",
        "version": 3
      },
      "file_extension": ".py",
      "mimetype": "text/x-python",
      "name": "python",
      "nbconvert_exporter": "python",
      "pygments_lexer": "ipython3",
      "version": "3.10.8"
    },
    "toc": {
      "base_numbering": 1,
      "nav_menu": {},
      "number_sections": true,
      "sideBar": true,
      "skip_h1_title": false,
      "title_cell": "Table of Contents",
      "title_sidebar": "Contents",
      "toc_cell": false,
      "toc_position": {
        "height": "calc(100% - 180px)",
        "left": "10px",
        "top": "150px",
        "width": "211.352px"
      },
      "toc_section_display": true,
      "toc_window_display": false
    },
    "toc-autonumbering": false
  },
  "nbformat": 4,
  "nbformat_minor": 0
}

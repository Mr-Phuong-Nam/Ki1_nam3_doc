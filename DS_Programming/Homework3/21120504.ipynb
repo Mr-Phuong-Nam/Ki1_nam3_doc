{
 "cells": [
  {
   "cell_type": "markdown",
   "id": "803184f6",
   "metadata": {},
   "source": [
    "## Exercises 1"
   ]
  },
  {
   "cell_type": "markdown",
   "id": "ce96876e",
   "metadata": {},
   "source": [
    "Use `re.search` to find whether a string contains a phone number. The pattern that you write should detect a phone number in the following strings.  \n",
    "```\n",
    "\"Call me at 382-384-3840.\"  \n",
    "\"my number is (510) 849-3519. Call me!\"\n",
    "```  \n",
    "And not find a match in the following strings. \n",
    "```\n",
    "\"my number is 510-849-35192\"  \n",
    "\"here’s my number: 510-849.3519\"\n",
    "``` \n",
    "Consider making your own tests as well  "
   ]
  },
  {
   "cell_type": "code",
   "execution_count": 49,
   "id": "0798e2c8",
   "metadata": {},
   "outputs": [],
   "source": [
    "import re"
   ]
  },
  {
   "cell_type": "code",
   "execution_count": 50,
   "id": "89249001",
   "metadata": {},
   "outputs": [
    {
     "name": "stdout",
     "output_type": "stream",
     "text": [
      "<re.Match object; span=(12, 24), match='382-384-3840'>\n",
      "<re.Match object; span=(14, 28), match='(510) 849-3519'>\n",
      "None\n",
      "None\n"
     ]
    }
   ],
   "source": [
    "# YOUR CODE HERE\n",
    "text = '''\n",
    "\"Call me at 382-384-3840.\"  \n",
    "\"my number is (510) 849-3519. Call me!\"\n",
    "\"my number is 510-849-35192\"  \n",
    "\"here’s my number: 510-849.3519\"\n",
    "'''.strip()\n",
    "pattern = re.compile(r\"(\\d{3}-|\\(\\d{3}\\) )\\d{3}-\\d{4}\\b\")\n",
    "for line in text.split('\\n'):\n",
    "    print(re.search(pattern, line))"
   ]
  },
  {
   "cell_type": "markdown",
   "id": "a1078e7f",
   "metadata": {},
   "source": [
    "## Exercise 2"
   ]
  },
  {
   "cell_type": "markdown",
   "id": "c0d6c3fb",
   "metadata": {},
   "source": [
    "Use `re.sub` to alter the string below so that the dates have a common format that uses a dash for the day, month, and year separator.  \n",
    "```\n",
    "03/12/2018, 03.13.18, 03/14/2018, 03:15:2018\n",
    "```"
   ]
  },
  {
   "cell_type": "code",
   "execution_count": 51,
   "id": "d70602df",
   "metadata": {},
   "outputs": [
    {
     "data": {
      "text/plain": [
       "'03/12/2018, 03/13/18, 03/14/2018, 03/15/2018'"
      ]
     },
     "execution_count": 51,
     "metadata": {},
     "output_type": "execute_result"
    }
   ],
   "source": [
    "# YOUR CODE HERE\n",
    "text = \"03/12/2018, 03.13.18, 03/14/2018, 03:15:2018\"\n",
    "text = re.sub(r'[.:]', r'/', text)\n",
    "text"
   ]
  },
  {
   "cell_type": "markdown",
   "id": "fa794a04",
   "metadata": {},
   "source": [
    "## Exercise 3"
   ]
  },
  {
   "cell_type": "markdown",
   "id": "ce035dd6",
   "metadata": {},
   "source": [
    "Consider the first five sentences of the novel “Little Women” below. Extract the spoken dialog from each sentence."
   ]
  },
  {
   "cell_type": "code",
   "execution_count": 52,
   "id": "997c791a",
   "metadata": {},
   "outputs": [
    {
     "name": "stdout",
     "output_type": "stream",
     "text": [
      "\n",
      "\"Christmas won't be Christmas without any presents,\" grumbled Jo, lying on the rug.\n",
      "\"It's so dreadful to be poor!\" sighed Meg, looking down at her old dress.\n",
      "\"I don't think it's fair for some girls to have plenty of pretty things, and other girls nothing at all,\" added little Amy, with an injured sniff.\n",
      "\"We've got Father and Mother, and each other,\" said Beth contentedly from her corner.\n",
      "The four young faces on which the firelight shone brightened at the cheerful words, but darkened again as Jo said sadly, \"We haven't got Father, and shall not have him for a long time.\"\n",
      "\n"
     ]
    }
   ],
   "source": [
    "text = '''\n",
    "\"Christmas won't be Christmas without any presents,\" grumbled Jo, lying on the rug.\n",
    "\"It's so dreadful to be poor!\" sighed Meg, looking down at her old dress.\n",
    "\"I don't think it's fair for some girls to have plenty of pretty things, and other girls nothing at all,\" added little Amy, with an injured sniff.\n",
    "\"We've got Father and Mother, and each other,\" said Beth contentedly from her corner.\n",
    "The four young faces on which the firelight shone brightened at the cheerful words, but darkened again as Jo said sadly, \"We haven't got Father, and shall not have him for a long time.\"\n",
    "'''\n",
    "print(text)"
   ]
  },
  {
   "cell_type": "code",
   "execution_count": 53,
   "id": "df29ef88",
   "metadata": {},
   "outputs": [
    {
     "name": "stdout",
     "output_type": "stream",
     "text": [
      "\"Christmas won't be Christmas without any presents,\"\n",
      "\"It's so dreadful to be poor!\"\n",
      "\"I don't think it's fair for some girls to have plenty of pretty things, and other girls nothing at all,\"\n",
      "\"We've got Father and Mother, and each other,\"\n",
      "\"We haven't got Father, and shall not have him for a long time.\"\n"
     ]
    }
   ],
   "source": [
    "# YOUR CODE HERE\n",
    "pattern = re.compile(r\"\\\".+\\\"\")\n",
    "results = re.findall(pattern, text)\n",
    "for result in results:\n",
    "    print(result)"
   ]
  },
  {
   "cell_type": "markdown",
   "id": "424b965d",
   "metadata": {},
   "source": [
    "## Exercise 4"
   ]
  },
  {
   "cell_type": "markdown",
   "id": "34fed229",
   "metadata": {},
   "source": [
    "In this exercise, you you working with ```email_test.txt``` file (attached), using Regular Expression. \n",
    "1. Extract name and email address of sender  \n",
    "Output should be something like this\n",
    "```\n",
    "Name:\n",
    "\"MR. JAMES NGOLA.\" \n",
    "\"Mr. Ben Suleman\" \n",
    "\"PRINCE OBONG ELEME\" \n",
    "\"PRINCE OBONG ELEME\" \n",
    "\"Maryam Abacha\" \n",
    "```\n",
    "```\n",
    "Email address:\n",
    "\"james_ngola2002@maktoob.com\"\n",
    "\"bensul2004nng@spinfinder.com\"\n",
    "\"obong_715@epatra.com\"\n",
    "\"obong_715@epatra.com\"\n",
    "\"m_abacha03@www.com\"\n",
    "```\n",
    "2. Find SUBJECT of All email from 01/06/2003 to 13/05/2004 \n"
   ]
  },
  {
   "cell_type": "code",
   "execution_count": 54,
   "id": "c2f0b2da",
   "metadata": {},
   "outputs": [],
   "source": [
    "import re\n",
    "fh = open(r\"Data/email_test.txt\", \"r\").read()\n",
    "\n",
    "# YOUR CODE HERE"
   ]
  },
  {
   "cell_type": "code",
   "execution_count": 55,
   "id": "3f3f60dd",
   "metadata": {},
   "outputs": [
    {
     "name": "stdout",
     "output_type": "stream",
     "text": [
      "['MR. JAMES NGOLA.', 'Mr. Ben Suleman', 'PRINCE OBONG ELEME', 'PRINCE OBONG ELEME', 'Maryam Abacha', 'Barrister tunde dosumu', 'William Drallo', 'MR USMAN ABDUL', 'Tunde  Dosumu', 'Dr.Sam jordan']\n",
      "['james_ngola2002@maktoob.com', 'bensul2004nng@spinfinder.com', 'obong_715@epatra.com', 'obong_715@epatra.com', 'm_abacha03@www.com', 'tunde_dosumu@lycos.com', 'william2244drallo@maktoob.com', 'abdul_817@rediffmail.com', 'barrister_td@lycos.com', 'sjordan@diplomats.com']\n"
     ]
    }
   ],
   "source": [
    "# 1. Extract name and email address of sender\n",
    "# Format: From: \"name\" <email_address>\n",
    "list_matches = re.findall(r\"From: \\\"(.+)\\\" <(.+)>\", fh)\n",
    "names = []\n",
    "email_addresses = []\n",
    "\n",
    "for match in list_matches:\n",
    "    names.append(match[0])\n",
    "    email_addresses.append(match[1])\n",
    "\n",
    "print(names[0:10])\n",
    "print(email_addresses[0:10])"
   ]
  },
  {
   "cell_type": "code",
   "execution_count": 56,
   "id": "6f1e9944",
   "metadata": {},
   "outputs": [],
   "source": [
    "import datetime"
   ]
  },
  {
   "cell_type": "code",
   "execution_count": 57,
   "id": "9ed1dceb",
   "metadata": {},
   "outputs": [
    {
     "name": "stdout",
     "output_type": "stream",
     "text": [
      "04/10/2003 Hello From Mrs. Victoria Bucknor\n",
      "06/06/2003 From Nkomo Oil services, Urgent Transaction!\n",
      "02/06/2003 urgent reply\n",
      "03/06/2003 DEAR PARTNER\n",
      "04/06/2003 ***SPAM*** ***SPAM*** PRIVATE  MAIL.  PLEASE REPLY IMMEDIATELY.  \n",
      "05/06/2003 let us work together\n",
      "09/06/2003 CRY FOR HELP\n",
      "10/06/2003 GOD'S  WORK.\n",
      "11/06/2003 Can You Keep A Secret?\n",
      "12/06/2003 Urgent response!\n",
      "13/06/2003 GOODDAY SIR\n",
      "14/06/2003 THIS IS PRIVATE AND PERSONAL.\n",
      "15/06/2003 PLEASE GET BACK TO ME URGENTLY\n",
      "16/06/2003 HELP/BUSINESS PROPOSAL\n",
      "17/06/2003 MY FRIEND, PLEASE I WANT TO HEAR FROM YOU TODAY\n",
      "23/06/2003  MRS SARA LAURENT KABILA\n",
      "24/06/2003 please reply\n",
      "27/06/2003 Urgent\n",
      "28/06/2003 N.N.P.C ( STRICTLY   FOR  YOU )\n",
      "29/06/2003 Proposal\n",
      "30/06/2003 Private and Confidential.\n",
      "01/07/2003 BUSINESS OPPORTUNITY\n",
      "02/07/2003 BUSINESS OPPORTUNITY\n",
      "03/07/2003 CHANGES\n",
      "05/07/2003 Important Business Proposition\n",
      "08/07/2003 Thank You.\n",
      "11/07/2003 URGENT  ASSISTANCE\n",
      "14/07/2003 please\n",
      "16/07/2003 Hello\n",
      "17/07/2003 HELLO\n",
      "20/07/2003 Solicitation\n",
      "22/07/2003 AN URGENT HELP.\n",
      "23/07/2003 Investment  Proposal.\n",
      "24/07/2003 CONGRATULATIONS\n",
      "25/07/2003 NEED YOUR ASSISTANCE\n",
      "27/07/2003 PLEASE HELP\n",
      "29/07/2003 URGENT BUSINESS PROPOSAL\n",
      "28/07/2003 URGENT AND CONFIDENTIAL\n",
      "30/07/2003 HELLO\n",
      "31/07/2003 HELLO.\n",
      "02/08/2003 urgent from duke\n",
      "03/08/2003 MY DEAR !\n",
      "04/08/2003 please reply\n",
      "05/08/2003 Hello, please reply now!\n",
      "07/08/2003 URGENT RESPONSE\n",
      "08/08/2003 Urgent Assistance From South Africa.\n",
      "11/08/2003 from barr mathew ike\n",
      "12/08/2003 Fund Management.\n",
      "13/08/2003 FROM MUSTAFA\n",
      "14/08/2003 HELLO\n",
      "16/08/2003 TRUSTED PARTNER.\n",
      "21/08/2003 OVER TURE\n",
      "20/08/2003      Matter Of Assistance\n",
      "22/08/2003 REQUEST\n",
      "23/08/2003 NEXT OF KIN NEEDED\n",
      "26/08/2003 vital  link.\n",
      "27/08/2003 URGENT&CONFIDENTAT\n",
      "29/08/2003 Please could you be of help.\n",
      "01/09/2003 INVESTMENT PROPOSAL\n",
      "02/09/2003 REQUEST....\n",
      "03/09/2003 [Info-www-search] Your Understanding And Cooperation\n",
      "04/09/2003      URGENT BUSINESS PROPOSAL,\n",
      "05/09/2003 URGENT ASSISTANCE\n",
      "10/09/2003 ASSISTANCE\n",
      "14/09/2003 PROJECT INTEREST.\n",
      "17/09/2003 Hilary Kamokai \n",
      "18/09/2003 BUSINESS PROPOSER REQUESTING CHANGE OF OWNERSHIP\n",
      "19/09/2003 HOW ARE YOU TODAY?\n",
      "20/09/2003 REQUEST....\n",
      "23/09/2003 Responds needed\n",
      "22/09/2003 DONATION FOR THE LORD.\n",
      "24/09/2003 partnership\n",
      "25/09/2003 confirm receipt.\n",
      "26/09/2003 Please help.Thomas Sesay Karimu\n",
      "27/09/2003 URGENT APPEAL FOR HELP.\n",
      "28/09/2003 ASSIST\n",
      "29/09/2003 FOR A MUTUAL BUSINESS BENEFIT\n",
      "01/10/2003 URGENT BUSINESS PARTNERSHIP REQUEST\n",
      "02/10/2003 JOINT VENTURE\n",
      "03/10/2003  FROM MISS ZAINAB UBA \n",
      "06/10/2003 DONATION FOR THE LORD.\n",
      "07/10/2003 ?????????? \n",
      "10/07/2003 URGENT ASSISTANCE\n",
      "08/10/2003 I NEED YOUR URGENT HELP PLEASE\n",
      "09/10/2003 HELP\n",
      "10/10/2003 CAN I TRUST YOU ??????............\n",
      "11/10/2003 reply\n",
      "12/10/2003 BUSINESS PROPOSAL.\n",
      "13/10/2003 THANKS\n",
      "14/10/2003 Business Proposal\n",
      "15/10/2003 urgent from duke\n",
      "16/10/2003 FROM MR.MICHAEL OF I.B.A !\n",
      "18/10/2003 HELP.\n",
      "19/10/2003 From:  Davies\n",
      "20/10/2003 GREETINGS FROM MARK\n",
      "21/10/2003 CONFIDENTIAL BUSINESS PROPOSAL.\n",
      "22/10/2003 Chessonfamily corporation\n",
      "23/10/2003 CONTACT ME\n",
      "24/10/2003 DR , DONALD  IKE\n",
      "26/10/2003 AWARD NOTIFICATION; FINAL NOTICE\n",
      "27/10/2003 GREETINGS!\n",
      "28/10/2003 hello\n",
      "30/10/2003 mail me\n",
      "31/10/2003 please assist\n",
      "04/11/2003 YOUR ATTENTION URGENTLY NEEDED.      quintman\n",
      "05/11/2003 URGENT\n",
      "06/11/2003  DEAR  FRIEND\n",
      "08/11/2003 URGENT ASSISTANCE\n",
      "12/11/2003 rrrrr,CONFIDENTIAL PARTNERSHIP SOLICITATION\n",
      "13/11/2003 From Dr. Mohammed Mustafa\n",
      "14/11/2003 let us work it out\n",
      "17/11/2003 PROPOSAL\n",
      "19/11/2003 rose\n",
      "22/11/2003 urgent assistance\n",
      "24/11/2003 KALADA HART\n",
      "25/11/2003 james momodu\n",
      "26/11/2003 from DR. JOHNSON KENNETH\n",
      "27/11/2003 MY WISH\n",
      "28/11/2003 THIS IS HUMANITERIAN SERVICE THAT REQUIRES YOUR ATTENTION!\n",
      "30/11/2003 business  assistance\n",
      "01/12/2003 Investment Opportunity\n",
      "02/12/2003 KINDLY TREAT\n",
      "03/12/2003 MAIL ME\n",
      "04/12/2003 feedback\n",
      "07/12/2003 Attn please\n",
      "10/12/2003 SINGAPORE URGENT\n",
      "13/12/2003 partnership / investment\n",
      "14/12/2003 Very Important\n",
      "15/12/2003 URGENT ASSISTANCE\n",
      "16/12/2003 Very Important\n",
      "21/12/2003 CLAIMS\n",
      "22/12/2003 CONFIDENTIAL\n",
      "24/12/2003 Please Be My Investor Trustee.\n",
      "29/12/2003 Urgent Help\n",
      "04/01/2004 RE: Assistance/Fund Transfer\n",
      "05/01/2004 REQUEST FOR URGENT ASSISTANCE \n",
      "06/01/2004 GOOD DAY!!!!!\n",
      "07/01/2004 URGENT PARTNERSHIP!\n",
      "08/01/2004 investment Relationship\n",
      "09/01/2004 Reply\n",
      "10/01/2004 VERY URGENT\n",
      "11/01/2004 Compliment of the season\n",
      "13/01/2004 URGENT,PLEASE HELP ME\n",
      "14/01/2004 SOLICITATION\n",
      "16/01/2004 I AM REQUESTING FOR YOUR ASSISTANCE,DIRECTOR/CEO\n",
      "17/01/2004 hello\n",
      "18/01/2004 Re:\n",
      "19/01/2004 SOLICITATION\n",
      "03/01/2004 RE: Assistance/Fund Transfer\n",
      "20/01/2004 hello my dear\n",
      "21/01/2004 Fund Management\n",
      "22/01/2004 Re:\n",
      "23/01/2004 Re: urgent\n",
      "24/01/2004 HIGHLY CONFIDENTIAL\n",
      "25/01/2004 Consignment: To Benefit you too\n",
      "26/01/2004 business c o operation\n",
      "28/01/2004 YOURS\n",
      "29/01/2004 GOOD  DAY\n",
      "30/01/2004 [Nutch-general] PLEASE GET BACK TO ME.\n",
      "02/02/2004 Re: the issue\n",
      "03/02/2004 EMAIL ME ON THIS ISSUE\n",
      "05/02/2004 URGENT,PLEASE HELP ME\n",
      "06/02/2004 COULD YOU BE OF HELP?\n",
      "08/02/2004 I NEED YOUR ASSISTANT\n",
      "10/02/2004 Please Help Me!!!\n",
      "11/02/2004 safe keeping\n",
      "12/02/2004 URGENT SUPPLY OF YOUR COMPANY PRODUCTS\n",
      "13/02/2004 BUSINESS/PROPOSAL.\n",
      "16/02/2004 Notify your intrest\n",
      "18/02/2004 COMPLIMENT, PLEASE I NEED YOUR ASIASTANCE,\n",
      "19/02/2004 Greetings from Mrs. M. Abacha,\n",
      "20/02/2004 REPLY IMMEDIATELY (ANTWORT\n",
      "21/02/2004 REPLY SOON\n",
      "22/02/2004 business transaction\n",
      "23/02/2004 Re:\n",
      "24/02/2004 ASSISTANCE CLAIM OF FUND\n",
      "25/02/2004 CONFIDENTIAL/TRUST\n",
      "26/02/2004 from Zimbabwe with love\n",
      "28/02/2004 SOLICITING YOUR ASSISTANCE\n",
      "29/02/2004 Urgent  response needed\n",
      "06/03/2004 SOLID PROPOSAL\n",
      "15/02/2004 MUTUAL VENTURE PROPOSITION\n",
      "08/03/2004 OFFER\n",
      "11/03/2004 GOOD DAY.\n",
      "14/03/2004 HELP ME PLEASE\n",
      "15/03/2004 NEED URGENT ASSISTANCE FOR FOREIGN INVESTMENT\n",
      "16/03/2004 Hello!\n",
      "18/03/2004 IS URGENT GET BACK TO ME\n",
      "20/03/2004 Very Urgent Business......\n",
      "22/03/2004 GOOD DAY\n",
      "23/03/2004 CONFIDENTIAL\n",
      "24/03/2004 James\n",
      "26/03/2004 PLEASE HELP ME\n",
      "29/03/2004 Urgent From Taiwan.\n",
      "30/03/2004 ASSISTANCE & OFFER !!!\n",
      "31/03/2004 GOOD DAY\n",
      "01/04/2004 CONFIDENTIAL IN THE NAME OF ALLAH.\n",
      "05/04/2004 CONFIDENTIAL./PERSONAL\n",
      "06/04/2004 Greetings from Mr.Johnson\n",
      "07/04/2004 FROM  MONICA\n",
      "08/04/2004 FROM JOHN CARLOS\n",
      "12/04/2004 I NEED YOUR ASSISTANCE\n",
      "13/04/2004 Mr. John Coleman and  Miss Rose  Coleman\n",
      "14/04/2004 Investment proposal\n",
      "20/04/2004 I  NEED  HELP\n",
      "24/04/2004 From John Coleman\n",
      "27/04/2004 URGENT ADVICE\n",
      "28/04/2004 I NEED YOUR LITTLE HELP.\n",
      "29/04/2004 From Reverend Ngoly\n",
      "30/04/2004 URGENT BUSINESS PLAN\n",
      "01/05/2004 REAL ESTATE INVESTMENT!\n",
      "05/05/2004 ASSIST ME AND MY FAMILY PLEASE.\n",
      "07/05/2004 Dearest\n",
      "08/05/2004 urgent assitance\n",
      "09/05/2004 URGENT  REPLY / CONFIDENCIAL.\n",
      "12/05/2004 FROM:MR.SESAY MASSAQUOE\n",
      "13/05/2004 RE: +++PLEASE WE NEED YOUR HELP US$32.5 MILLION !!!!!  \n"
     ]
    }
   ],
   "source": [
    "# 2. Find SUBJECT of All email from 01/06/2003 to 13/05/2004\n",
    "# Every email starts with \"From r\"\n",
    "list_emails = re.split(r\"From r\", fh)\n",
    "\n",
    "date_subject = {}\n",
    "\n",
    "for email in list_emails:\n",
    "    # Exmaple: Date: Sat, 1 Feb 2003 17:20:51 -0800\n",
    "    Date = re.search(r\"Date: (.+)\", email)\n",
    "\n",
    "    if Date != None:\n",
    "        date = re.search(r\"(\\d+) ([A-Z][a-z]{2}) (\\d{4})\", Date.group(0))\n",
    "\n",
    "        if date != None:\n",
    "            date = datetime.datetime.strptime(date.group(0), \"%d %b %Y\")\n",
    "\n",
    "            if date >= datetime.datetime(2003, 6, 1) and date <= datetime.datetime(2004, 5, 13):\n",
    "                # Exmaple: Subject: FOREIGN PARTNER\n",
    "                subject = re.search(r\"Subject: (.+)\", email)\n",
    "                if subject != None:\n",
    "                    subject = subject.group(1)\n",
    "                    date_subject[date] = subject\n",
    "\n",
    "for date, subject in date_subject.items():\n",
    "    print(date.strftime(\"%d/%m/%Y\"), subject)"
   ]
  }
 ],
 "metadata": {
  "kernelspec": {
   "display_name": "Python 3 (ipykernel)",
   "language": "python",
   "name": "python3"
  },
  "language_info": {
   "codemirror_mode": {
    "name": "ipython",
    "version": 3
   },
   "file_extension": ".py",
   "mimetype": "text/x-python",
   "name": "python",
   "nbconvert_exporter": "python",
   "pygments_lexer": "ipython3",
   "version": "3.10.8"
  }
 },
 "nbformat": 4,
 "nbformat_minor": 5
}

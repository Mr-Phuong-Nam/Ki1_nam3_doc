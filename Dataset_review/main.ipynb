{
<<<<<<< HEAD
 "cells": [
  {
   "cell_type": "markdown",
   "metadata": {},
   "source": [
    "# Data collection"
   ]
  },
  {
   "cell_type": "code",
   "execution_count": 9,
   "metadata": {},
   "outputs": [],
   "source": [
    "import pandas as pd\n",
    "# Draw discover year\n",
    "import matplotlib.pyplot as plt\n",
    "import seaborn as sns\n",
    "sns.set_style('darkgrid')"
   ]
  },
  {
   "cell_type": "code",
   "execution_count": 10,
   "metadata": {},
   "outputs": [
=======
  "cells": [
>>>>>>> refs/remotes/origin/main
    {
      "cell_type": "markdown",
      "metadata": {
        "id": "IcBrjIUc1YFz"
      },
      "source": [
        "# Data collection"
      ]
<<<<<<< HEAD
     },
     "execution_count": 10,
     "metadata": {},
     "output_type": "execute_result"
    }
   ],
   "source": [
    "universe_df = pd.read_csv('./VuTru/NASA_Exoplanets.csv')\n",
    "universe_df.head()"
   ]
  },
  {
   "cell_type": "code",
   "execution_count": 11,
   "metadata": {},
   "outputs": [
    {
     "data": {
      "image/png": "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",
      "text/plain": [
       "<Figure size 1200x600 with 1 Axes>"
      ]
     },
     "metadata": {},
     "output_type": "display_data"
    }
   ],
   "source": [
    "plt.figure(figsize=(12,6))\n",
    "plt.title('Exoplanets discovered by year')\n",
    "sns.countplot(x='discovery_year', data=universe_df)\n",
    "plt.xticks(rotation=90)\n",
    "plt.show()"
   ]
  }
 ],
 "metadata": {
  "kernelspec": {
   "display_name": "min_ds-env",
   "language": "python",
   "name": "python3"
=======
    },
    {
      "cell_type": "code",
      "execution_count": null,
      "metadata": {
        "id": "a_xzxceG1YF0"
      },
      "outputs": [],
      "source": [
        "import torch\n",
        "import pandas as pd\n",
        "import numpy as np"
      ]
    },
    {
      "cell_type": "markdown",
      "source": [
        "**TODO**: nothing."
      ],
      "metadata": {
        "id": "vJz-sL6Z1mVS"
      }
    },
    {
      "cell_type": "code",
      "execution_count": null,
      "metadata": {
        "id": "RBS8nWHY1YF1",
        "outputId": "81792bae-5b4c-48b0-b216-891893cf2942"
      },
      "outputs": [
        {
          "data": {
            "text/html": [
              "<div>\n",
              "<style scoped>\n",
              "    .dataframe tbody tr th:only-of-type {\n",
              "        vertical-align: middle;\n",
              "    }\n",
              "\n",
              "    .dataframe tbody tr th {\n",
              "        vertical-align: top;\n",
              "    }\n",
              "\n",
              "    .dataframe thead th {\n",
              "        text-align: right;\n",
              "    }\n",
              "</style>\n",
              "<table border=\"1\" class=\"dataframe\">\n",
              "  <thead>\n",
              "    <tr style=\"text-align: right;\">\n",
              "      <th></th>\n",
              "      <th>name</th>\n",
              "      <th>distance</th>\n",
              "      <th>stellar_magnitude</th>\n",
              "      <th>planet_type</th>\n",
              "      <th>discovery_year</th>\n",
              "      <th>mass_multiplier</th>\n",
              "      <th>mass_wrt</th>\n",
              "      <th>radius_multiplier</th>\n",
              "      <th>radius_wrt</th>\n",
              "      <th>orbital_radius</th>\n",
              "      <th>orbital_period</th>\n",
              "      <th>eccentricity</th>\n",
              "      <th>detection_method</th>\n",
              "    </tr>\n",
              "  </thead>\n",
              "  <tbody>\n",
              "    <tr>\n",
              "      <th>0</th>\n",
              "      <td>11 Comae Berenices b</td>\n",
              "      <td>304.0</td>\n",
              "      <td>4.72307</td>\n",
              "      <td>Gas Giant</td>\n",
              "      <td>2007</td>\n",
              "      <td>19.40000</td>\n",
              "      <td>Jupiter</td>\n",
              "      <td>1.08</td>\n",
              "      <td>Jupiter</td>\n",
              "      <td>1.290000</td>\n",
              "      <td>0.892539</td>\n",
              "      <td>0.23</td>\n",
              "      <td>Radial Velocity</td>\n",
              "    </tr>\n",
              "    <tr>\n",
              "      <th>1</th>\n",
              "      <td>11 Ursae Minoris b</td>\n",
              "      <td>409.0</td>\n",
              "      <td>5.01300</td>\n",
              "      <td>Gas Giant</td>\n",
              "      <td>2009</td>\n",
              "      <td>14.74000</td>\n",
              "      <td>Jupiter</td>\n",
              "      <td>1.09</td>\n",
              "      <td>Jupiter</td>\n",
              "      <td>1.530000</td>\n",
              "      <td>1.400000</td>\n",
              "      <td>0.08</td>\n",
              "      <td>Radial Velocity</td>\n",
              "    </tr>\n",
              "    <tr>\n",
              "      <th>2</th>\n",
              "      <td>14 Andromedae b</td>\n",
              "      <td>246.0</td>\n",
              "      <td>5.23133</td>\n",
              "      <td>Gas Giant</td>\n",
              "      <td>2008</td>\n",
              "      <td>4.80000</td>\n",
              "      <td>Jupiter</td>\n",
              "      <td>1.15</td>\n",
              "      <td>Jupiter</td>\n",
              "      <td>0.830000</td>\n",
              "      <td>0.508693</td>\n",
              "      <td>0.00</td>\n",
              "      <td>Radial Velocity</td>\n",
              "    </tr>\n",
              "    <tr>\n",
              "      <th>3</th>\n",
              "      <td>14 Herculis b</td>\n",
              "      <td>58.0</td>\n",
              "      <td>6.61935</td>\n",
              "      <td>Gas Giant</td>\n",
              "      <td>2002</td>\n",
              "      <td>8.13881</td>\n",
              "      <td>Jupiter</td>\n",
              "      <td>1.12</td>\n",
              "      <td>Jupiter</td>\n",
              "      <td>2.773069</td>\n",
              "      <td>4.800000</td>\n",
              "      <td>0.37</td>\n",
              "      <td>Radial Velocity</td>\n",
              "    </tr>\n",
              "    <tr>\n",
              "      <th>4</th>\n",
              "      <td>16 Cygni B b</td>\n",
              "      <td>69.0</td>\n",
              "      <td>6.21500</td>\n",
              "      <td>Gas Giant</td>\n",
              "      <td>1996</td>\n",
              "      <td>1.78000</td>\n",
              "      <td>Jupiter</td>\n",
              "      <td>1.20</td>\n",
              "      <td>Jupiter</td>\n",
              "      <td>1.660000</td>\n",
              "      <td>2.200000</td>\n",
              "      <td>0.68</td>\n",
              "      <td>Radial Velocity</td>\n",
              "    </tr>\n",
              "  </tbody>\n",
              "</table>\n",
              "</div>"
            ],
            "text/plain": [
              "                   name  distance  stellar_magnitude planet_type  \\\n",
              "0  11 Comae Berenices b     304.0            4.72307   Gas Giant   \n",
              "1    11 Ursae Minoris b     409.0            5.01300   Gas Giant   \n",
              "2       14 Andromedae b     246.0            5.23133   Gas Giant   \n",
              "3         14 Herculis b      58.0            6.61935   Gas Giant   \n",
              "4          16 Cygni B b      69.0            6.21500   Gas Giant   \n",
              "\n",
              "   discovery_year  mass_multiplier mass_wrt  radius_multiplier radius_wrt  \\\n",
              "0            2007         19.40000  Jupiter               1.08    Jupiter   \n",
              "1            2009         14.74000  Jupiter               1.09    Jupiter   \n",
              "2            2008          4.80000  Jupiter               1.15    Jupiter   \n",
              "3            2002          8.13881  Jupiter               1.12    Jupiter   \n",
              "4            1996          1.78000  Jupiter               1.20    Jupiter   \n",
              "\n",
              "   orbital_radius  orbital_period  eccentricity detection_method  \n",
              "0        1.290000        0.892539          0.23  Radial Velocity  \n",
              "1        1.530000        1.400000          0.08  Radial Velocity  \n",
              "2        0.830000        0.508693          0.00  Radial Velocity  \n",
              "3        2.773069        4.800000          0.37  Radial Velocity  \n",
              "4        1.660000        2.200000          0.68  Radial Velocity  "
            ]
          },
          "execution_count": 4,
          "metadata": {},
          "output_type": "execute_result"
        }
      ],
      "source": [
        "universe_df = pd.read_csv('./VuTru/NASA_Exoplanets.csv')\n",
        "universe_df.info()\n",
        "universe_df.head(10)"
      ]
    },
    {
      "cell_type": "code",
      "source": [
        "universe_df.describe()"
      ],
      "metadata": {
        "id": "Ne6u0ErP1htP"
      },
      "execution_count": null,
      "outputs": []
    }
  ],
  "metadata": {
    "kernelspec": {
      "display_name": "min_ds-env",
      "language": "python",
      "name": "python3"
    },
    "language_info": {
      "codemirror_mode": {
        "name": "ipython",
        "version": 3
      },
      "file_extension": ".py",
      "mimetype": "text/x-python",
      "name": "python",
      "nbconvert_exporter": "python",
      "pygments_lexer": "ipython3",
      "version": "3.10.8"
    },
    "colab": {
      "provenance": []
    }
>>>>>>> refs/remotes/origin/main
  },
  "nbformat": 4,
  "nbformat_minor": 0
}
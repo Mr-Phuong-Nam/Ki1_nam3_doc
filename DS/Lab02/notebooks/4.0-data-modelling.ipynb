{
 "cells": [
  {
   "cell_type": "markdown",
   "metadata": {},
   "source": [
    "<div style=\"text-align: center; background-color: #559cff; font-family: 'Trebuchet MS', Arial, sans-serif; color: white; padding: 20px; font-size: 40px; font-weight: bold; border-radius: 0 0 0 0; box-shadow: 0px 6px 8px rgba(0, 0, 0, 0.2);\">\n",
    "  Lab 02 - Introduction To Data Science @ FIT-HCMUS, VNU-HCM 📌\n",
    "</div>"
   ]
  },
  {
   "cell_type": "markdown",
   "metadata": {},
   "source": [
    "<div style=\"text-align: center; background-color: #b1d1ff; font-family: 'Trebuchet MS', Arial, sans-serif; color: white; padding: 20px; font-size: 40px; font-weight: bold; border-radius: 0 0 0 0; box-shadow: 0px 6px 8px rgba(0, 0, 0, 0.2);\">\n",
    "  Stage 4.0 - Data modelling\n",
    "</div>"
   ]
  },
  {
   "cell_type": "markdown",
   "metadata": {},
   "source": [
    "This section for bouns, you might need to use some basic Machine Learning algorithms to answer some questions that in cases of regression, and classification. In this scope of this subject, highly recommend you use `scikit-learn` (instead of implement once again these algorithms)"
   ]
  },
  {
   "cell_type": "markdown",
   "metadata": {},
   "source": [
    "## Import"
   ]
  },
  {
   "cell_type": "code",
   "execution_count": 27,
   "metadata": {},
   "outputs": [],
   "source": [
    "# YOUR CODE HERE (OPTION) \n",
    "# If you need other libraries, you can import them here\n",
    "# YOUR CODE HERE (OPTION) \n",
    "# If you need other libraries, you can import them here\n",
    "import os\n",
    "import sys\n",
    "\n",
    "module_path = os.path.abspath(os.path.join('..'))\n",
    "if module_path not in sys.path:\n",
    "    sys.path.append(module_path)\n",
    "\n",
    "import numpy as np\n",
    "import pandas as pd\n",
    "import matplotlib.pyplot as plt\n",
    "import requests\n",
    "%matplotlib inline\n",
    "\n",
    "# YOUR CODE HERE (OPTION) \n",
    "# If you need other libraries, you can import them here\n",
    "import seaborn as sns"
   ]
  },
  {
   "cell_type": "markdown",
   "metadata": {},
   "source": [
    "I want to predict the country classifications of the data base on : https://blogs.worldbank.org/opendata/new-world-bank-group-country-classifications-income-level-fy24#:~:text=The%20World%20Bank%E2%80%99s%20income%20classification%20aims%20to%20reflect,significantly%20over%20the%20period%20since%20the%20late%201980s."
   ]
  },
  {
   "cell_type": "markdown",
   "metadata": {},
   "source": [
    "## Data preparation"
   ]
  },
  {
   "cell_type": "code",
   "execution_count": 28,
   "metadata": {},
   "outputs": [],
   "source": [
    "# YOUR CODE HERE (OPTION) \n",
    "cleaned_data = pd.read_csv('../data/processed/21120504_asia_processed.csv')"
   ]
  },
  {
   "cell_type": "markdown",
   "metadata": {},
   "source": [
    "First, we need a label for each country, The label is based on GNI per capita, Atlas method (current US$)\n",
    "- Low Income (<= 1.085): 1\n",
    "- Lower Middle Income (1.085 - 4.225): 2\n",
    "- Upper Middle Income (4.225 - 13.205): 3\n",
    "- High Income (> 13.205): 4\n"
   ]
  },
  {
   "cell_type": "code",
   "execution_count": 41,
   "metadata": {},
   "outputs": [],
   "source": [
    "BASE_URL = 'http://api.worldbank.org/v2/'\n",
    "\n",
    "def get_another_indicator(country_code, country_name, indicator_code,indicator_name, start_year, end_year, per_page=100, format='json'):\n",
    "    url = BASE_URL+'countries/' + country_code.lower() + '/indicators/' + indicator_code.lower()\n",
    "    # gửi request với các tham số mặc định bằng resquests module\n",
    "    params = {'format': format,\n",
    "                'per_page': str(per_page),\n",
    "                'date': str(start_year) + \":\" + str(end_year)}\n",
    "    response = requests.get(url, params=params)\n",
    "    dataLst = []\n",
    "    # Xác thực mã trạng thái phản hồi\n",
    "    # API trả về status_code 200 ngay cả đối với các thông báo lỗi,\n",
    "    # tuy nhiên, nội dung phản hồi chứa một trường có tên là \"thông báo\" bao gồm các chi tiết về lỗi\n",
    "    # kiểm tra xem tin nhắn có xuất hiện trong phản hồi hay không\n",
    "    if response.status_code == 200 and (\"message\" not in response.json()[0].keys()):\n",
    "        # print(\"Successfully got data for: \" + str(featureMap[indicator]))\n",
    "\n",
    "        # danh sách các giá trị cho một đặc trưng\n",
    "        indicatorVals = []\n",
    "\n",
    "        # phản hồi là một mảng chứa hai mảng - [[{page: 1, ...}], [{year: 2018, SP.POP.TOTL: 123455}, ...]]\n",
    "        # do đó chúng ta kiểm tra xem độ dài của phản hồi có > 1 hay không\n",
    "        if len(response.json()) > 1:\n",
    "\n",
    "            # nếu có, lặp lại từng đối tượng trong phản hồi\n",
    "            # mỗi đối tượng cho một giá trị duy nhất cho mỗi năm\n",
    "            for obj in response.json()[1]:\n",
    "\n",
    "                # Kiểm tra giá trị rỗng\n",
    "                if (obj['value'] == \"\") or (obj['value'] is None):\n",
    "                    indicatorVals.append('None')\n",
    "                else:\n",
    "                    # nếu có một giá trị, hãy thêm nó vào danh sách các giá trị chỉ báo indicatorVals\n",
    "                    indicatorVals.append(float(obj['value']))\n",
    "\n",
    "            dataLst.append(indicatorVals)\n",
    "\n",
    "        else:\n",
    "            # In thông báo lỗi nếu lệnh gọi API không thành công\n",
    "            print(\"Error in Loading the data. Status Code: \" +\n",
    "                    str(response.status_code))\n",
    "\n",
    "    # Khi đã có được tất cả các đặc trưng, ta thêm các giá trị cho \"Năm\"\n",
    "    # API trả về các giá trị indicator từ năm gần đây nhất. Do đó, chúng tôi tạo một danh sách các năm ngược lại\n",
    "\n",
    "    dataLst.append([country_name for _ in range(\n",
    "        int(end_year), int(start_year)-1, -1)])\n",
    "    \n",
    "    dataLst.append([year for year in range(\n",
    "        int(end_year), int(start_year)-1, -1)])\n",
    "    \n",
    "    df = pd.DataFrame(dataLst).T\n",
    "    df.columns = [indicator_name, 'Country', 'Year']\n",
    "    return df"
   ]
  },
  {
   "cell_type": "code",
   "execution_count": 42,
   "metadata": {},
   "outputs": [
    {
     "data": {
      "text/html": [
       "<div>\n",
       "<style scoped>\n",
       "    .dataframe tbody tr th:only-of-type {\n",
       "        vertical-align: middle;\n",
       "    }\n",
       "\n",
       "    .dataframe tbody tr th {\n",
       "        vertical-align: top;\n",
       "    }\n",
       "\n",
       "    .dataframe thead th {\n",
       "        text-align: right;\n",
       "    }\n",
       "</style>\n",
       "<table border=\"1\" class=\"dataframe\">\n",
       "  <thead>\n",
       "    <tr style=\"text-align: right;\">\n",
       "      <th></th>\n",
       "      <th>alpha-2-code</th>\n",
       "      <th>alpha-3-code</th>\n",
       "      <th>numeric</th>\n",
       "      <th>name</th>\n",
       "      <th>capital</th>\n",
       "      <th>continent</th>\n",
       "      <th>region</th>\n",
       "    </tr>\n",
       "  </thead>\n",
       "  <tbody>\n",
       "    <tr>\n",
       "      <th>0</th>\n",
       "      <td>AF</td>\n",
       "      <td>AFG</td>\n",
       "      <td>4</td>\n",
       "      <td>Afghanistan</td>\n",
       "      <td>Kabul</td>\n",
       "      <td>Asia</td>\n",
       "      <td>South Asia</td>\n",
       "    </tr>\n",
       "    <tr>\n",
       "      <th>1</th>\n",
       "      <td>AL</td>\n",
       "      <td>ALB</td>\n",
       "      <td>8</td>\n",
       "      <td>Albania</td>\n",
       "      <td>Tirana</td>\n",
       "      <td>Europe</td>\n",
       "      <td>South East Europe</td>\n",
       "    </tr>\n",
       "    <tr>\n",
       "      <th>2</th>\n",
       "      <td>DZ</td>\n",
       "      <td>DZA</td>\n",
       "      <td>12</td>\n",
       "      <td>Algeria</td>\n",
       "      <td>Algiers</td>\n",
       "      <td>Africa</td>\n",
       "      <td>Northern Africa</td>\n",
       "    </tr>\n",
       "    <tr>\n",
       "      <th>3</th>\n",
       "      <td>AS</td>\n",
       "      <td>ASM</td>\n",
       "      <td>16</td>\n",
       "      <td>American Samoa</td>\n",
       "      <td>Pago Pago</td>\n",
       "      <td>Oceania</td>\n",
       "      <td>Pacific</td>\n",
       "    </tr>\n",
       "    <tr>\n",
       "      <th>4</th>\n",
       "      <td>AO</td>\n",
       "      <td>AGO</td>\n",
       "      <td>24</td>\n",
       "      <td>Angola</td>\n",
       "      <td>Luanda</td>\n",
       "      <td>Africa</td>\n",
       "      <td>Southern Africa</td>\n",
       "    </tr>\n",
       "  </tbody>\n",
       "</table>\n",
       "</div>"
      ],
      "text/plain": [
       "  alpha-2-code alpha-3-code  numeric            name    capital continent  \\\n",
       "0           AF          AFG        4     Afghanistan      Kabul      Asia   \n",
       "1           AL          ALB        8         Albania     Tirana    Europe   \n",
       "2           DZ          DZA       12         Algeria    Algiers    Africa   \n",
       "3           AS          ASM       16  American Samoa  Pago Pago   Oceania   \n",
       "4           AO          AGO       24          Angola     Luanda    Africa   \n",
       "\n",
       "              region  \n",
       "0         South Asia  \n",
       "1  South East Europe  \n",
       "2    Northern Africa  \n",
       "3            Pacific  \n",
       "4    Southern Africa  "
      ]
     },
     "execution_count": 42,
     "metadata": {},
     "output_type": "execute_result"
    }
   ],
   "source": [
    "df_country_code = pd.read_csv('../data/external/country-codes.csv')\n",
    "df_country_code.head()"
   ]
  },
  {
   "cell_type": "code",
   "execution_count": 43,
   "metadata": {},
   "outputs": [
    {
     "data": {
      "text/plain": [
       "{'AF': 'Afghanistan',\n",
       " 'AM': 'Armenia',\n",
       " 'AZ': 'Azerbaijan',\n",
       " 'BH': 'Bahrain',\n",
       " 'BD': 'Bangladesh',\n",
       " 'BT': 'Bhutan',\n",
       " 'BN': 'Brunei Darussalam',\n",
       " 'KH': 'Cambodia',\n",
       " 'CN': 'China',\n",
       " 'CY': 'Cyprus',\n",
       " 'GE': 'Georgia',\n",
       " 'IN': 'India',\n",
       " 'ID': 'Indonesia',\n",
       " 'IR': 'Iran, Islamic Rep.',\n",
       " 'IQ': 'Iraq',\n",
       " 'IL': 'Israel',\n",
       " 'JP': 'Japan',\n",
       " 'JO': 'Jordan',\n",
       " 'KZ': 'Kazakhstan',\n",
       " 'KP': 'Korea, Dem. People’s Rep.',\n",
       " 'KR': 'Korea, Rep.',\n",
       " 'KW': 'Kuwait',\n",
       " 'KG': 'Kyrgyz Republic',\n",
       " 'LA': 'Lao PDR',\n",
       " 'LB': 'Lebanon',\n",
       " 'MY': 'Malaysia',\n",
       " 'MV': 'Maldives',\n",
       " 'MN': 'Mongolia',\n",
       " 'MM': 'Myanmar',\n",
       " 'NP': 'Nepal',\n",
       " 'OM': 'Oman',\n",
       " 'PK': 'Pakistan',\n",
       " 'PH': 'Philippines',\n",
       " 'QA': 'Qatar',\n",
       " 'RU': 'Russian Federation',\n",
       " 'SA': 'Saudi Arabia',\n",
       " 'SG': 'Singapore',\n",
       " 'LK': 'Sri Lanka',\n",
       " 'SY': 'Syrian Arab Republic',\n",
       " 'TJ': 'Tajikistan',\n",
       " 'TH': 'Thailand',\n",
       " 'TR': 'Turkey',\n",
       " 'TM': 'Turkmenistan',\n",
       " 'AE': 'United Arab Emirates',\n",
       " 'UZ': 'Uzbekistan',\n",
       " 'VN': 'Vietnam',\n",
       " 'YE': 'Yemen, Rep.'}"
      ]
     },
     "execution_count": 43,
     "metadata": {},
     "output_type": "execute_result"
    }
   ],
   "source": [
    "asia_country_code = df_country_code[df_country_code['continent'] == 'Asia']\n",
    "asia_country_code = dict(zip(asia_country_code['alpha-2-code'].to_list(),asia_country_code['name'].to_list()))\n",
    "asia_country_code"
   ]
  },
  {
   "cell_type": "code",
   "execution_count": 44,
   "metadata": {},
   "outputs": [
    {
     "data": {
      "text/html": [
       "<div>\n",
       "<style scoped>\n",
       "    .dataframe tbody tr th:only-of-type {\n",
       "        vertical-align: middle;\n",
       "    }\n",
       "\n",
       "    .dataframe tbody tr th {\n",
       "        vertical-align: top;\n",
       "    }\n",
       "\n",
       "    .dataframe thead th {\n",
       "        text-align: right;\n",
       "    }\n",
       "</style>\n",
       "<table border=\"1\" class=\"dataframe\">\n",
       "  <thead>\n",
       "    <tr style=\"text-align: right;\">\n",
       "      <th></th>\n",
       "      <th>GNI per capita, Atlas method (current US$)</th>\n",
       "      <th>Country</th>\n",
       "      <th>Year</th>\n",
       "    </tr>\n",
       "  </thead>\n",
       "  <tbody>\n",
       "    <tr>\n",
       "      <th>0</th>\n",
       "      <td>390.0</td>\n",
       "      <td>Afghanistan</td>\n",
       "      <td>2021</td>\n",
       "    </tr>\n",
       "    <tr>\n",
       "      <th>1</th>\n",
       "      <td>500.0</td>\n",
       "      <td>Afghanistan</td>\n",
       "      <td>2020</td>\n",
       "    </tr>\n",
       "    <tr>\n",
       "      <th>2</th>\n",
       "      <td>530.0</td>\n",
       "      <td>Afghanistan</td>\n",
       "      <td>2019</td>\n",
       "    </tr>\n",
       "    <tr>\n",
       "      <th>3</th>\n",
       "      <td>520.0</td>\n",
       "      <td>Afghanistan</td>\n",
       "      <td>2018</td>\n",
       "    </tr>\n",
       "    <tr>\n",
       "      <th>4</th>\n",
       "      <td>540.0</td>\n",
       "      <td>Afghanistan</td>\n",
       "      <td>2017</td>\n",
       "    </tr>\n",
       "  </tbody>\n",
       "</table>\n",
       "</div>"
      ],
      "text/plain": [
       "  GNI per capita, Atlas method (current US$)      Country  Year\n",
       "0                                      390.0  Afghanistan  2021\n",
       "1                                      500.0  Afghanistan  2020\n",
       "2                                      530.0  Afghanistan  2019\n",
       "3                                      520.0  Afghanistan  2018\n",
       "4                                      540.0  Afghanistan  2017"
      ]
     },
     "execution_count": 44,
     "metadata": {},
     "output_type": "execute_result"
    }
   ],
   "source": [
    "# Create data frame with one indicator\n",
    "indicator = {'NY.GNP.PCAP.CD' : 'GNI per capita, Atlas method (current US$)'}\n",
    "df_gni = pd.DataFrame()\n",
    "for country_code, country_name in asia_country_code.items():\n",
    "    df = get_another_indicator(country_code, country_name, 'NY.GNP.PCAP.CD', indicator['NY.GNP.PCAP.CD'], 1995, 2021)\n",
    "    df_gni = pd.concat([df_gni, df], ignore_index=True)\n",
    "df_gni.head()"
   ]
  },
  {
   "cell_type": "code",
   "execution_count": 49,
   "metadata": {},
   "outputs": [
    {
     "ename": "ValueError",
     "evalue": "could not convert string to float: 'None'",
     "output_type": "error",
     "traceback": [
      "\u001b[0;31m---------------------------------------------------------------------------\u001b[0m",
      "\u001b[0;31mValueError\u001b[0m                                Traceback (most recent call last)",
      "\u001b[1;32m/home/phuongnam/Documents/DS/Lab02-Student/notebooks/4.0-data-modelling.ipynb Cell 14\u001b[0m line \u001b[0;36m2\n\u001b[1;32m      <a href='vscode-notebook-cell:/home/phuongnam/Documents/DS/Lab02-Student/notebooks/4.0-data-modelling.ipynb#X36sZmlsZQ%3D%3D?line=0'>1</a>\u001b[0m \u001b[39m# Change dtype of column 'GNI per capita, Atlas method (current US$)' to float\u001b[39;00m\n\u001b[0;32m----> <a href='vscode-notebook-cell:/home/phuongnam/Documents/DS/Lab02-Student/notebooks/4.0-data-modelling.ipynb#X36sZmlsZQ%3D%3D?line=1'>2</a>\u001b[0m df_gni[\u001b[39m'\u001b[39m\u001b[39mGNI per capita, Atlas method (current US$)\u001b[39m\u001b[39m'\u001b[39m] \u001b[39m=\u001b[39m df_gni[\u001b[39m'\u001b[39;49m\u001b[39mGNI per capita, Atlas method (current US$)\u001b[39;49m\u001b[39m'\u001b[39;49m]\u001b[39m.\u001b[39;49mastype(\u001b[39mfloat\u001b[39;49m)\n\u001b[1;32m      <a href='vscode-notebook-cell:/home/phuongnam/Documents/DS/Lab02-Student/notebooks/4.0-data-modelling.ipynb#X36sZmlsZQ%3D%3D?line=2'>3</a>\u001b[0m df_gni[\u001b[39m'\u001b[39m\u001b[39mGNI per capita, Atlas method (current US$)\u001b[39m\u001b[39m'\u001b[39m]\u001b[39m.\u001b[39mdescribe()\n",
      "File \u001b[0;32m~/apps/mamba/envs/DS-env/lib/python3.10/site-packages/pandas/core/generic.py:6534\u001b[0m, in \u001b[0;36mNDFrame.astype\u001b[0;34m(self, dtype, copy, errors)\u001b[0m\n\u001b[1;32m   6530\u001b[0m     results \u001b[39m=\u001b[39m [ser\u001b[39m.\u001b[39mastype(dtype, copy\u001b[39m=\u001b[39mcopy) \u001b[39mfor\u001b[39;00m _, ser \u001b[39min\u001b[39;00m \u001b[39mself\u001b[39m\u001b[39m.\u001b[39mitems()]\n\u001b[1;32m   6532\u001b[0m \u001b[39melse\u001b[39;00m:\n\u001b[1;32m   6533\u001b[0m     \u001b[39m# else, only a single dtype is given\u001b[39;00m\n\u001b[0;32m-> 6534\u001b[0m     new_data \u001b[39m=\u001b[39m \u001b[39mself\u001b[39;49m\u001b[39m.\u001b[39;49m_mgr\u001b[39m.\u001b[39;49mastype(dtype\u001b[39m=\u001b[39;49mdtype, copy\u001b[39m=\u001b[39;49mcopy, errors\u001b[39m=\u001b[39;49merrors)\n\u001b[1;32m   6535\u001b[0m     res \u001b[39m=\u001b[39m \u001b[39mself\u001b[39m\u001b[39m.\u001b[39m_constructor_from_mgr(new_data, axes\u001b[39m=\u001b[39mnew_data\u001b[39m.\u001b[39maxes)\n\u001b[1;32m   6536\u001b[0m     \u001b[39mreturn\u001b[39;00m res\u001b[39m.\u001b[39m__finalize__(\u001b[39mself\u001b[39m, method\u001b[39m=\u001b[39m\u001b[39m\"\u001b[39m\u001b[39mastype\u001b[39m\u001b[39m\"\u001b[39m)\n",
      "File \u001b[0;32m~/apps/mamba/envs/DS-env/lib/python3.10/site-packages/pandas/core/internals/managers.py:414\u001b[0m, in \u001b[0;36mBaseBlockManager.astype\u001b[0;34m(self, dtype, copy, errors)\u001b[0m\n\u001b[1;32m    411\u001b[0m \u001b[39melif\u001b[39;00m using_copy_on_write():\n\u001b[1;32m    412\u001b[0m     copy \u001b[39m=\u001b[39m \u001b[39mFalse\u001b[39;00m\n\u001b[0;32m--> 414\u001b[0m \u001b[39mreturn\u001b[39;00m \u001b[39mself\u001b[39;49m\u001b[39m.\u001b[39;49mapply(\n\u001b[1;32m    415\u001b[0m     \u001b[39m\"\u001b[39;49m\u001b[39mastype\u001b[39;49m\u001b[39m\"\u001b[39;49m,\n\u001b[1;32m    416\u001b[0m     dtype\u001b[39m=\u001b[39;49mdtype,\n\u001b[1;32m    417\u001b[0m     copy\u001b[39m=\u001b[39;49mcopy,\n\u001b[1;32m    418\u001b[0m     errors\u001b[39m=\u001b[39;49merrors,\n\u001b[1;32m    419\u001b[0m     using_cow\u001b[39m=\u001b[39;49musing_copy_on_write(),\n\u001b[1;32m    420\u001b[0m )\n",
      "File \u001b[0;32m~/apps/mamba/envs/DS-env/lib/python3.10/site-packages/pandas/core/internals/managers.py:354\u001b[0m, in \u001b[0;36mBaseBlockManager.apply\u001b[0;34m(self, f, align_keys, **kwargs)\u001b[0m\n\u001b[1;32m    352\u001b[0m         applied \u001b[39m=\u001b[39m b\u001b[39m.\u001b[39mapply(f, \u001b[39m*\u001b[39m\u001b[39m*\u001b[39mkwargs)\n\u001b[1;32m    353\u001b[0m     \u001b[39melse\u001b[39;00m:\n\u001b[0;32m--> 354\u001b[0m         applied \u001b[39m=\u001b[39m \u001b[39mgetattr\u001b[39;49m(b, f)(\u001b[39m*\u001b[39;49m\u001b[39m*\u001b[39;49mkwargs)\n\u001b[1;32m    355\u001b[0m     result_blocks \u001b[39m=\u001b[39m extend_blocks(applied, result_blocks)\n\u001b[1;32m    357\u001b[0m out \u001b[39m=\u001b[39m \u001b[39mtype\u001b[39m(\u001b[39mself\u001b[39m)\u001b[39m.\u001b[39mfrom_blocks(result_blocks, \u001b[39mself\u001b[39m\u001b[39m.\u001b[39maxes)\n",
      "File \u001b[0;32m~/apps/mamba/envs/DS-env/lib/python3.10/site-packages/pandas/core/internals/blocks.py:616\u001b[0m, in \u001b[0;36mBlock.astype\u001b[0;34m(self, dtype, copy, errors, using_cow)\u001b[0m\n\u001b[1;32m    596\u001b[0m \u001b[39m\u001b[39m\u001b[39m\"\"\"\u001b[39;00m\n\u001b[1;32m    597\u001b[0m \u001b[39mCoerce to the new dtype.\u001b[39;00m\n\u001b[1;32m    598\u001b[0m \n\u001b[0;32m   (...)\u001b[0m\n\u001b[1;32m    612\u001b[0m \u001b[39mBlock\u001b[39;00m\n\u001b[1;32m    613\u001b[0m \u001b[39m\"\"\"\u001b[39;00m\n\u001b[1;32m    614\u001b[0m values \u001b[39m=\u001b[39m \u001b[39mself\u001b[39m\u001b[39m.\u001b[39mvalues\n\u001b[0;32m--> 616\u001b[0m new_values \u001b[39m=\u001b[39m astype_array_safe(values, dtype, copy\u001b[39m=\u001b[39;49mcopy, errors\u001b[39m=\u001b[39;49merrors)\n\u001b[1;32m    618\u001b[0m new_values \u001b[39m=\u001b[39m maybe_coerce_values(new_values)\n\u001b[1;32m    620\u001b[0m refs \u001b[39m=\u001b[39m \u001b[39mNone\u001b[39;00m\n",
      "File \u001b[0;32m~/apps/mamba/envs/DS-env/lib/python3.10/site-packages/pandas/core/dtypes/astype.py:238\u001b[0m, in \u001b[0;36mastype_array_safe\u001b[0;34m(values, dtype, copy, errors)\u001b[0m\n\u001b[1;32m    235\u001b[0m     dtype \u001b[39m=\u001b[39m dtype\u001b[39m.\u001b[39mnumpy_dtype\n\u001b[1;32m    237\u001b[0m \u001b[39mtry\u001b[39;00m:\n\u001b[0;32m--> 238\u001b[0m     new_values \u001b[39m=\u001b[39m astype_array(values, dtype, copy\u001b[39m=\u001b[39;49mcopy)\n\u001b[1;32m    239\u001b[0m \u001b[39mexcept\u001b[39;00m (\u001b[39mValueError\u001b[39;00m, \u001b[39mTypeError\u001b[39;00m):\n\u001b[1;32m    240\u001b[0m     \u001b[39m# e.g. _astype_nansafe can fail on object-dtype of strings\u001b[39;00m\n\u001b[1;32m    241\u001b[0m     \u001b[39m#  trying to convert to float\u001b[39;00m\n\u001b[1;32m    242\u001b[0m     \u001b[39mif\u001b[39;00m errors \u001b[39m==\u001b[39m \u001b[39m\"\u001b[39m\u001b[39mignore\u001b[39m\u001b[39m\"\u001b[39m:\n",
      "File \u001b[0;32m~/apps/mamba/envs/DS-env/lib/python3.10/site-packages/pandas/core/dtypes/astype.py:183\u001b[0m, in \u001b[0;36mastype_array\u001b[0;34m(values, dtype, copy)\u001b[0m\n\u001b[1;32m    180\u001b[0m     values \u001b[39m=\u001b[39m values\u001b[39m.\u001b[39mastype(dtype, copy\u001b[39m=\u001b[39mcopy)\n\u001b[1;32m    182\u001b[0m \u001b[39melse\u001b[39;00m:\n\u001b[0;32m--> 183\u001b[0m     values \u001b[39m=\u001b[39m _astype_nansafe(values, dtype, copy\u001b[39m=\u001b[39;49mcopy)\n\u001b[1;32m    185\u001b[0m \u001b[39m# in pandas we don't store numpy str dtypes, so convert to object\u001b[39;00m\n\u001b[1;32m    186\u001b[0m \u001b[39mif\u001b[39;00m \u001b[39misinstance\u001b[39m(dtype, np\u001b[39m.\u001b[39mdtype) \u001b[39mand\u001b[39;00m \u001b[39missubclass\u001b[39m(values\u001b[39m.\u001b[39mdtype\u001b[39m.\u001b[39mtype, \u001b[39mstr\u001b[39m):\n",
      "File \u001b[0;32m~/apps/mamba/envs/DS-env/lib/python3.10/site-packages/pandas/core/dtypes/astype.py:134\u001b[0m, in \u001b[0;36m_astype_nansafe\u001b[0;34m(arr, dtype, copy, skipna)\u001b[0m\n\u001b[1;32m    130\u001b[0m     \u001b[39mraise\u001b[39;00m \u001b[39mValueError\u001b[39;00m(msg)\n\u001b[1;32m    132\u001b[0m \u001b[39mif\u001b[39;00m copy \u001b[39mor\u001b[39;00m arr\u001b[39m.\u001b[39mdtype \u001b[39m==\u001b[39m \u001b[39mobject\u001b[39m \u001b[39mor\u001b[39;00m dtype \u001b[39m==\u001b[39m \u001b[39mobject\u001b[39m:\n\u001b[1;32m    133\u001b[0m     \u001b[39m# Explicit copy, or required since NumPy can't view from / to object.\u001b[39;00m\n\u001b[0;32m--> 134\u001b[0m     \u001b[39mreturn\u001b[39;00m arr\u001b[39m.\u001b[39;49mastype(dtype, copy\u001b[39m=\u001b[39;49m\u001b[39mTrue\u001b[39;49;00m)\n\u001b[1;32m    136\u001b[0m \u001b[39mreturn\u001b[39;00m arr\u001b[39m.\u001b[39mastype(dtype, copy\u001b[39m=\u001b[39mcopy)\n",
      "\u001b[0;31mValueError\u001b[0m: could not convert string to float: 'None'"
     ]
    }
   ],
   "source": [
    "# Change dtype of column 'GNI per capita, Atlas method (current US$)' to float\n",
    "df_gni['GNI per capita, Atlas method (current US$)'] = df_gni['GNI per capita, Atlas method (current US$)'].astype(float)\n",
    "df_gni['GNI per capita, Atlas method (current US$)'].describe()"
   ]
  },
  {
   "cell_type": "markdown",
   "metadata": {},
   "source": [
    "## Feature engineering"
   ]
  },
  {
   "cell_type": "code",
   "execution_count": null,
   "metadata": {},
   "outputs": [],
   "source": [
    "# YOUR CODE HERE (OPTION) "
   ]
  },
  {
   "cell_type": "markdown",
   "metadata": {},
   "source": [
    "## Training model"
   ]
  },
  {
   "cell_type": "code",
   "execution_count": null,
   "metadata": {},
   "outputs": [],
   "source": [
    "# YOUR CODE HERE (OPTION) "
   ]
  },
  {
   "cell_type": "markdown",
   "metadata": {},
   "source": [
    "## Evaluation"
   ]
  },
  {
   "cell_type": "code",
   "execution_count": null,
   "metadata": {},
   "outputs": [],
   "source": [
    "# YOUR CODE HERE (OPTION) "
   ]
  },
  {
   "cell_type": "markdown",
   "metadata": {},
   "source": [
    "## Prediction"
   ]
  },
  {
   "cell_type": "code",
   "execution_count": null,
   "metadata": {},
   "outputs": [],
   "source": [
    "# YOUR CODE HERE (OPTION) "
   ]
  },
  {
   "cell_type": "markdown",
   "metadata": {},
   "source": [
    "## Results analysis"
   ]
  },
  {
   "cell_type": "code",
   "execution_count": null,
   "metadata": {},
   "outputs": [],
   "source": [
    "# YOUR CODE HERE (OPTION) "
   ]
  },
  {
   "cell_type": "markdown",
   "metadata": {},
   "source": [
    "## Conclusion"
   ]
  },
  {
   "cell_type": "markdown",
   "metadata": {},
   "source": [
    "**Your conclusion**"
   ]
  }
 ],
 "metadata": {
  "kernelspec": {
   "display_name": "DS-env",
   "language": "python",
   "name": "python3"
  },
  "language_info": {
   "codemirror_mode": {
    "name": "ipython",
    "version": 3
   },
   "file_extension": ".py",
   "mimetype": "text/x-python",
   "name": "python",
   "nbconvert_exporter": "python",
   "pygments_lexer": "ipython3",
   "version": "3.10.13"
  }
 },
 "nbformat": 4,
 "nbformat_minor": 2
}

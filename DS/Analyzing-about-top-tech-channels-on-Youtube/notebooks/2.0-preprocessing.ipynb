{
 "cells": [
  {
   "cell_type": "markdown",
   "metadata": {},
   "source": [
    "<div style=\"text-align: center; background-color: #0A6EBD; font-family: 'Trebuchet MS', Arial, sans-serif; color: white; padding: 20px; font-size: 40px; font-weight: bold; border-radius: 0 0 0 0; box-shadow: 0px 6px 8px rgba(0, 0, 0, 0.2);\">\n",
    "  Analyzing about Data Science Channels on Youtube\n",
    "  \n",
    "  @ FIT-HCMUS, VNU-HCM 📌\n",
    "</div>"
   ]
  },
  {
   "cell_type": "markdown",
   "metadata": {},
   "source": [
    "<div style=\"text-align: center; background-color: #b1d1ff; font-family: 'Trebuchet MS', Arial, sans-serif; color: white; padding: 20px; font-size: 40px; font-weight: bold; border-radius: 0 0 0 0; box-shadow: 0px 6px 8px rgba(0, 0, 0, 0.2);\">\n",
    "  Stage 02 - Preprocessing\n",
    "</div>"
   ]
  },
  {
   "cell_type": "markdown",
   "metadata": {},
   "source": [
    "## Import"
   ]
  },
  {
   "cell_type": "code",
   "execution_count": 48,
   "metadata": {},
   "outputs": [],
   "source": [
    "import os\n",
    "import sys\n",
    "import json\n",
    "import ast\n",
    "\n",
    "import numpy as np\n",
    "import pandas as pd\n",
    "import matplotlib.pyplot as plt\n",
    "import csv\n",
    "import requests\n",
    "import pycountry\n",
    "module_path = os.path.abspath(os.path.join('..'))\n",
    "if module_path not in sys.path:\n",
    "    sys.path.append(module_path)\n",
    "    \n",
    "from src.data_module import read_processed_df"
   ]
  },
  {
   "cell_type": "markdown",
   "metadata": {},
   "source": [
    "## Exploring data"
   ]
  },
  {
   "cell_type": "markdown",
   "metadata": {},
   "source": [
    "### Combine raw data into dataframes for both video and comment sections"
   ]
  },
  {
   "cell_type": "code",
   "execution_count": 49,
   "metadata": {},
   "outputs": [],
   "source": [
    "#Set up names for the files\n",
    "name_1=\"Phuc\"\n",
    "name_2=\"Nam\""
   ]
  },
  {
   "cell_type": "code",
   "execution_count": 50,
   "metadata": {},
   "outputs": [],
   "source": [
    "raw_data_path = '../data/raw/'\n",
    "\n",
    "with open('../data/external/channel_id.json', 'r') as file:\n",
    "    channel_id_phuc = json.load(file)[name_1]\n",
    "\n",
    "with open('../data/external/channel_id.json', 'r') as file:\n",
    "    channel_id_nam = json.load(file)[name_2]\n",
    "\n",
    "list_df_videos = []\n",
    "list_df_comments = []\n",
    "\n",
    "for channel, id in channel_id_phuc.items():\n",
    "    list_df_videos.append(pd.read_csv(raw_data_path + channel + '_videos.csv'))\n",
    "    list_df_comments.append(pd.read_csv(raw_data_path + channel + '_comments.csv', lineterminator = '\\n'))\n",
    "\n",
    "for channel, id in channel_id_nam.items():\n",
    "    list_df_videos.append(pd.read_csv(raw_data_path + channel + '_videos.csv'))\n",
    "    list_df_comments.append(pd.read_csv(raw_data_path + channel + '_comments.csv', lineterminator = '\\n'))\n",
    "\n",
    "    \n",
    "df_videos = pd.concat(list_df_videos, ignore_index = True)\n",
    "df_comments = pd.concat(list_df_comments, ignore_index = True)"
   ]
  },
  {
   "cell_type": "code",
   "execution_count": 51,
   "metadata": {},
   "outputs": [
    {
     "data": {
      "text/html": [
       "<div>\n",
       "<style scoped>\n",
       "    .dataframe tbody tr th:only-of-type {\n",
       "        vertical-align: middle;\n",
       "    }\n",
       "\n",
       "    .dataframe tbody tr th {\n",
       "        vertical-align: top;\n",
       "    }\n",
       "\n",
       "    .dataframe thead th {\n",
       "        text-align: right;\n",
       "    }\n",
       "</style>\n",
       "<table border=\"1\" class=\"dataframe\">\n",
       "  <thead>\n",
       "    <tr style=\"text-align: right;\">\n",
       "      <th></th>\n",
       "      <th>video_id</th>\n",
       "      <th>title</th>\n",
       "      <th>published</th>\n",
       "      <th>view_count</th>\n",
       "      <th>like_count</th>\n",
       "      <th>comment_count</th>\n",
       "      <th>duration</th>\n",
       "      <th>definition</th>\n",
       "      <th>tags</th>\n",
       "      <th>default_audio_language</th>\n",
       "      <th>madeforkid</th>\n",
       "      <th>channel_id</th>\n",
       "      <th>channelTitle</th>\n",
       "    </tr>\n",
       "  </thead>\n",
       "  <tbody>\n",
       "    <tr>\n",
       "      <th>0</th>\n",
       "      <td>hh6gE0LxfO8</td>\n",
       "      <td>#5 Machine Learning Specialization [Course 1, ...</td>\n",
       "      <td>2022-12-01T13:21:30Z</td>\n",
       "      <td>30742</td>\n",
       "      <td>319.0</td>\n",
       "      <td>6.0</td>\n",
       "      <td>PT7M17S</td>\n",
       "      <td>hd</td>\n",
       "      <td>NaN</td>\n",
       "      <td>en</td>\n",
       "      <td>False</td>\n",
       "      <td>UCcIXc5mJsHVYTZR1maL5l9w</td>\n",
       "      <td>DeepLearningAI</td>\n",
       "    </tr>\n",
       "    <tr>\n",
       "      <th>1</th>\n",
       "      <td>_i3aqgKVNQI</td>\n",
       "      <td>C5W3L01 Basic Models</td>\n",
       "      <td>2018-02-05T19:50:14Z</td>\n",
       "      <td>110835</td>\n",
       "      <td>436.0</td>\n",
       "      <td>12.0</td>\n",
       "      <td>PT6M19S</td>\n",
       "      <td>hd</td>\n",
       "      <td>NaN</td>\n",
       "      <td>en</td>\n",
       "      <td>False</td>\n",
       "      <td>UCcIXc5mJsHVYTZR1maL5l9w</td>\n",
       "      <td>DeepLearningAI</td>\n",
       "    </tr>\n",
       "    <tr>\n",
       "      <th>2</th>\n",
       "      <td>uvTL1N02f04</td>\n",
       "      <td>#23 Machine Learning Specialization [Course 1,...</td>\n",
       "      <td>2022-12-01T13:22:38Z</td>\n",
       "      <td>11639</td>\n",
       "      <td>107.0</td>\n",
       "      <td>4.0</td>\n",
       "      <td>PT6M53S</td>\n",
       "      <td>hd</td>\n",
       "      <td>NaN</td>\n",
       "      <td>en</td>\n",
       "      <td>False</td>\n",
       "      <td>UCcIXc5mJsHVYTZR1maL5l9w</td>\n",
       "      <td>DeepLearningAI</td>\n",
       "    </tr>\n",
       "    <tr>\n",
       "      <th>3</th>\n",
       "      <td>H4YK_7MAckk</td>\n",
       "      <td>ChatGPT Prompt Engineering for Developers: A s...</td>\n",
       "      <td>2023-04-27T14:49:09Z</td>\n",
       "      <td>143057</td>\n",
       "      <td>2847.0</td>\n",
       "      <td>121.0</td>\n",
       "      <td>PT1M58S</td>\n",
       "      <td>hd</td>\n",
       "      <td>['ChatGPT', 'prompt engineering', 'openai', 'd...</td>\n",
       "      <td>en</td>\n",
       "      <td>False</td>\n",
       "      <td>UCcIXc5mJsHVYTZR1maL5l9w</td>\n",
       "      <td>DeepLearningAI</td>\n",
       "    </tr>\n",
       "    <tr>\n",
       "      <th>4</th>\n",
       "      <td>YVtP5UGdgXg</td>\n",
       "      <td>#25 Machine Learning Specialization [Course 1,...</td>\n",
       "      <td>2022-12-01T13:22:45Z</td>\n",
       "      <td>11542</td>\n",
       "      <td>106.0</td>\n",
       "      <td>1.0</td>\n",
       "      <td>PT6M35S</td>\n",
       "      <td>hd</td>\n",
       "      <td>NaN</td>\n",
       "      <td>en</td>\n",
       "      <td>False</td>\n",
       "      <td>UCcIXc5mJsHVYTZR1maL5l9w</td>\n",
       "      <td>DeepLearningAI</td>\n",
       "    </tr>\n",
       "  </tbody>\n",
       "</table>\n",
       "</div>"
      ],
      "text/plain": [
       "      video_id                                              title  \\\n",
       "0  hh6gE0LxfO8  #5 Machine Learning Specialization [Course 1, ...   \n",
       "1  _i3aqgKVNQI                               C5W3L01 Basic Models   \n",
       "2  uvTL1N02f04  #23 Machine Learning Specialization [Course 1,...   \n",
       "3  H4YK_7MAckk  ChatGPT Prompt Engineering for Developers: A s...   \n",
       "4  YVtP5UGdgXg  #25 Machine Learning Specialization [Course 1,...   \n",
       "\n",
       "              published  view_count  like_count  comment_count duration  \\\n",
       "0  2022-12-01T13:21:30Z       30742       319.0            6.0  PT7M17S   \n",
       "1  2018-02-05T19:50:14Z      110835       436.0           12.0  PT6M19S   \n",
       "2  2022-12-01T13:22:38Z       11639       107.0            4.0  PT6M53S   \n",
       "3  2023-04-27T14:49:09Z      143057      2847.0          121.0  PT1M58S   \n",
       "4  2022-12-01T13:22:45Z       11542       106.0            1.0  PT6M35S   \n",
       "\n",
       "  definition                                               tags  \\\n",
       "0         hd                                                NaN   \n",
       "1         hd                                                NaN   \n",
       "2         hd                                                NaN   \n",
       "3         hd  ['ChatGPT', 'prompt engineering', 'openai', 'd...   \n",
       "4         hd                                                NaN   \n",
       "\n",
       "  default_audio_language  madeforkid                channel_id    channelTitle  \n",
       "0                     en       False  UCcIXc5mJsHVYTZR1maL5l9w  DeepLearningAI  \n",
       "1                     en       False  UCcIXc5mJsHVYTZR1maL5l9w  DeepLearningAI  \n",
       "2                     en       False  UCcIXc5mJsHVYTZR1maL5l9w  DeepLearningAI  \n",
       "3                     en       False  UCcIXc5mJsHVYTZR1maL5l9w  DeepLearningAI  \n",
       "4                     en       False  UCcIXc5mJsHVYTZR1maL5l9w  DeepLearningAI  "
      ]
     },
     "execution_count": 51,
     "metadata": {},
     "output_type": "execute_result"
    }
   ],
   "source": [
    "df_videos.head()"
   ]
  },
  {
   "cell_type": "code",
   "execution_count": 52,
   "metadata": {},
   "outputs": [
    {
     "data": {
      "text/html": [
       "<div>\n",
       "<style scoped>\n",
       "    .dataframe tbody tr th:only-of-type {\n",
       "        vertical-align: middle;\n",
       "    }\n",
       "\n",
       "    .dataframe tbody tr th {\n",
       "        vertical-align: top;\n",
       "    }\n",
       "\n",
       "    .dataframe thead th {\n",
       "        text-align: right;\n",
       "    }\n",
       "</style>\n",
       "<table border=\"1\" class=\"dataframe\">\n",
       "  <thead>\n",
       "    <tr style=\"text-align: right;\">\n",
       "      <th></th>\n",
       "      <th>Comment_id</th>\n",
       "      <th>author</th>\n",
       "      <th>Reply_for</th>\n",
       "      <th>Type</th>\n",
       "      <th>video_id</th>\n",
       "      <th>total_reply</th>\n",
       "      <th>like_count</th>\n",
       "      <th>published_at</th>\n",
       "      <th>textdisplay</th>\n",
       "      <th>updatedat</th>\n",
       "    </tr>\n",
       "  </thead>\n",
       "  <tbody>\n",
       "    <tr>\n",
       "      <th>0</th>\n",
       "      <td>Ugw5fySq5NxfwgCuFhB4AaABAg</td>\n",
       "      <td>@AiexpertRajivVerma</td>\n",
       "      <td>NaN</td>\n",
       "      <td>1.0</td>\n",
       "      <td>H_8ZVRRtiIA</td>\n",
       "      <td>0.0</td>\n",
       "      <td>0.0</td>\n",
       "      <td>2023-12-11T01:11:19Z</td>\n",
       "      <td>Sir thank you love love 💕❤️❤❤️❤❤❤❤❤❤ you for f...</td>\n",
       "      <td>2023-12-11T01:11:19Z</td>\n",
       "    </tr>\n",
       "    <tr>\n",
       "      <th>1</th>\n",
       "      <td>Ugw_73FC0tI1B6PW9nh4AaABAg</td>\n",
       "      <td>@hamasali8764</td>\n",
       "      <td>NaN</td>\n",
       "      <td>1.0</td>\n",
       "      <td>bZwkaVnhEo4</td>\n",
       "      <td>0.0</td>\n",
       "      <td>0.0</td>\n",
       "      <td>2023-07-27T16:54:52Z</td>\n",
       "      <td>Best One🎉</td>\n",
       "      <td>2023-07-27T16:54:52Z</td>\n",
       "    </tr>\n",
       "    <tr>\n",
       "      <th>2</th>\n",
       "      <td>Ugx1qnyHmXF9-BjhIWR4AaABAg</td>\n",
       "      <td>@R0H00</td>\n",
       "      <td>NaN</td>\n",
       "      <td>1.0</td>\n",
       "      <td>hkOosfWxBK4</td>\n",
       "      <td>0.0</td>\n",
       "      <td>1.0</td>\n",
       "      <td>2023-11-18T02:51:01Z</td>\n",
       "      <td>Hi, I&amp;#39;m a clinician who is working in the ...</td>\n",
       "      <td>2023-11-18T02:51:01Z</td>\n",
       "    </tr>\n",
       "    <tr>\n",
       "      <th>3</th>\n",
       "      <td>UgyNZvEu-Ht9ZlLwOXp4AaABAg</td>\n",
       "      <td>@nitinsnoisepollution6293</td>\n",
       "      <td>NaN</td>\n",
       "      <td>1.0</td>\n",
       "      <td>hkOosfWxBK4</td>\n",
       "      <td>0.0</td>\n",
       "      <td>0.0</td>\n",
       "      <td>2023-11-17T20:39:13Z</td>\n",
       "      <td>Superb 🎉❤</td>\n",
       "      <td>2023-11-17T20:39:13Z</td>\n",
       "    </tr>\n",
       "    <tr>\n",
       "      <th>4</th>\n",
       "      <td>UgzAxiiLaxyBHEcRw0R4AaABAg</td>\n",
       "      <td>@REDBONDYT</td>\n",
       "      <td>NaN</td>\n",
       "      <td>1.0</td>\n",
       "      <td>Fxq6vjJwX3o</td>\n",
       "      <td>0.0</td>\n",
       "      <td>1.0</td>\n",
       "      <td>2023-07-30T12:36:13Z</td>\n",
       "      <td>Very informative 😃😺</td>\n",
       "      <td>2023-07-30T12:36:13Z</td>\n",
       "    </tr>\n",
       "  </tbody>\n",
       "</table>\n",
       "</div>"
      ],
      "text/plain": [
       "                   Comment_id                     author Reply_for  Type  \\\n",
       "0  Ugw5fySq5NxfwgCuFhB4AaABAg        @AiexpertRajivVerma       NaN   1.0   \n",
       "1  Ugw_73FC0tI1B6PW9nh4AaABAg              @hamasali8764       NaN   1.0   \n",
       "2  Ugx1qnyHmXF9-BjhIWR4AaABAg                     @R0H00       NaN   1.0   \n",
       "3  UgyNZvEu-Ht9ZlLwOXp4AaABAg  @nitinsnoisepollution6293       NaN   1.0   \n",
       "4  UgzAxiiLaxyBHEcRw0R4AaABAg                 @REDBONDYT       NaN   1.0   \n",
       "\n",
       "      video_id  total_reply  like_count          published_at  \\\n",
       "0  H_8ZVRRtiIA          0.0         0.0  2023-12-11T01:11:19Z   \n",
       "1  bZwkaVnhEo4          0.0         0.0  2023-07-27T16:54:52Z   \n",
       "2  hkOosfWxBK4          0.0         1.0  2023-11-18T02:51:01Z   \n",
       "3  hkOosfWxBK4          0.0         0.0  2023-11-17T20:39:13Z   \n",
       "4  Fxq6vjJwX3o          0.0         1.0  2023-07-30T12:36:13Z   \n",
       "\n",
       "                                         textdisplay             updatedat  \n",
       "0  Sir thank you love love 💕❤️❤❤️❤❤❤❤❤❤ you for f...  2023-12-11T01:11:19Z  \n",
       "1                                          Best One🎉  2023-07-27T16:54:52Z  \n",
       "2  Hi, I&#39;m a clinician who is working in the ...  2023-11-18T02:51:01Z  \n",
       "3                                          Superb 🎉❤  2023-11-17T20:39:13Z  \n",
       "4                                Very informative 😃😺  2023-07-30T12:36:13Z  "
      ]
     },
     "execution_count": 52,
     "metadata": {},
     "output_type": "execute_result"
    }
   ],
   "source": [
    "df_comments.head()"
   ]
  },
  {
   "cell_type": "markdown",
   "metadata": {},
   "source": [
    "#### Overview"
   ]
  },
  {
   "cell_type": "code",
   "execution_count": 53,
   "metadata": {},
   "outputs": [
    {
     "name": "stdout",
     "output_type": "stream",
     "text": [
      "<class 'pandas.core.frame.DataFrame'>\n",
      "RangeIndex: 5879 entries, 0 to 5878\n",
      "Data columns (total 13 columns):\n",
      " #   Column                  Non-Null Count  Dtype  \n",
      "---  ------                  --------------  -----  \n",
      " 0   video_id                5879 non-null   object \n",
      " 1   title                   5879 non-null   object \n",
      " 2   published               5879 non-null   object \n",
      " 3   view_count              5879 non-null   int64  \n",
      " 4   like_count              5829 non-null   float64\n",
      " 5   comment_count           5873 non-null   float64\n",
      " 6   duration                5879 non-null   object \n",
      " 7   definition              5879 non-null   object \n",
      " 8   tags                    5064 non-null   object \n",
      " 9   default_audio_language  5498 non-null   object \n",
      " 10  madeforkid              5879 non-null   bool   \n",
      " 11  channel_id              5879 non-null   object \n",
      " 12  channelTitle            5879 non-null   object \n",
      "dtypes: bool(1), float64(2), int64(1), object(9)\n",
      "memory usage: 557.0+ KB\n"
     ]
    }
   ],
   "source": [
    "df_videos.info()"
   ]
  },
  {
   "cell_type": "code",
   "execution_count": 54,
   "metadata": {},
   "outputs": [
    {
     "name": "stdout",
     "output_type": "stream",
     "text": [
      "<class 'pandas.core.frame.DataFrame'>\n",
      "RangeIndex: 135996 entries, 0 to 135995\n",
      "Data columns (total 10 columns):\n",
      " #   Column        Non-Null Count   Dtype  \n",
      "---  ------        --------------   -----  \n",
      " 0   Comment_id    135996 non-null  object \n",
      " 1   author        135994 non-null  object \n",
      " 2   Reply_for     31094 non-null   object \n",
      " 3   Type          135996 non-null  float64\n",
      " 4   video_id      135996 non-null  object \n",
      " 5   total_reply   135996 non-null  float64\n",
      " 6   like_count    135996 non-null  float64\n",
      " 7   published_at  135996 non-null  object \n",
      " 8   textdisplay   135996 non-null  object \n",
      " 9   updatedat     135996 non-null  object \n",
      "dtypes: float64(3), object(7)\n",
      "memory usage: 10.4+ MB\n"
     ]
    }
   ],
   "source": [
    "df_comments.info()"
   ]
  },
  {
   "cell_type": "markdown",
   "metadata": {},
   "source": [
    "### The size of the datasets"
   ]
  },
  {
   "cell_type": "markdown",
   "metadata": {},
   "source": [
    "#### Videos section"
   ]
  },
  {
   "cell_type": "code",
   "execution_count": 55,
   "metadata": {},
   "outputs": [
    {
     "name": "stdout",
     "output_type": "stream",
     "text": [
      "Rows: 5879\n",
      "Columns: 13\n"
     ]
    }
   ],
   "source": [
    "print('Rows:', df_videos.shape[0])\n",
    "print('Columns:', df_videos.shape[1])"
   ]
  },
  {
   "cell_type": "markdown",
   "metadata": {},
   "source": [
    "#### Comments section"
   ]
  },
  {
   "cell_type": "code",
   "execution_count": 56,
   "metadata": {},
   "outputs": [
    {
     "name": "stdout",
     "output_type": "stream",
     "text": [
      "Rows: 135996\n",
      "Columns: 10\n"
     ]
    }
   ],
   "source": [
    "print('Rows:', df_comments.shape[0])\n",
    "print('Columns:', df_comments.shape[1])"
   ]
  },
  {
   "cell_type": "markdown",
   "metadata": {},
   "source": [
    "### The meaning of each column"
   ]
  },
  {
   "cell_type": "markdown",
   "metadata": {},
   "source": [
    "**Videos dataset**\n",
    "- `video_id`: Video ID.\n",
    "- `title`: Video title.\n",
    "- `published`: Publication date of the video.\n",
    "- `view_count`: The video's view count.\n",
    "- `like_count`: The video's like count.\n",
    "- `comment_count`: The video's comment count.\n",
    "- `duration`: How long the video is.\n",
    "- `definition`: How much information is captured and reproduced (eg. hd, sd).\n",
    "- `tags`: Tags of the video.\n",
    "- `default_audio_language`: Default audio language of the video.\n",
    "- `madeforkid`: Mark if this video is made for kids or not.\n",
    "- `playlist_title`: Playlist title.\n",
    "- `channel_id`: The channel ID.\n",
    "- `channelTitle`: The channel title."
   ]
  },
  {
   "cell_type": "markdown",
   "metadata": {},
   "source": [
    "**Comments dataset**\n",
    "- `Comment_id`: Comment ID.\n",
    "- `author`: Author of the comment.\n",
    "- `Reply_for`: The parent comment ID that this comment replied to.\n",
    "- `Type`: Type of comment (top-level comment (1) or reply(2)).\n",
    "- `video_id`: The video ID.\n",
    "- `total_reply`: Total responses to this comment.\n",
    "- `like_count`: The comment's like count.\n",
    "- `published_at`: Publication date of the comment.\n",
    "- `textdisplay`: The content of the comment.\n",
    "- `updatedat`: The comment's updated date."
   ]
  },
  {
   "cell_type": "markdown",
   "metadata": {},
   "source": [
    "### Duplicated rows"
   ]
  },
  {
   "cell_type": "markdown",
   "metadata": {},
   "source": [
    "#### Videos section"
   ]
  },
  {
   "cell_type": "markdown",
   "metadata": {},
   "source": [
    "How many duplicated rows do the `df_videos` have?"
   ]
  },
  {
   "cell_type": "code",
   "execution_count": 57,
   "metadata": {},
   "outputs": [
    {
     "data": {
      "text/plain": [
       "407"
      ]
     },
     "execution_count": 57,
     "metadata": {},
     "output_type": "execute_result"
    }
   ],
   "source": [
    "df_videos.duplicated(subset='video_id').sum()"
   ]
  },
  {
   "cell_type": "code",
   "execution_count": 58,
   "metadata": {},
   "outputs": [
    {
     "data": {
      "text/html": [
       "<div>\n",
       "<style scoped>\n",
       "    .dataframe tbody tr th:only-of-type {\n",
       "        vertical-align: middle;\n",
       "    }\n",
       "\n",
       "    .dataframe tbody tr th {\n",
       "        vertical-align: top;\n",
       "    }\n",
       "\n",
       "    .dataframe thead th {\n",
       "        text-align: right;\n",
       "    }\n",
       "</style>\n",
       "<table border=\"1\" class=\"dataframe\">\n",
       "  <thead>\n",
       "    <tr style=\"text-align: right;\">\n",
       "      <th></th>\n",
       "      <th>video_id</th>\n",
       "      <th>title</th>\n",
       "      <th>published</th>\n",
       "      <th>view_count</th>\n",
       "      <th>like_count</th>\n",
       "      <th>comment_count</th>\n",
       "      <th>duration</th>\n",
       "      <th>definition</th>\n",
       "      <th>tags</th>\n",
       "      <th>default_audio_language</th>\n",
       "      <th>madeforkid</th>\n",
       "      <th>channel_id</th>\n",
       "      <th>channelTitle</th>\n",
       "    </tr>\n",
       "  </thead>\n",
       "  <tbody>\n",
       "    <tr>\n",
       "      <th>607</th>\n",
       "      <td>DFDGHEzf5oE</td>\n",
       "      <td>\"Stanford is the easiest to get into with low ...</td>\n",
       "      <td>2019-05-21T02:47:05Z</td>\n",
       "      <td>453056</td>\n",
       "      <td>9855.0</td>\n",
       "      <td>512.0</td>\n",
       "      <td>PT34M33S</td>\n",
       "      <td>hd</td>\n",
       "      <td>['joma', 'vlog', 'college', 'stanford', 'colle...</td>\n",
       "      <td>en</td>\n",
       "      <td>False</td>\n",
       "      <td>UCV0qA-eDDICsRR9rPcnG7tw</td>\n",
       "      <td>Joma Tech</td>\n",
       "    </tr>\n",
       "    <tr>\n",
       "      <th>631</th>\n",
       "      <td>DFDGHEzf5oE</td>\n",
       "      <td>\"Stanford is the easiest to get into with low ...</td>\n",
       "      <td>2019-05-21T02:47:05Z</td>\n",
       "      <td>453055</td>\n",
       "      <td>9855.0</td>\n",
       "      <td>512.0</td>\n",
       "      <td>PT34M33S</td>\n",
       "      <td>hd</td>\n",
       "      <td>['joma', 'vlog', 'college', 'stanford', 'colle...</td>\n",
       "      <td>en</td>\n",
       "      <td>False</td>\n",
       "      <td>UCV0qA-eDDICsRR9rPcnG7tw</td>\n",
       "      <td>Joma Tech</td>\n",
       "    </tr>\n",
       "    <tr>\n",
       "      <th>60</th>\n",
       "      <td>KWULpBYzIYk</td>\n",
       "      <td>#10 Machine Learning Specialization [Course 1,...</td>\n",
       "      <td>2022-12-01T13:21:47Z</td>\n",
       "      <td>24418</td>\n",
       "      <td>233.0</td>\n",
       "      <td>12.0</td>\n",
       "      <td>PT6M44S</td>\n",
       "      <td>hd</td>\n",
       "      <td>NaN</td>\n",
       "      <td>en</td>\n",
       "      <td>False</td>\n",
       "      <td>UCcIXc5mJsHVYTZR1maL5l9w</td>\n",
       "      <td>DeepLearningAI</td>\n",
       "    </tr>\n",
       "    <tr>\n",
       "      <th>27</th>\n",
       "      <td>KWULpBYzIYk</td>\n",
       "      <td>#10 Machine Learning Specialization [Course 1,...</td>\n",
       "      <td>2022-12-01T13:21:47Z</td>\n",
       "      <td>24418</td>\n",
       "      <td>233.0</td>\n",
       "      <td>12.0</td>\n",
       "      <td>PT6M44S</td>\n",
       "      <td>hd</td>\n",
       "      <td>NaN</td>\n",
       "      <td>en</td>\n",
       "      <td>False</td>\n",
       "      <td>UCcIXc5mJsHVYTZR1maL5l9w</td>\n",
       "      <td>DeepLearningAI</td>\n",
       "    </tr>\n",
       "    <tr>\n",
       "      <th>51</th>\n",
       "      <td>peNRqkfukYY</td>\n",
       "      <td>#12 Machine Learning Specialization [Course 1,...</td>\n",
       "      <td>2022-12-01T13:21:54Z</td>\n",
       "      <td>21513</td>\n",
       "      <td>256.0</td>\n",
       "      <td>6.0</td>\n",
       "      <td>PT15M47S</td>\n",
       "      <td>hd</td>\n",
       "      <td>NaN</td>\n",
       "      <td>en</td>\n",
       "      <td>False</td>\n",
       "      <td>UCcIXc5mJsHVYTZR1maL5l9w</td>\n",
       "      <td>DeepLearningAI</td>\n",
       "    </tr>\n",
       "  </tbody>\n",
       "</table>\n",
       "</div>"
      ],
      "text/plain": [
       "        video_id                                              title  \\\n",
       "607  DFDGHEzf5oE  \"Stanford is the easiest to get into with low ...   \n",
       "631  DFDGHEzf5oE  \"Stanford is the easiest to get into with low ...   \n",
       "60   KWULpBYzIYk  #10 Machine Learning Specialization [Course 1,...   \n",
       "27   KWULpBYzIYk  #10 Machine Learning Specialization [Course 1,...   \n",
       "51   peNRqkfukYY  #12 Machine Learning Specialization [Course 1,...   \n",
       "\n",
       "                published  view_count  like_count  comment_count  duration  \\\n",
       "607  2019-05-21T02:47:05Z      453056      9855.0          512.0  PT34M33S   \n",
       "631  2019-05-21T02:47:05Z      453055      9855.0          512.0  PT34M33S   \n",
       "60   2022-12-01T13:21:47Z       24418       233.0           12.0   PT6M44S   \n",
       "27   2022-12-01T13:21:47Z       24418       233.0           12.0   PT6M44S   \n",
       "51   2022-12-01T13:21:54Z       21513       256.0            6.0  PT15M47S   \n",
       "\n",
       "    definition                                               tags  \\\n",
       "607         hd  ['joma', 'vlog', 'college', 'stanford', 'colle...   \n",
       "631         hd  ['joma', 'vlog', 'college', 'stanford', 'colle...   \n",
       "60          hd                                                NaN   \n",
       "27          hd                                                NaN   \n",
       "51          hd                                                NaN   \n",
       "\n",
       "    default_audio_language  madeforkid                channel_id  \\\n",
       "607                     en       False  UCV0qA-eDDICsRR9rPcnG7tw   \n",
       "631                     en       False  UCV0qA-eDDICsRR9rPcnG7tw   \n",
       "60                      en       False  UCcIXc5mJsHVYTZR1maL5l9w   \n",
       "27                      en       False  UCcIXc5mJsHVYTZR1maL5l9w   \n",
       "51                      en       False  UCcIXc5mJsHVYTZR1maL5l9w   \n",
       "\n",
       "       channelTitle  \n",
       "607       Joma Tech  \n",
       "631       Joma Tech  \n",
       "60   DeepLearningAI  \n",
       "27   DeepLearningAI  \n",
       "51   DeepLearningAI  "
      ]
     },
     "execution_count": 58,
     "metadata": {},
     "output_type": "execute_result"
    }
   ],
   "source": [
    "df_videos[df_videos.duplicated(subset='video_id', keep = False)].sort_values(by = 'title').head()"
   ]
  },
  {
   "cell_type": "markdown",
   "metadata": {},
   "source": [
    "As we can see, there are some videos that have been collected more than once. We will remove these duplicated rows."
   ]
  },
  {
   "cell_type": "markdown",
   "metadata": {},
   "source": [
    "#### Comments section"
   ]
  },
  {
   "cell_type": "markdown",
   "metadata": {},
   "source": [
    "How many duplicated rows do the `df_comments` have?"
   ]
  },
  {
   "cell_type": "code",
   "execution_count": 59,
   "metadata": {},
   "outputs": [
    {
     "data": {
      "text/plain": [
       "25587"
      ]
     },
     "execution_count": 59,
     "metadata": {},
     "output_type": "execute_result"
    }
   ],
   "source": [
    "df_comments.duplicated().sum()"
   ]
  },
  {
   "cell_type": "markdown",
   "metadata": {},
   "source": [
    "#### Drop duplicate rows"
   ]
  },
  {
   "cell_type": "code",
   "execution_count": 60,
   "metadata": {},
   "outputs": [],
   "source": [
    "df_videos = df_videos.drop_duplicates(subset='video_id')\n",
    "df_comments = df_comments.drop_duplicates()"
   ]
  },
  {
   "cell_type": "markdown",
   "metadata": {},
   "source": [
    "### Missing values in df_videos"
   ]
  },
  {
   "cell_type": "code",
   "execution_count": 61,
   "metadata": {},
   "outputs": [
    {
     "name": "stdout",
     "output_type": "stream",
     "text": [
      "<class 'pandas.core.frame.DataFrame'>\n",
      "Index: 5472 entries, 0 to 5878\n",
      "Data columns (total 13 columns):\n",
      " #   Column                  Non-Null Count  Dtype  \n",
      "---  ------                  --------------  -----  \n",
      " 0   video_id                5472 non-null   object \n",
      " 1   title                   5472 non-null   object \n",
      " 2   published               5472 non-null   object \n",
      " 3   view_count              5472 non-null   int64  \n",
      " 4   like_count              5431 non-null   float64\n",
      " 5   comment_count           5467 non-null   float64\n",
      " 6   duration                5472 non-null   object \n",
      " 7   definition              5472 non-null   object \n",
      " 8   tags                    4752 non-null   object \n",
      " 9   default_audio_language  5114 non-null   object \n",
      " 10  madeforkid              5472 non-null   bool   \n",
      " 11  channel_id              5472 non-null   object \n",
      " 12  channelTitle            5472 non-null   object \n",
      "dtypes: bool(1), float64(2), int64(1), object(9)\n",
      "memory usage: 561.1+ KB\n"
     ]
    }
   ],
   "source": [
    "df_videos.info()"
   ]
  },
  {
   "cell_type": "markdown",
   "metadata": {},
   "source": [
    "There are 4 columns that have missing values: `like_count`, `comment_count`, `tags`, `default_audio_language`."
   ]
  },
  {
   "cell_type": "markdown",
   "metadata": {},
   "source": [
    "When examining videos with missing values in the 'like_count,' it becomes evident that the like count for these videos is hidden by the uploader. Consequently, we have chosen to fill these missing values by utilizing the like ratio of the channel, multiplied by the view count of the video (which does not have missing values)."
   ]
  },
  {
   "cell_type": "code",
   "execution_count": 62,
   "metadata": {},
   "outputs": [],
   "source": [
    "like_ratio = df_videos.dropna(subset=['like_count'])\n",
    "like_ratio = like_ratio.groupby('channelTitle')[['view_count', 'like_count']].sum()\n",
    "like_ratio['like_ratio'] = like_ratio['like_count'] / like_ratio['view_count']\n",
    "\n",
    "\n",
    "df_videos['like_count'] = df_videos.apply(lambda x: \n",
    "                                          x['view_count'] * like_ratio.loc[x['channelTitle'],'like_ratio'] \n",
    "                                          if pd.isnull(x['like_count']) \n",
    "                                          else x['like_count'], axis=1)"
   ]
  },
  {
   "cell_type": "markdown",
   "metadata": {},
   "source": [
    "When inspecting videos with missing values in the 'comment_count,' it becomes evident that comments for these videos are disabled by the uploader. Consequently, we have opted to fill these missing values with 0."
   ]
  },
  {
   "cell_type": "code",
   "execution_count": 63,
   "metadata": {},
   "outputs": [],
   "source": [
    "df_videos['comment_count'] = df_videos['comment_count'].fillna(0)"
   ]
  },
  {
   "cell_type": "markdown",
   "metadata": {},
   "source": [
    "tags null because the video uploader does not add tags to the video. So we just leave it as it is."
   ]
  },
  {
   "cell_type": "markdown",
   "metadata": {},
   "source": [
    "All channels we chose to scrape have English as their default audio language. As a result, we have chosen to fill in the missing values with 'en'."
   ]
  },
  {
   "cell_type": "code",
   "execution_count": 64,
   "metadata": {},
   "outputs": [],
   "source": [
    "df_videos['default_audio_language'] = df_videos['default_audio_language'].fillna('en')"
   ]
  },
  {
   "cell_type": "code",
   "execution_count": 65,
   "metadata": {},
   "outputs": [
    {
     "name": "stdout",
     "output_type": "stream",
     "text": [
      "<class 'pandas.core.frame.DataFrame'>\n",
      "Index: 5472 entries, 0 to 5878\n",
      "Data columns (total 13 columns):\n",
      " #   Column                  Non-Null Count  Dtype  \n",
      "---  ------                  --------------  -----  \n",
      " 0   video_id                5472 non-null   object \n",
      " 1   title                   5472 non-null   object \n",
      " 2   published               5472 non-null   object \n",
      " 3   view_count              5472 non-null   int64  \n",
      " 4   like_count              5472 non-null   float64\n",
      " 5   comment_count           5472 non-null   float64\n",
      " 6   duration                5472 non-null   object \n",
      " 7   definition              5472 non-null   object \n",
      " 8   tags                    4752 non-null   object \n",
      " 9   default_audio_language  5472 non-null   object \n",
      " 10  madeforkid              5472 non-null   bool   \n",
      " 11  channel_id              5472 non-null   object \n",
      " 12  channelTitle            5472 non-null   object \n",
      "dtypes: bool(1), float64(2), int64(1), object(9)\n",
      "memory usage: 561.1+ KB\n"
     ]
    }
   ],
   "source": [
    "df_videos.info()"
   ]
  },
  {
   "cell_type": "markdown",
   "metadata": {},
   "source": [
    "### Fill missing values in df_comments"
   ]
  },
  {
   "cell_type": "code",
   "execution_count": 66,
   "metadata": {},
   "outputs": [
    {
     "name": "stdout",
     "output_type": "stream",
     "text": [
      "<class 'pandas.core.frame.DataFrame'>\n",
      "Index: 110409 entries, 0 to 135995\n",
      "Data columns (total 10 columns):\n",
      " #   Column        Non-Null Count   Dtype  \n",
      "---  ------        --------------   -----  \n",
      " 0   Comment_id    110409 non-null  object \n",
      " 1   author        110407 non-null  object \n",
      " 2   Reply_for     25166 non-null   object \n",
      " 3   Type          110409 non-null  float64\n",
      " 4   video_id      110409 non-null  object \n",
      " 5   total_reply   110409 non-null  float64\n",
      " 6   like_count    110409 non-null  float64\n",
      " 7   published_at  110409 non-null  object \n",
      " 8   textdisplay   110409 non-null  object \n",
      " 9   updatedat     110409 non-null  object \n",
      "dtypes: float64(3), object(7)\n",
      "memory usage: 9.3+ MB\n"
     ]
    }
   ],
   "source": [
    "df_comments.info()"
   ]
  },
  {
   "cell_type": "markdown",
   "metadata": {},
   "source": [
    "Reply_for is null because the comment is a top-level comment. So we just leave it as it is.\n",
    "\n",
    "There are only 2 missing values in the `author` column. We can leave it as it is."
   ]
  },
  {
   "cell_type": "markdown",
   "metadata": {},
   "source": [
    "### Current column types in datasets"
   ]
  },
  {
   "cell_type": "markdown",
   "metadata": {},
   "source": [
    "#### Videos section"
   ]
  },
  {
   "cell_type": "code",
   "execution_count": 67,
   "metadata": {},
   "outputs": [
    {
     "data": {
      "text/plain": [
       "video_id                   object\n",
       "title                      object\n",
       "published                  object\n",
       "view_count                  int64\n",
       "like_count                float64\n",
       "comment_count             float64\n",
       "duration                   object\n",
       "definition                 object\n",
       "tags                       object\n",
       "default_audio_language     object\n",
       "madeforkid                   bool\n",
       "channel_id                 object\n",
       "channelTitle               object\n",
       "dtype: object"
      ]
     },
     "execution_count": 67,
     "metadata": {},
     "output_type": "execute_result"
    }
   ],
   "source": [
    "df_videos.dtypes"
   ]
  },
  {
   "cell_type": "markdown",
   "metadata": {},
   "source": [
    "The following fields need to be converted to the specified data types:\n",
    "- `published` to datetime.\n",
    "- `duration` to timedelta.\n",
    "- `tags` to a list of strings."
   ]
  },
  {
   "cell_type": "code",
   "execution_count": 68,
   "metadata": {},
   "outputs": [],
   "source": [
    "df_videos['published'] =  pd.to_datetime(df_videos['published'])\n",
    "df_videos['duration'] = pd.to_timedelta(df_videos['duration'])\n",
    "df_videos['tags'] = df_videos['tags'].apply(lambda x: ast.literal_eval(x) if pd.notnull(x) else np.nan)"
   ]
  },
  {
   "cell_type": "markdown",
   "metadata": {},
   "source": [
    "#### Comments section"
   ]
  },
  {
   "cell_type": "code",
   "execution_count": 69,
   "metadata": {},
   "outputs": [
    {
     "data": {
      "text/plain": [
       "Comment_id       object\n",
       "author           object\n",
       "Reply_for        object\n",
       "Type            float64\n",
       "video_id         object\n",
       "total_reply     float64\n",
       "like_count      float64\n",
       "published_at     object\n",
       "textdisplay      object\n",
       "updatedat        object\n",
       "dtype: object"
      ]
     },
     "execution_count": 69,
     "metadata": {},
     "output_type": "execute_result"
    }
   ],
   "source": [
    "df_comments.dtypes"
   ]
  },
  {
   "cell_type": "markdown",
   "metadata": {},
   "source": [
    "The `published_at` and `updatedat` fields need to be converted to datetime."
   ]
  },
  {
   "cell_type": "code",
   "execution_count": 70,
   "metadata": {},
   "outputs": [],
   "source": [
    "df_comments['published_at'] =  pd.to_datetime(df_comments['published_at'])\n",
    "df_comments['updatedat'] =  pd.to_datetime(df_comments['updatedat'])"
   ]
  },
  {
   "cell_type": "markdown",
   "metadata": {},
   "source": [
    "Next, we will drop columns that are unnecessary for subsequent steps."
   ]
  },
  {
   "cell_type": "code",
   "execution_count": 71,
   "metadata": {},
   "outputs": [],
   "source": [
    "df_videos = df_videos.drop(columns = ['channel_id'])\n",
    "df_comments = df_comments.drop(columns = ['Comment_id'])\n",
    "df_comments = df_comments.drop(columns = ['Reply_for'])"
   ]
  },
  {
   "cell_type": "markdown",
   "metadata": {},
   "source": [
    "### Distribution of Values for Numeric Columns"
   ]
  },
  {
   "cell_type": "code",
   "execution_count": 72,
   "metadata": {},
   "outputs": [],
   "source": [
    "def num_missing_ratio(column):\n",
    "    return (column.isnull().sum() / len(column) * 100).round(1)\n",
    "\n",
    "def num_lower_quartile(column):\n",
    "    return column.quantile(0.25)\n",
    "\n",
    "def num_median(column):\n",
    "    return column.quantile(0.5)\n",
    "\n",
    "def num_upper_quartile(column):\n",
    "    return column.quantile(0.75)\n",
    "\n",
    "num_types = ['int64', 'float64']"
   ]
  },
  {
   "cell_type": "code",
   "execution_count": 73,
   "metadata": {},
   "outputs": [
    {
     "data": {
      "text/html": [
       "<div>\n",
       "<style scoped>\n",
       "    .dataframe tbody tr th:only-of-type {\n",
       "        vertical-align: middle;\n",
       "    }\n",
       "\n",
       "    .dataframe tbody tr th {\n",
       "        vertical-align: top;\n",
       "    }\n",
       "\n",
       "    .dataframe thead th {\n",
       "        text-align: right;\n",
       "    }\n",
       "</style>\n",
       "<table border=\"1\" class=\"dataframe\">\n",
       "  <thead>\n",
       "    <tr style=\"text-align: right;\">\n",
       "      <th></th>\n",
       "      <th>view_count</th>\n",
       "      <th>like_count</th>\n",
       "      <th>comment_count</th>\n",
       "    </tr>\n",
       "  </thead>\n",
       "  <tbody>\n",
       "    <tr>\n",
       "      <th>num_missing_ratio</th>\n",
       "      <td>0.00</td>\n",
       "      <td>0.00</td>\n",
       "      <td>0.0</td>\n",
       "    </tr>\n",
       "    <tr>\n",
       "      <th>min</th>\n",
       "      <td>0.00</td>\n",
       "      <td>0.00</td>\n",
       "      <td>0.0</td>\n",
       "    </tr>\n",
       "    <tr>\n",
       "      <th>num_lower_quartile</th>\n",
       "      <td>4047.75</td>\n",
       "      <td>78.75</td>\n",
       "      <td>4.0</td>\n",
       "    </tr>\n",
       "    <tr>\n",
       "      <th>num_median</th>\n",
       "      <td>22660.00</td>\n",
       "      <td>483.00</td>\n",
       "      <td>32.0</td>\n",
       "    </tr>\n",
       "    <tr>\n",
       "      <th>num_upper_quartile</th>\n",
       "      <td>98793.50</td>\n",
       "      <td>2274.25</td>\n",
       "      <td>138.0</td>\n",
       "    </tr>\n",
       "    <tr>\n",
       "      <th>max</th>\n",
       "      <td>19622082.00</td>\n",
       "      <td>1043942.00</td>\n",
       "      <td>26833.0</td>\n",
       "    </tr>\n",
       "  </tbody>\n",
       "</table>\n",
       "</div>"
      ],
      "text/plain": [
       "                     view_count  like_count  comment_count\n",
       "num_missing_ratio          0.00        0.00            0.0\n",
       "min                        0.00        0.00            0.0\n",
       "num_lower_quartile      4047.75       78.75            4.0\n",
       "num_median             22660.00      483.00           32.0\n",
       "num_upper_quartile     98793.50     2274.25          138.0\n",
       "max                 19622082.00  1043942.00        26833.0"
      ]
     },
     "execution_count": 73,
     "metadata": {},
     "output_type": "execute_result"
    }
   ],
   "source": [
    "num_col_info_df_videos = df_videos.select_dtypes(include = num_types)\n",
    "\n",
    "num_col_info_df_videos = num_col_info_df_videos.agg([num_missing_ratio, 'min', num_lower_quartile, num_median, num_upper_quartile, 'max'])\n",
    "num_col_info_df_videos"
   ]
  },
  {
   "cell_type": "code",
   "execution_count": 74,
   "metadata": {},
   "outputs": [
    {
     "data": {
      "image/png": "[encoded data removed]",
      "text/plain": [
       "<Figure size 2000x1000 with 3 Axes>"
      ]
     },
     "metadata": {},
     "output_type": "display_data"
    }
   ],
   "source": [
    "fig = plt.figure(figsize = (20, 10))\n",
    "for i, col in enumerate(num_col_info_df_videos.columns):\n",
    "    ax = fig.add_subplot(2, 2, i + 1)\n",
    "    ax.hist(df_videos[col], bins = 'scott')\n",
    "    ax.set_title(col)"
   ]
  },
  {
   "cell_type": "markdown",
   "metadata": {},
   "source": [
    "- These columns have ouliers, so we can handle the ouliers to make it easier to visualize when drawing the histogram.\n",
    "- Outliers can be handled by clipping the minimum and maximum values of the Box plot. This processor can be implemented as the sklearn API as follows:\n"
   ]
  },
  {
   "cell_type": "code",
   "execution_count": 75,
   "metadata": {},
   "outputs": [
    {
     "data": {
      "image/png": "[encoded data removed]",
      "text/plain": [
       "<Figure size 1500x1000 with 4 Axes>"
      ]
     },
     "metadata": {},
     "output_type": "display_data"
    }
   ],
   "source": [
    "from typing import Tuple\n",
    "from sklearn.base import BaseEstimator, TransformerMixin\n",
    "\n",
    "def find_boxplot_boundaries(\n",
    "    col: pd.Series, whisker_coeff: float = 1.5\n",
    ") -> Tuple[float, float]:\n",
    "    \"\"\"Findx minimum and maximum in boxplot.\n",
    "\n",
    "    Args:\n",
    "        col: a pandas serires of input.\n",
    "        whisker_coeff: whisker coefficient in box plot\n",
    "    \"\"\"\n",
    "    Q1 = col.quantile(0.25)\n",
    "    Q3 = col.quantile(0.75)\n",
    "    IQR = Q3 - Q1\n",
    "    lower = Q1 - whisker_coeff * IQR\n",
    "    upper = Q3 + whisker_coeff * IQR\n",
    "    return lower, upper\n",
    "\n",
    "class BoxplotOutlierClipper(BaseEstimator, TransformerMixin):\n",
    "    def __init__(self, whisker_coeff: float = 1.5):\n",
    "        self.whisker = whisker_coeff\n",
    "        self.lower = None\n",
    "        self.upper = None\n",
    "\n",
    "    def fit(self, X: pd.Series):\n",
    "        self.lower, self.upper = find_boxplot_boundaries(X, self.whisker)\n",
    "        return self\n",
    "\n",
    "    def transform(self, X):\n",
    "        return X.clip(self.lower, self.upper)\n",
    "\n",
    "view_count = BoxplotOutlierClipper().fit_transform(df_videos[\"view_count\"])\n",
    "like_count= BoxplotOutlierClipper().fit_transform(df_videos[\"like_count\"])\n",
    "comment_count = BoxplotOutlierClipper().fit_transform(df_videos[\"comment_count\"])\n",
    "fig, axes = plt.subplots(nrows=2, ncols=2, figsize=(15, 10))\n",
    "axes[0, 0].hist(view_count, bins=20)\n",
    "axes[0, 0].set_title(\"Histogram of View Count (with outliers clipped)\")\n",
    "axes[0,0].set_xlabel('View Count')\n",
    "axes[0,0].set_ylabel('Frequency')\n",
    "\n",
    "axes[0, 1].hist(like_count, bins=20)\n",
    "axes[0, 1].set_title(\"Histogram of Like Count (with outliers clipped)\")\n",
    "axes[0,1].set_xlabel('Like Count')\n",
    "axes[0,1].set_ylabel('Frequency')\n",
    "\n",
    "axes[1, 0].hist(comment_count, bins=20)\n",
    "axes[1, 0].set_title(\"Histogram of Comment Count (with outliers clipped)\")\n",
    "axes[1,0].set_xlabel('Comment Count')\n",
    "axes[1,0].set_ylabel('Frequency')\n",
    "axes[1, 1].axis(\"off\")\n",
    "plt.show()\n"
   ]
  },
  {
   "cell_type": "code",
   "execution_count": 76,
   "metadata": {},
   "outputs": [
    {
     "data": {
      "text/html": [
       "<div>\n",
       "<style scoped>\n",
       "    .dataframe tbody tr th:only-of-type {\n",
       "        vertical-align: middle;\n",
       "    }\n",
       "\n",
       "    .dataframe tbody tr th {\n",
       "        vertical-align: top;\n",
       "    }\n",
       "\n",
       "    .dataframe thead th {\n",
       "        text-align: right;\n",
       "    }\n",
       "</style>\n",
       "<table border=\"1\" class=\"dataframe\">\n",
       "  <thead>\n",
       "    <tr style=\"text-align: right;\">\n",
       "      <th></th>\n",
       "      <th>Type</th>\n",
       "      <th>total_reply</th>\n",
       "      <th>like_count</th>\n",
       "    </tr>\n",
       "  </thead>\n",
       "  <tbody>\n",
       "    <tr>\n",
       "      <th>num_missing_ratio</th>\n",
       "      <td>0.0</td>\n",
       "      <td>0.0</td>\n",
       "      <td>0.0</td>\n",
       "    </tr>\n",
       "    <tr>\n",
       "      <th>min</th>\n",
       "      <td>1.0</td>\n",
       "      <td>0.0</td>\n",
       "      <td>0.0</td>\n",
       "    </tr>\n",
       "    <tr>\n",
       "      <th>num_lower_quartile</th>\n",
       "      <td>1.0</td>\n",
       "      <td>0.0</td>\n",
       "      <td>0.0</td>\n",
       "    </tr>\n",
       "    <tr>\n",
       "      <th>num_median</th>\n",
       "      <td>1.0</td>\n",
       "      <td>0.0</td>\n",
       "      <td>0.0</td>\n",
       "    </tr>\n",
       "    <tr>\n",
       "      <th>num_upper_quartile</th>\n",
       "      <td>1.0</td>\n",
       "      <td>0.0</td>\n",
       "      <td>1.0</td>\n",
       "    </tr>\n",
       "    <tr>\n",
       "      <th>max</th>\n",
       "      <td>2.0</td>\n",
       "      <td>392.0</td>\n",
       "      <td>65952.0</td>\n",
       "    </tr>\n",
       "  </tbody>\n",
       "</table>\n",
       "</div>"
      ],
      "text/plain": [
       "                    Type  total_reply  like_count\n",
       "num_missing_ratio    0.0          0.0         0.0\n",
       "min                  1.0          0.0         0.0\n",
       "num_lower_quartile   1.0          0.0         0.0\n",
       "num_median           1.0          0.0         0.0\n",
       "num_upper_quartile   1.0          0.0         1.0\n",
       "max                  2.0        392.0     65952.0"
      ]
     },
     "execution_count": 76,
     "metadata": {},
     "output_type": "execute_result"
    }
   ],
   "source": [
    "num_col_info_df_comments = df_comments.select_dtypes(include = num_types)\n",
    "\n",
    "num_col_info_df_comments = num_col_info_df_comments.agg([num_missing_ratio, 'min', num_lower_quartile, num_median, num_upper_quartile, 'max'])\n",
    "num_col_info_df_comments"
   ]
  },
  {
   "cell_type": "markdown",
   "metadata": {},
   "source": [
    "### Distribution of Values for Non-numeric Columns"
   ]
  },
  {
   "cell_type": "code",
   "execution_count": 77,
   "metadata": {},
   "outputs": [],
   "source": [
    "def missing_ratio(column):\n",
    "    return (column.isnull().sum() / len(column) * 100).round(1)\n",
    "\n",
    "def cat_num_values(column):\n",
    "    if type(column[0] == 'list'):\n",
    "        column = column.explode()\n",
    "    return column.nunique()\n",
    "\n",
    "def cat_value_ratios(column):\n",
    "    if type(column[0] == 'list'):\n",
    "        column = column.explode()\n",
    "    return column.value_counts(normalize = True).sort_values(axis = 0,ascending=False).to_dict()"
   ]
  },
  {
   "cell_type": "code",
   "execution_count": 78,
   "metadata": {},
   "outputs": [
    {
     "data": {
      "text/html": [
       "<div>\n",
       "<style scoped>\n",
       "    .dataframe tbody tr th:only-of-type {\n",
       "        vertical-align: middle;\n",
       "    }\n",
       "\n",
       "    .dataframe tbody tr th {\n",
       "        vertical-align: top;\n",
       "    }\n",
       "\n",
       "    .dataframe thead th {\n",
       "        text-align: right;\n",
       "    }\n",
       "</style>\n",
       "<table border=\"1\" class=\"dataframe\">\n",
       "  <thead>\n",
       "    <tr style=\"text-align: right;\">\n",
       "      <th></th>\n",
       "      <th>definition</th>\n",
       "      <th>tags</th>\n",
       "      <th>default_audio_language</th>\n",
       "      <th>madeforkid</th>\n",
       "    </tr>\n",
       "  </thead>\n",
       "  <tbody>\n",
       "    <tr>\n",
       "      <th>missing_ratio</th>\n",
       "      <td>0.0</td>\n",
       "      <td>13.2</td>\n",
       "      <td>0.0</td>\n",
       "      <td>0.0</td>\n",
       "    </tr>\n",
       "    <tr>\n",
       "      <th>cat_num_values</th>\n",
       "      <td>2</td>\n",
       "      <td>24347</td>\n",
       "      <td>5</td>\n",
       "      <td>2</td>\n",
       "    </tr>\n",
       "    <tr>\n",
       "      <th>cat_value_ratios</th>\n",
       "      <td>{'hd': 0.9769736842105263, 'sd': 0.02302631578...</td>\n",
       "      <td>{'machine learning': 0.013006853226727583, 'de...</td>\n",
       "      <td>{'en': 0.7624269005847953, 'en-US': 0.17690058...</td>\n",
       "      <td>{False: 0.9978070175438597, True: 0.0021929824...</td>\n",
       "    </tr>\n",
       "  </tbody>\n",
       "</table>\n",
       "</div>"
      ],
      "text/plain": [
       "                                                         definition  \\\n",
       "missing_ratio                                                   0.0   \n",
       "cat_num_values                                                    2   \n",
       "cat_value_ratios  {'hd': 0.9769736842105263, 'sd': 0.02302631578...   \n",
       "\n",
       "                                                               tags  \\\n",
       "missing_ratio                                                  13.2   \n",
       "cat_num_values                                                24347   \n",
       "cat_value_ratios  {'machine learning': 0.013006853226727583, 'de...   \n",
       "\n",
       "                                             default_audio_language  \\\n",
       "missing_ratio                                                   0.0   \n",
       "cat_num_values                                                    5   \n",
       "cat_value_ratios  {'en': 0.7624269005847953, 'en-US': 0.17690058...   \n",
       "\n",
       "                                                         madeforkid  \n",
       "missing_ratio                                                   0.0  \n",
       "cat_num_values                                                    2  \n",
       "cat_value_ratios  {False: 0.9978070175438597, True: 0.0021929824...  "
      ]
     },
     "execution_count": 78,
     "metadata": {},
     "output_type": "execute_result"
    }
   ],
   "source": [
    "cat_cols = ['definition', 'tags', 'default_audio_language', 'madeforkid']\n",
    "cat_col_info_df_videos = df_videos[cat_cols]\n",
    "\n",
    "cat_col_info_df_videos = cat_col_info_df_videos.agg([missing_ratio, cat_num_values, cat_value_ratios])\n",
    "cat_col_info_df_videos"
   ]
  },
  {
   "cell_type": "code",
   "execution_count": 79,
   "metadata": {},
   "outputs": [
    {
     "data": {
      "image/png": "[encoded data removed]",
      "text/plain": [
       "<Figure size 2000x1000 with 4 Axes>"
      ]
     },
     "metadata": {},
     "output_type": "display_data"
    }
   ],
   "source": [
    "fig = plt.figure(figsize = (20, 10))\n",
    "for i, col in enumerate(cat_col_info_df_videos.columns):\n",
    "    ax = fig.add_subplot(2, 2, i + 1)\n",
    "    n_top = 0\n",
    "    if col == 'madeforkid':\n",
    "        ax.set_xticks([0, 1])\n",
    "        ax.set_xticklabels(['False', 'True'])\n",
    "    if col == 'tags':\n",
    "        n_top = 5\n",
    "    ax.bar(*zip(*list(cat_col_info_df_videos[col]['cat_value_ratios'].items())[-n_top:]))\n",
    "    ax.set_title(col)"
   ]
  },
  {
   "cell_type": "code",
   "execution_count": 80,
   "metadata": {},
   "outputs": [
    {
     "data": {
      "text/html": [
       "<div>\n",
       "<style scoped>\n",
       "    .dataframe tbody tr th:only-of-type {\n",
       "        vertical-align: middle;\n",
       "    }\n",
       "\n",
       "    .dataframe tbody tr th {\n",
       "        vertical-align: top;\n",
       "    }\n",
       "\n",
       "    .dataframe thead th {\n",
       "        text-align: right;\n",
       "    }\n",
       "</style>\n",
       "<table border=\"1\" class=\"dataframe\">\n",
       "  <thead>\n",
       "    <tr style=\"text-align: right;\">\n",
       "      <th></th>\n",
       "      <th>author</th>\n",
       "      <th>Type</th>\n",
       "    </tr>\n",
       "  </thead>\n",
       "  <tbody>\n",
       "    <tr>\n",
       "      <th>missing_ratio</th>\n",
       "      <td>0.0</td>\n",
       "      <td>0.0</td>\n",
       "    </tr>\n",
       "    <tr>\n",
       "      <th>cat_num_values</th>\n",
       "      <td>75228</td>\n",
       "      <td>2</td>\n",
       "    </tr>\n",
       "    <tr>\n",
       "      <th>cat_value_ratios</th>\n",
       "      <td>{'@codebasics': 0.02874817719890949, '@statque...</td>\n",
       "      <td>{1.0: 0.7720656830512005, 2.0: 0.2279343169487...</td>\n",
       "    </tr>\n",
       "  </tbody>\n",
       "</table>\n",
       "</div>"
      ],
      "text/plain": [
       "                                                             author  \\\n",
       "missing_ratio                                                   0.0   \n",
       "cat_num_values                                                75228   \n",
       "cat_value_ratios  {'@codebasics': 0.02874817719890949, '@statque...   \n",
       "\n",
       "                                                               Type  \n",
       "missing_ratio                                                   0.0  \n",
       "cat_num_values                                                    2  \n",
       "cat_value_ratios  {1.0: 0.7720656830512005, 2.0: 0.2279343169487...  "
      ]
     },
     "execution_count": 80,
     "metadata": {},
     "output_type": "execute_result"
    }
   ],
   "source": [
    "cat_cols = ['author', 'Type']\n",
    "cat_col_info_df_comments = df_comments[cat_cols]\n",
    "\n",
    "cat_col_info_df_comments = cat_col_info_df_comments.agg([missing_ratio, cat_num_values, cat_value_ratios])\n",
    "cat_col_info_df_comments"
   ]
  },
  {
   "cell_type": "code",
   "execution_count": 81,
   "metadata": {},
   "outputs": [
    {
     "data": {
      "image/png": "[encoded data removed]",
      "text/plain": [
       "<Figure size 2000x500 with 2 Axes>"
      ]
     },
     "metadata": {},
     "output_type": "display_data"
    }
   ],
   "source": [
    "fig = plt.figure(figsize = (20, 5))\n",
    "for i, col in enumerate(cat_col_info_df_comments.columns):\n",
    "    ax = fig.add_subplot(1, 2, i + 1)\n",
    "    n_top = 0\n",
    "    if col == 'author':\n",
    "        n_top = 5\n",
    "    if col == 'Type':\n",
    "        ax.set_xticks([1, 2])\n",
    "        ax.set_xticklabels(['Comment', 'Reply'])\n",
    "    ax.bar(*zip(*list(cat_col_info_df_comments[col]['cat_value_ratios'].items())[-n_top:]))\n",
    "    ax.set_title(col)"
   ]
  },
  {
   "cell_type": "markdown",
   "metadata": {},
   "source": [
    "### Save the processed data"
   ]
  },
  {
   "cell_type": "code",
   "execution_count": 82,
   "metadata": {},
   "outputs": [],
   "source": [
    "processed_data_path = '../data/processed/'\n",
    "\n",
    "df_videos.to_csv(processed_data_path + 'df_videos_processed.csv', index = False)\n",
    "df_comments.to_csv(processed_data_path + 'df_comments_processed.csv', index = False)"
   ]
  },
  {
   "cell_type": "markdown",
   "metadata": {},
   "source": [
    "# Create channel_df"
   ]
  },
  {
   "cell_type": "markdown",
   "metadata": {},
   "source": [
    "Next we create a dataset containing basic information of the channels to compare with the original dataset and at the same time get new analytical aspects."
   ]
  },
  {
   "cell_type": "code",
   "execution_count": 83,
   "metadata": {},
   "outputs": [
    {
     "data": {
      "text/html": [
       "<div>\n",
       "<style scoped>\n",
       "    .dataframe tbody tr th:only-of-type {\n",
       "        vertical-align: middle;\n",
       "    }\n",
       "\n",
       "    .dataframe tbody tr th {\n",
       "        vertical-align: top;\n",
       "    }\n",
       "\n",
       "    .dataframe thead th {\n",
       "        text-align: right;\n",
       "    }\n",
       "</style>\n",
       "<table border=\"1\" class=\"dataframe\">\n",
       "  <thead>\n",
       "    <tr style=\"text-align: right;\">\n",
       "      <th></th>\n",
       "      <th>video_id</th>\n",
       "      <th>title</th>\n",
       "      <th>published</th>\n",
       "      <th>view_count</th>\n",
       "      <th>like_count</th>\n",
       "      <th>comment_count</th>\n",
       "      <th>duration</th>\n",
       "      <th>definition</th>\n",
       "      <th>tags</th>\n",
       "      <th>default_audio_language</th>\n",
       "      <th>madeforkid</th>\n",
       "      <th>channelTitle</th>\n",
       "    </tr>\n",
       "  </thead>\n",
       "  <tbody>\n",
       "    <tr>\n",
       "      <th>0</th>\n",
       "      <td>hh6gE0LxfO8</td>\n",
       "      <td>#5 Machine Learning Specialization [Course 1, ...</td>\n",
       "      <td>2022-12-01 13:21:30+00:00</td>\n",
       "      <td>30742</td>\n",
       "      <td>319.0</td>\n",
       "      <td>6.0</td>\n",
       "      <td>0 days 00:07:17</td>\n",
       "      <td>hd</td>\n",
       "      <td>NaN</td>\n",
       "      <td>en</td>\n",
       "      <td>False</td>\n",
       "      <td>DeepLearningAI</td>\n",
       "    </tr>\n",
       "    <tr>\n",
       "      <th>1</th>\n",
       "      <td>_i3aqgKVNQI</td>\n",
       "      <td>C5W3L01 Basic Models</td>\n",
       "      <td>2018-02-05 19:50:14+00:00</td>\n",
       "      <td>110835</td>\n",
       "      <td>436.0</td>\n",
       "      <td>12.0</td>\n",
       "      <td>0 days 00:06:19</td>\n",
       "      <td>hd</td>\n",
       "      <td>NaN</td>\n",
       "      <td>en</td>\n",
       "      <td>False</td>\n",
       "      <td>DeepLearningAI</td>\n",
       "    </tr>\n",
       "    <tr>\n",
       "      <th>2</th>\n",
       "      <td>uvTL1N02f04</td>\n",
       "      <td>#23 Machine Learning Specialization [Course 1,...</td>\n",
       "      <td>2022-12-01 13:22:38+00:00</td>\n",
       "      <td>11639</td>\n",
       "      <td>107.0</td>\n",
       "      <td>4.0</td>\n",
       "      <td>0 days 00:06:53</td>\n",
       "      <td>hd</td>\n",
       "      <td>NaN</td>\n",
       "      <td>en</td>\n",
       "      <td>False</td>\n",
       "      <td>DeepLearningAI</td>\n",
       "    </tr>\n",
       "    <tr>\n",
       "      <th>3</th>\n",
       "      <td>H4YK_7MAckk</td>\n",
       "      <td>ChatGPT Prompt Engineering for Developers: A s...</td>\n",
       "      <td>2023-04-27 14:49:09+00:00</td>\n",
       "      <td>143057</td>\n",
       "      <td>2847.0</td>\n",
       "      <td>121.0</td>\n",
       "      <td>0 days 00:01:58</td>\n",
       "      <td>hd</td>\n",
       "      <td>[ChatGPT, prompt engineering, openai, deeplear...</td>\n",
       "      <td>en</td>\n",
       "      <td>False</td>\n",
       "      <td>DeepLearningAI</td>\n",
       "    </tr>\n",
       "    <tr>\n",
       "      <th>4</th>\n",
       "      <td>YVtP5UGdgXg</td>\n",
       "      <td>#25 Machine Learning Specialization [Course 1,...</td>\n",
       "      <td>2022-12-01 13:22:45+00:00</td>\n",
       "      <td>11542</td>\n",
       "      <td>106.0</td>\n",
       "      <td>1.0</td>\n",
       "      <td>0 days 00:06:35</td>\n",
       "      <td>hd</td>\n",
       "      <td>NaN</td>\n",
       "      <td>en</td>\n",
       "      <td>False</td>\n",
       "      <td>DeepLearningAI</td>\n",
       "    </tr>\n",
       "  </tbody>\n",
       "</table>\n",
       "</div>"
      ],
      "text/plain": [
       "      video_id                                              title  \\\n",
       "0  hh6gE0LxfO8  #5 Machine Learning Specialization [Course 1, ...   \n",
       "1  _i3aqgKVNQI                               C5W3L01 Basic Models   \n",
       "2  uvTL1N02f04  #23 Machine Learning Specialization [Course 1,...   \n",
       "3  H4YK_7MAckk  ChatGPT Prompt Engineering for Developers: A s...   \n",
       "4  YVtP5UGdgXg  #25 Machine Learning Specialization [Course 1,...   \n",
       "\n",
       "                  published  view_count  like_count  comment_count  \\\n",
       "0 2022-12-01 13:21:30+00:00       30742       319.0            6.0   \n",
       "1 2018-02-05 19:50:14+00:00      110835       436.0           12.0   \n",
       "2 2022-12-01 13:22:38+00:00       11639       107.0            4.0   \n",
       "3 2023-04-27 14:49:09+00:00      143057      2847.0          121.0   \n",
       "4 2022-12-01 13:22:45+00:00       11542       106.0            1.0   \n",
       "\n",
       "         duration definition  \\\n",
       "0 0 days 00:07:17         hd   \n",
       "1 0 days 00:06:19         hd   \n",
       "2 0 days 00:06:53         hd   \n",
       "3 0 days 00:01:58         hd   \n",
       "4 0 days 00:06:35         hd   \n",
       "\n",
       "                                                tags default_audio_language  \\\n",
       "0                                                NaN                     en   \n",
       "1                                                NaN                     en   \n",
       "2                                                NaN                     en   \n",
       "3  [ChatGPT, prompt engineering, openai, deeplear...                     en   \n",
       "4                                                NaN                     en   \n",
       "\n",
       "   madeforkid    channelTitle  \n",
       "0       False  DeepLearningAI  \n",
       "1       False  DeepLearningAI  \n",
       "2       False  DeepLearningAI  \n",
       "3       False  DeepLearningAI  \n",
       "4       False  DeepLearningAI  "
      ]
     },
     "execution_count": 83,
     "metadata": {},
     "output_type": "execute_result"
    }
   ],
   "source": [
    "videos_df = read_processed_df.read_video_df()\n",
    "videos_df.head()"
   ]
  },
  {
   "cell_type": "code",
   "execution_count": 84,
   "metadata": {},
   "outputs": [],
   "source": [
    "channel_df = pd.DataFrame(columns=['channel_name', 'video_count', 'subscriber_count', 'view_count', 'like_count','comment_count', 'join_date', 'country', 'description', 'link'])\n",
    "\n",
    "for channel in videos_df.channelTitle.unique():\n",
    "    name = channel\n",
    "    temp_df = videos_df[videos_df.channelTitle == channel]\n",
    "    # Drop duplicates video id\n",
    "    temp_df = temp_df.drop_duplicates(subset='video_id')\n",
    "    like_count = temp_df.like_count.sum()\n",
    "    video_count = temp_df.video_id.nunique()\n",
    "    view_count = temp_df.view_count.sum()\n",
    "    comment_count = temp_df.comment_count.sum()\n",
    "\n",
    "    channel_df = pd.concat([channel_df, pd.DataFrame([[name, video_count, view_count, like_count,comment_count]], columns=['channel_name', 'video_count', 'view_count', 'like_count', 'comment_count'])])\n",
    "\n"
   ]
  },
  {
   "cell_type": "markdown",
   "metadata": {},
   "source": [
    "Because there are some missing information in the video_df, we need to request them from the YouTube API."
   ]
  },
  {
   "cell_type": "code",
   "execution_count": 85,
   "metadata": {},
   "outputs": [],
   "source": [
    "api_key = json.load(open('../data/external/API.json', 'r'))['default']\n",
    "channel_id_nam = json.load(open('../data/external/channel_id.json', 'r'))['Nam']\n",
    "channel_id_Phuc = json.load(open('../data/external/channel_id.json', 'r'))['Phuc']\n",
    "channel_ids = {**channel_id_nam, **channel_id_Phuc}\n",
    "\n",
    "def get_country_name(country_code):\n",
    "    try:\n",
    "        country_name = pycountry.countries.get(alpha_2=country_code).name\n",
    "    except:\n",
    "        country_name = 'Not available'\n",
    "    return country_name\n",
    "\n",
    "def getChannelInfo(channel_id):\n",
    "    url = 'https://www.googleapis.com/youtube/v3/channels?part=snippet%2CcontentDetails%2Cstatistics%2CbrandingSettings&id={}&key={}'.format(channel_id, api_key)\n",
    "    response = requests.get(url)\n",
    "    data = response.json()\n",
    "    # Extract the required information\n",
    "    subscriber_count = data['items'][0]['statistics']['subscriberCount']\n",
    "    join_date = data['items'][0]['snippet']['publishedAt']\n",
    "    country_code = data['items'][0]['snippet'].get('country', 'Not available')  # Some channels might not have a 'country' field\n",
    "    link = \"https://www.youtube.com/channel/\" + data['items'][0]['id']\n",
    "    description = data['items'][0]['snippet']['description']\n",
    "    country = get_country_name(country_code)\n",
    "    return subscriber_count, join_date, country, link, description\n"
   ]
  },
  {
   "cell_type": "code",
   "execution_count": 86,
   "metadata": {},
   "outputs": [
    {
     "data": {
      "text/html": [
       "<div>\n",
       "<style scoped>\n",
       "    .dataframe tbody tr th:only-of-type {\n",
       "        vertical-align: middle;\n",
       "    }\n",
       "\n",
       "    .dataframe tbody tr th {\n",
       "        vertical-align: top;\n",
       "    }\n",
       "\n",
       "    .dataframe thead th {\n",
       "        text-align: right;\n",
       "    }\n",
       "</style>\n",
       "<table border=\"1\" class=\"dataframe\">\n",
       "  <thead>\n",
       "    <tr style=\"text-align: right;\">\n",
       "      <th></th>\n",
       "      <th>channel_name</th>\n",
       "      <th>video_count</th>\n",
       "      <th>subscriber_count</th>\n",
       "      <th>view_count</th>\n",
       "      <th>like_count</th>\n",
       "      <th>comment_count</th>\n",
       "      <th>join_date</th>\n",
       "      <th>country</th>\n",
       "      <th>description</th>\n",
       "      <th>link</th>\n",
       "    </tr>\n",
       "  </thead>\n",
       "  <tbody>\n",
       "    <tr>\n",
       "      <th>0</th>\n",
       "      <td>DeepLearningAI</td>\n",
       "      <td>319</td>\n",
       "      <td>272000</td>\n",
       "      <td>11306319</td>\n",
       "      <td>130976.0</td>\n",
       "      <td>4322.0</td>\n",
       "      <td>2017-08-22T22:27:58Z</td>\n",
       "      <td>Not available</td>\n",
       "      <td>Welcome to the official DeepLearning.AI YouTub...</td>\n",
       "      <td>https://www.youtube.com/channel/UCcIXc5mJsHVYT...</td>\n",
       "    </tr>\n",
       "    <tr>\n",
       "      <th>0</th>\n",
       "      <td>3Blue1Brown</td>\n",
       "      <td>155</td>\n",
       "      <td>5770000</td>\n",
       "      <td>420677024</td>\n",
       "      <td>11791175.0</td>\n",
       "      <td>377602.0</td>\n",
       "      <td>2015-03-03T23:11:55Z</td>\n",
       "      <td>United States</td>\n",
       "      <td>My name is Grant Sanderson. Videos here cover ...</td>\n",
       "      <td>https://www.youtube.com/channel/UCYO_jab_esuFR...</td>\n",
       "    </tr>\n",
       "    <tr>\n",
       "      <th>0</th>\n",
       "      <td>Joma Tech</td>\n",
       "      <td>95</td>\n",
       "      <td>2270000</td>\n",
       "      <td>178760989</td>\n",
       "      <td>6481158.0</td>\n",
       "      <td>202994.0</td>\n",
       "      <td>2016-08-31T22:22:07Z</td>\n",
       "      <td>United States</td>\n",
       "      <td>I talk about life in Silicon Valley and at big...</td>\n",
       "      <td>https://www.youtube.com/channel/UCV0qA-eDDICsR...</td>\n",
       "    </tr>\n",
       "    <tr>\n",
       "      <th>0</th>\n",
       "      <td>DataCamp</td>\n",
       "      <td>437</td>\n",
       "      <td>155000</td>\n",
       "      <td>12866441</td>\n",
       "      <td>17380.0</td>\n",
       "      <td>680.0</td>\n",
       "      <td>2014-03-25T14:48:01Z</td>\n",
       "      <td>United States</td>\n",
       "      <td>Welcome to DataCamp's official YouTube channel...</td>\n",
       "      <td>https://www.youtube.com/channel/UC79Gv3mYp6zKi...</td>\n",
       "    </tr>\n",
       "    <tr>\n",
       "      <th>0</th>\n",
       "      <td>CS Dojo</td>\n",
       "      <td>95</td>\n",
       "      <td>1920000</td>\n",
       "      <td>76016992</td>\n",
       "      <td>1879873.0</td>\n",
       "      <td>82131.0</td>\n",
       "      <td>2016-02-26T01:49:30Z</td>\n",
       "      <td>Canada</td>\n",
       "      <td>Hello! My name is YK, and I usually make video...</td>\n",
       "      <td>https://www.youtube.com/channel/UCxX9wt5FWQUAA...</td>\n",
       "    </tr>\n",
       "  </tbody>\n",
       "</table>\n",
       "</div>"
      ],
      "text/plain": [
       "     channel_name video_count subscriber_count view_count  like_count  \\\n",
       "0  DeepLearningAI         319           272000   11306319    130976.0   \n",
       "0     3Blue1Brown         155          5770000  420677024  11791175.0   \n",
       "0       Joma Tech          95          2270000  178760989   6481158.0   \n",
       "0        DataCamp         437           155000   12866441     17380.0   \n",
       "0         CS Dojo          95          1920000   76016992   1879873.0   \n",
       "\n",
       "   comment_count             join_date        country  \\\n",
       "0         4322.0  2017-08-22T22:27:58Z  Not available   \n",
       "0       377602.0  2015-03-03T23:11:55Z  United States   \n",
       "0       202994.0  2016-08-31T22:22:07Z  United States   \n",
       "0          680.0  2014-03-25T14:48:01Z  United States   \n",
       "0        82131.0  2016-02-26T01:49:30Z         Canada   \n",
       "\n",
       "                                         description  \\\n",
       "0  Welcome to the official DeepLearning.AI YouTub...   \n",
       "0  My name is Grant Sanderson. Videos here cover ...   \n",
       "0  I talk about life in Silicon Valley and at big...   \n",
       "0  Welcome to DataCamp's official YouTube channel...   \n",
       "0  Hello! My name is YK, and I usually make video...   \n",
       "\n",
       "                                                link  \n",
       "0  https://www.youtube.com/channel/UCcIXc5mJsHVYT...  \n",
       "0  https://www.youtube.com/channel/UCYO_jab_esuFR...  \n",
       "0  https://www.youtube.com/channel/UCV0qA-eDDICsR...  \n",
       "0  https://www.youtube.com/channel/UC79Gv3mYp6zKi...  \n",
       "0  https://www.youtube.com/channel/UCxX9wt5FWQUAA...  "
      ]
     },
     "execution_count": 86,
     "metadata": {},
     "output_type": "execute_result"
    }
   ],
   "source": [
    "for channel in channel_df.channel_name:\n",
    "    channel_id = channel_ids[channel]\n",
    "    subscriber_count, join_date, country, link, description = getChannelInfo(channel_id)\n",
    "    channel_df.loc[channel_df.channel_name == channel, ['subscriber_count', 'join_date', 'country', 'link', 'description']] = subscriber_count, join_date, country, link,description\n",
    "channel_df.head()"
   ]
  },
  {
   "cell_type": "code",
   "execution_count": 87,
   "metadata": {},
   "outputs": [],
   "source": [
    "# Save to csv\n",
    "channel_df.to_csv('../data/processed/df_channels_processed.csv', index=False, lineterminator='\\n')"
   ]
  }
 ],
 "metadata": {
  "kernelspec": {
   "display_name": "Python 3 (ipykernel)",
   "language": "python",
   "name": "python3"
  },
  "language_info": {
   "codemirror_mode": {
    "name": "ipython",
    "version": 3
   },
   "file_extension": ".py",
   "mimetype": "text/x-python",
   "name": "python",
   "nbconvert_exporter": "python",
   "pygments_lexer": "ipython3",
   "version": "3.8.8"
  }
 },
 "nbformat": 4,
 "nbformat_minor": 4
}

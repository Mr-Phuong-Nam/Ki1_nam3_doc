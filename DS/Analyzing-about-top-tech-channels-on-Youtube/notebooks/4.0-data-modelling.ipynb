{
 "cells": [
  {
   "cell_type": "markdown",
   "metadata": {},
   "source": [
    "<div style=\"text-align: center; background-color: #0A6EBD; font-family: 'Trebuchet MS', Arial, sans-serif; color: white; padding: 20px; font-size: 40px; font-weight: bold; border-radius: 0 0 0 0; box-shadow: 0px 6px 8px rgba(0, 0, 0, 0.2);\">\n",
    "  Analyzing about Data Science Channels on Youtube\n",
    "  \n",
    "  @ FIT-HCMUS, VNU-HCM 📌\n",
    "</div>"
   ]
  },
  {
   "cell_type": "markdown",
   "metadata": {},
   "source": [
    "<div style=\"text-align: center; background-color: #b1d1ff; font-family: 'Trebuchet MS', Arial, sans-serif; color: white; padding: 20px; font-size: 40px; font-weight: bold; border-radius: 0 0 0 0; box-shadow: 0px 6px 8px rgba(0, 0, 0, 0.2);\">\n",
    "  Stage 4.0 - Data modelling\n",
    "</div>"
   ]
  },
  {
   "cell_type": "markdown",
   "metadata": {},
   "source": [
    "# Introduction"
   ]
  },
  {
   "cell_type": "markdown",
   "metadata": {},
   "source": [
    "Predicting how many people will watch YouTube video is tough, but it's getting more important for both creators and companies. While making great content matters most, there are other things we can look at to guess how many views we might get, like how long your video is and what tags we use. This notebook explores these details can help predict how many people will watch our video, which could help us make better content and reach the right audience."
   ]
  },
  {
   "cell_type": "markdown",
   "metadata": {
    "id": "s34UVOqtmq82"
   },
   "source": [
    "# Import"
   ]
  },
  {
   "cell_type": "code",
   "execution_count": 1,
   "metadata": {
    "executionInfo": {
     "elapsed": 5172,
     "status": "ok",
     "timestamp": 1704128805467,
     "user": {
      "displayName": "Phúc Nguyễn Gia",
      "userId": "17682670618312684684"
     },
     "user_tz": -420
    },
    "id": "pO1AGeqoVgsS"
   },
   "outputs": [],
   "source": [
    "import ast\n",
    "import re\n",
    "import time\n",
    "from joblib import dump, load\n",
    "\n",
    "import numpy as np\n",
    "import pandas as pd\n",
    "from scipy import stats\n",
    "import matplotlib.pyplot as plt\n",
    "\n",
    "from sklearn.ensemble import RandomForestRegressor\n",
    "from sklearn.linear_model import LinearRegression\n",
    "from sklearn.neighbors import KNeighborsRegressor\n",
    "\n",
    "from sklearn.preprocessing import MultiLabelBinarizer\n",
    "from sklearn.model_selection import train_test_split, KFold, GridSearchCV\n",
    "from sklearn.metrics import mean_absolute_error, mean_squared_error, mean_squared_error\n",
    "\n",
    "random_state = 1"
   ]
  },
  {
   "cell_type": "markdown",
   "metadata": {
    "id": "P08jneEGmuof"
   },
   "source": [
    "# Data preparation"
   ]
  },
  {
   "cell_type": "code",
   "execution_count": 2,
   "metadata": {
    "executionInfo": {
     "elapsed": 9,
     "status": "ok",
     "timestamp": 1704128805468,
     "user": {
      "displayName": "Phúc Nguyễn Gia",
      "userId": "17682670618312684684"
     },
     "user_tz": -420
    },
    "id": "Lh2JzsSiVc6J"
   },
   "outputs": [],
   "source": [
    "df_videos = pd.read_csv('../data/processed/df_videos_processed.csv')"
   ]
  },
  {
   "cell_type": "markdown",
   "metadata": {
    "id": "WP-tzzlgwmv5"
   },
   "source": [
    "# Feature engineering"
   ]
  },
  {
   "cell_type": "markdown",
   "metadata": {
    "id": "jpaReY29zgWx"
   },
   "source": [
    "This section outlines the feature engineering process undertaken to construct informative features from video durations and tags for the purpose of predicting view counts. The goal of this process is to transform raw data into meaningful features that can be effectively utilized by a predictive model."
   ]
  },
  {
   "cell_type": "markdown",
   "metadata": {
    "id": "rhxhlKitzkdX"
   },
   "source": [
    "We are going to convert these columns to appropriate data types and clean the tags."
   ]
  },
  {
   "cell_type": "code",
   "execution_count": 3,
   "metadata": {
    "executionInfo": {
     "elapsed": 6,
     "status": "ok",
     "timestamp": 1704128805468,
     "user": {
      "displayName": "Phúc Nguyễn Gia",
      "userId": "17682670618312684684"
     },
     "user_tz": -420
    },
    "id": "c7kVTVsCZs5e"
   },
   "outputs": [],
   "source": [
    "def clean_text(text):\n",
    "  text = text.replace('.', '').replace('#', '').replace('$', '').replace(' ', '')\n",
    "  text = re.sub(r'\\b\\d+\\.\\d+\\b', '', text)\n",
    "  text = text.lower()\n",
    "  if text == '':\n",
    "    return np.nan\n",
    "  return text"
   ]
  },
  {
   "cell_type": "code",
   "execution_count": 4,
   "metadata": {
    "executionInfo": {
     "elapsed": 1861,
     "status": "ok",
     "timestamp": 1704128807324,
     "user": {
      "displayName": "Phúc Nguyễn Gia",
      "userId": "17682670618312684684"
     },
     "user_tz": -420
    },
    "id": "-27hG5jWY-zu"
   },
   "outputs": [],
   "source": [
    "df_process = df_videos[df_videos['tags'].notnull()][['view_count', 'duration', 'tags']]\n",
    "df_process['duration'] = df_process['duration'].apply(pd.to_timedelta).dt.total_seconds()\n",
    "df_process['tags'] = df_process['tags'].apply(lambda x: ast.literal_eval(x) if pd.notnull(x) else np.nan)\n",
    "df_process['tags'] = df_process['tags'].apply(lambda x: list(set([clean_text(tag) for tag in x])))"
   ]
  },
  {
   "cell_type": "markdown",
   "metadata": {
    "id": "xi8burY0z5la"
   },
   "source": [
    "How many unique tags are there?"
   ]
  },
  {
   "cell_type": "code",
   "execution_count": 5,
   "metadata": {
    "colab": {
     "base_uri": "https://localhost:8080/"
    },
    "executionInfo": {
     "elapsed": 13,
     "status": "ok",
     "timestamp": 1704128807324,
     "user": {
      "displayName": "Phúc Nguyễn Gia",
      "userId": "17682670618312684684"
     },
     "user_tz": -420
    },
    "id": "G27rCR3Ez-xN",
    "outputId": "9c6f26b4-c370-4b9a-e918-1ae0b1c48a7f"
   },
   "outputs": [
    {
     "data": {
      "text/plain": [
       "22770"
      ]
     },
     "execution_count": 5,
     "metadata": {},
     "output_type": "execute_result"
    }
   ],
   "source": [
    "df_process['tags'].explode().nunique()"
   ]
  },
  {
   "cell_type": "markdown",
   "metadata": {
    "id": "NlUt1BYn0op0"
   },
   "source": [
    "There are quite a lot of tags, so we will select only some of the repeating tags to improve model performance."
   ]
  },
  {
   "cell_type": "code",
   "execution_count": 6,
   "metadata": {
    "colab": {
     "base_uri": "https://localhost:8080/"
    },
    "executionInfo": {
     "elapsed": 9,
     "status": "ok",
     "timestamp": 1704128807324,
     "user": {
      "displayName": "Phúc Nguyễn Gia",
      "userId": "17682670618312684684"
     },
     "user_tz": -420
    },
    "id": "NDqD5oi3lFgk",
    "outputId": "ff9bd4ac-1d68-40a7-a553-bf540c787e97"
   },
   "outputs": [
    {
     "data": {
      "text/plain": [
       "94"
      ]
     },
     "execution_count": 6,
     "metadata": {},
     "output_type": "execute_result"
    }
   ],
   "source": [
    "selected_tag = df_process['tags'].explode().value_counts()\n",
    "threshold = 100\n",
    "selected_tag = selected_tag[selected_tag > threshold]\n",
    "len(selected_tag)"
   ]
  },
  {
   "cell_type": "markdown",
   "metadata": {
    "id": "v8nVCHbW0unW"
   },
   "source": [
    "Save these tags for deployment."
   ]
  },
  {
   "cell_type": "code",
   "execution_count": 7,
   "metadata": {
    "executionInfo": {
     "elapsed": 7,
     "status": "ok",
     "timestamp": 1704128807326,
     "user": {
      "displayName": "Phúc Nguyễn Gia",
      "userId": "17682670618312684684"
     },
     "user_tz": -420
    },
    "id": "-GcdcVvbhYqh"
   },
   "outputs": [],
   "source": [
    "selected_tag.sort_index().reset_index()['index'].to_json('../deploy/materials/tags.json')"
   ]
  },
  {
   "cell_type": "markdown",
   "metadata": {
    "id": "Sf--jFsM1Bld"
   },
   "source": [
    "Remove tags that are not in the selected tags."
   ]
  },
  {
   "cell_type": "code",
   "execution_count": 8,
   "metadata": {
    "executionInfo": {
     "elapsed": 350,
     "status": "ok",
     "timestamp": 1704128807670,
     "user": {
      "displayName": "Phúc Nguyễn Gia",
      "userId": "17682670618312684684"
     },
     "user_tz": -420
    },
    "id": "D0WCdQU5nP5m"
   },
   "outputs": [],
   "source": [
    "df_process['clean_tags'] = df_process['tags'].apply(lambda x: [tag for tag in x if tag in selected_tag])"
   ]
  },
  {
   "cell_type": "code",
   "execution_count": 9,
   "metadata": {
    "executionInfo": {
     "elapsed": 4,
     "status": "ok",
     "timestamp": 1704128807671,
     "user": {
      "displayName": "Phúc Nguyễn Gia",
      "userId": "17682670618312684684"
     },
     "user_tz": -420
    },
    "id": "U2qLWItkyz-E"
   },
   "outputs": [],
   "source": [
    "df_process = df_process[df_process['clean_tags'].apply(len) > 0]"
   ]
  },
  {
   "cell_type": "markdown",
   "metadata": {
    "id": "SydPcvcXeOX-"
   },
   "source": [
    "Remove outliers from `view_count` and `duration` columns."
   ]
  },
  {
   "cell_type": "code",
   "execution_count": 10,
   "metadata": {
    "executionInfo": {
     "elapsed": 468,
     "status": "ok",
     "timestamp": 1704128808136,
     "user": {
      "displayName": "Phúc Nguyễn Gia",
      "userId": "17682670618312684684"
     },
     "user_tz": -420
    },
    "id": "7SAImnjIbskx"
   },
   "outputs": [],
   "source": [
    "df_process = df_process[(np.abs(stats.zscore(df_process[['view_count', 'duration']])) < 3).all(axis = 1)].reset_index(drop = True)"
   ]
  },
  {
   "cell_type": "markdown",
   "metadata": {},
   "source": [
    "Select features and target"
   ]
  },
  {
   "cell_type": "code",
   "execution_count": 11,
   "metadata": {
    "executionInfo": {
     "elapsed": 9,
     "status": "ok",
     "timestamp": 1704128808136,
     "user": {
      "displayName": "Phúc Nguyễn Gia",
      "userId": "17682670618312684684"
     },
     "user_tz": -420
    },
    "id": "X0oKA4-OTNvd"
   },
   "outputs": [],
   "source": [
    "X = df_process[['duration', 'clean_tags']]\n",
    "y = df_process['view_count']"
   ]
  },
  {
   "cell_type": "markdown",
   "metadata": {},
   "source": [
    "Label encoding"
   ]
  },
  {
   "cell_type": "code",
   "execution_count": 12,
   "metadata": {
    "executionInfo": {
     "elapsed": 9,
     "status": "ok",
     "timestamp": 1704128808137,
     "user": {
      "displayName": "Phúc Nguyễn Gia",
      "userId": "17682670618312684684"
     },
     "user_tz": -420
    },
    "id": "896yZhISspDL"
   },
   "outputs": [],
   "source": [
    "mlb = MultiLabelBinarizer()\n",
    "X = X.join(pd.DataFrame(mlb.fit_transform(X.pop('clean_tags')), columns = mlb.classes_))"
   ]
  },
  {
   "cell_type": "markdown",
   "metadata": {
    "id": "xjVNYO82m3TA"
   },
   "source": [
    "# Training model"
   ]
  },
  {
   "cell_type": "markdown",
   "metadata": {
    "id": "HT9CvnNcm7pS"
   },
   "source": [
    "## Setting up"
   ]
  },
  {
   "cell_type": "code",
   "execution_count": 13,
   "metadata": {
    "executionInfo": {
     "elapsed": 7,
     "status": "ok",
     "timestamp": 1704128808138,
     "user": {
      "displayName": "Phúc Nguyễn Gia",
      "userId": "17682670618312684684"
     },
     "user_tz": -420
    },
    "id": "7T-76uL9WAaC"
   },
   "outputs": [],
   "source": [
    "X_train, X_test, y_train, y_test = train_test_split(X, y, test_size = 0.2, random_state = random_state)"
   ]
  },
  {
   "cell_type": "code",
   "execution_count": 14,
   "metadata": {
    "executionInfo": {
     "elapsed": 7,
     "status": "ok",
     "timestamp": 1704128808137,
     "user": {
      "displayName": "Phúc Nguyễn Gia",
      "userId": "17682670618312684684"
     },
     "user_tz": -420
    },
    "id": "blIplKY4qAPv"
   },
   "outputs": [],
   "source": [
    "estimators = [\n",
    "    ('rrr', RandomForestRegressor(random_state=random_state)),\n",
    "    ('lr', LinearRegression()),\n",
    "    ('knn', KNeighborsRegressor())\n",
    "]"
   ]
  },
  {
   "cell_type": "code",
   "execution_count": 15,
   "metadata": {
    "executionInfo": {
     "elapsed": 7,
     "status": "ok",
     "timestamp": 1704128808138,
     "user": {
      "displayName": "Phúc Nguyễn Gia",
      "userId": "17682670618312684684"
     },
     "user_tz": -420
    },
    "id": "FRf8Ot63pwhg"
   },
   "outputs": [],
   "source": [
    "param_grids = [\n",
    "    {'n_estimators': [100, 150, 200],\n",
    "     'criterion': ['squared_error', 'poisson'],\n",
    "     'max_depth': [None, 10],\n",
    "     'max_features': [None, 'sqrt']},\n",
    "\n",
    "    {'fit_intercept': [True, False]},\n",
    "\n",
    "    {'n_neighbors': [5, 10, 15, 20, 25, 30],\n",
    "     'weights': ['uniform', 'distance'],\n",
    "     'algorithm': ['auto', 'ball_tree', 'kd_tree', 'brute']}\n",
    "]\n",
    "\n",
    "best_params = {}"
   ]
  },
  {
   "cell_type": "markdown",
   "metadata": {
    "id": "dqfg_5n9nAVz"
   },
   "source": [
    "## Cross validation and hyperparameter tuning"
   ]
  },
  {
   "cell_type": "code",
   "execution_count": 16,
   "metadata": {
    "executionInfo": {
     "elapsed": 8,
     "status": "ok",
     "timestamp": 1704128808137,
     "user": {
      "displayName": "Phúc Nguyễn Gia",
      "userId": "17682670618312684684"
     },
     "user_tz": -420
    },
    "id": "EpdynWwkYOlc"
   },
   "outputs": [],
   "source": [
    "kfold = KFold(n_splits = 10, shuffle = True, random_state = random_state)"
   ]
  },
  {
   "cell_type": "code",
   "execution_count": 17,
   "metadata": {
    "executionInfo": {
     "elapsed": 6,
     "status": "ok",
     "timestamp": 1704128808138,
     "user": {
      "displayName": "Phúc Nguyễn Gia",
      "userId": "17682670618312684684"
     },
     "user_tz": -420
    },
    "id": "D1UrDaJrp7q9"
   },
   "outputs": [
    {
     "name": "stdout",
     "output_type": "stream",
     "text": [
      "Fitting 10 folds for each of 24 candidates, totalling 240 fits\n",
      "Estimator: RandomForestRegressor(random_state=1)\n",
      "Best params: {'criterion': 'poisson', 'max_depth': 10, 'max_features': None, 'n_estimators': 200}\n",
      "Best score: -104645.31444254247\n",
      "\n",
      "Fitting 10 folds for each of 2 candidates, totalling 20 fits\n",
      "Estimator: LinearRegression()\n",
      "Best params: {'fit_intercept': False}\n",
      "Best score: -110011.24880504957\n",
      "\n",
      "Fitting 10 folds for each of 48 candidates, totalling 480 fits\n",
      "Estimator: KNeighborsRegressor()\n",
      "Best params: {'algorithm': 'ball_tree', 'n_neighbors': 30, 'weights': 'distance'}\n",
      "Best score: -138869.5221441284\n",
      "\n"
     ]
    }
   ],
   "source": [
    "for estimator, param_grid in zip(estimators, param_grids):\n",
    "    grid_cv = GridSearchCV(estimator = estimator[1], param_grid = param_grid, cv = kfold,\n",
    "                           scoring = 'neg_mean_absolute_error', n_jobs = 1, verbose = 1)\n",
    "    grid_cv.fit(X_train, y_train)\n",
    "    best_params[estimator[0]] = [grid_cv.best_estimator_]\n",
    "    print(f'Estimator: {estimator[1]}')\n",
    "    print(f'Best params: {grid_cv.best_params_}')\n",
    "    print(f'Best score: {grid_cv.best_score_}')\n",
    "    print()"
   ]
  },
  {
   "cell_type": "markdown",
   "metadata": {
    "id": "KZwNSViFnHuY"
   },
   "source": [
    "## Train these models"
   ]
  },
  {
   "cell_type": "code",
   "execution_count": 18,
   "metadata": {
    "colab": {
     "base_uri": "https://localhost:8080/"
    },
    "executionInfo": {
     "elapsed": 12,
     "status": "ok",
     "timestamp": 1704129032724,
     "user": {
      "displayName": "Phúc Nguyễn Gia",
      "userId": "17682670618312684684"
     },
     "user_tz": -420
    },
    "id": "BgySWPqks34Y",
    "outputId": "b8638265-c639-412a-e009-a8fa77b10695"
   },
   "outputs": [],
   "source": [
    "for estimator, best_param in best_params.items():\n",
    "    time_start = time.time()\n",
    "    best_param[0].fit(X_train, y_train)\n",
    "    time_end = time.time()\n",
    "    best_param.append(time_end - time_start)"
   ]
  },
  {
   "cell_type": "markdown",
   "metadata": {
    "id": "I3Qmvtx3xSBc"
   },
   "source": [
    "# Evaluation"
   ]
  },
  {
   "cell_type": "code",
   "execution_count": 19,
   "metadata": {
    "colab": {
     "base_uri": "https://localhost:8080/"
    },
    "executionInfo": {
     "elapsed": 9,
     "status": "ok",
     "timestamp": 1704129034218,
     "user": {
      "displayName": "Phúc Nguyễn Gia",
      "userId": "17682670618312684684"
     },
     "user_tz": -420
    },
    "id": "05Qi-njr4tnH",
    "outputId": "39b5db77-3d23-4dd7-bdd6-b0f348f5f58c"
   },
   "outputs": [
    {
     "name": "stdout",
     "output_type": "stream",
     "text": [
      "RandomForestRegressor(criterion='poisson', max_depth=10, max_features=None,\n",
      "                      n_estimators=200, random_state=1)\n",
      "Mean Absolute Error (MAE): 102852.21707131181\n",
      "Mean Squared Error (MSE): 57175879571.564964\n",
      "Root Mean Squared Error (RMSE): 239114.78325600232\n",
      "Time (training): 2.884286642074585\n",
      "Time (prediction): 0.04128384590148926\n",
      "\n",
      "LinearRegression(fit_intercept=False)\n",
      "Mean Absolute Error (MAE): 117284.96512014096\n",
      "Mean Squared Error (MSE): 60749970124.98298\n",
      "Root Mean Squared Error (RMSE): 246475.09027279608\n",
      "Time (training): 0.020568370819091797\n",
      "Time (prediction): 0.0027790069580078125\n",
      "\n",
      "KNeighborsRegressor(algorithm='ball_tree', n_neighbors=30, weights='distance')\n",
      "Mean Absolute Error (MAE): 149603.45620328866\n",
      "Mean Squared Error (MSE): 99530820041.09077\n",
      "Root Mean Squared Error (RMSE): 315485.0551786737\n",
      "Time (training): 0.025834083557128906\n",
      "Time (prediction): 0.018121957778930664\n",
      "\n"
     ]
    }
   ],
   "source": [
    "for estimator, best_param in best_params.items():\n",
    "    print(best_param[0])\n",
    "    time_start = time.time()\n",
    "    predictions = best_param[0].predict(X_test)\n",
    "    time_end = time.time()\n",
    "    best_param.append(time_end - time_start)\n",
    "    print(f'Mean Absolute Error (MAE): {mean_absolute_error(y_test, predictions)}')\n",
    "    print(f'Mean Squared Error (MSE): {mean_squared_error(y_test, predictions)}')\n",
    "    print(f'Root Mean Squared Error (RMSE): {np.sqrt(mean_squared_error(y_test, predictions))}')\n",
    "    print(f'Time (training): {best_param[1]}')\n",
    "    print(f'Time (prediction): {best_param[2]}')\n",
    "    print()"
   ]
  },
  {
   "cell_type": "markdown",
   "metadata": {
    "id": "inLV2GHhxm_h"
   },
   "source": [
    "MAE, MSE, and RMSE are error metrics that quantify model predictions' deviations from actual values. High scores indicate significant prediction errors."
   ]
  },
  {
   "cell_type": "markdown",
   "metadata": {
    "id": "KkabNT874kYk"
   },
   "source": [
    "Possible causes:\n",
    "- Overfitting: Model captures noise in training data, failing to generalise to new examples.\n",
    "- Underfitting: Model lacks complexity to capture underlying patterns in data.\n",
    "- Data quality issues: Undetected noise, outliers, biased in data distort model learning."
   ]
  },
  {
   "cell_type": "markdown",
   "metadata": {},
   "source": [
    "We will use Random Forest Regressor since it has the lowest MAE, MSE and RMSE score."
   ]
  },
  {
   "cell_type": "code",
   "execution_count": 26,
   "metadata": {},
   "outputs": [
    {
     "data": {
      "text/html": [
       "<style>#sk-container-id-3 {color: black;background-color: white;}#sk-container-id-3 pre{padding: 0;}#sk-container-id-3 div.sk-toggleable {background-color: white;}#sk-container-id-3 label.sk-toggleable__label {cursor: pointer;display: block;width: 100%;margin-bottom: 0;padding: 0.3em;box-sizing: border-box;text-align: center;}#sk-container-id-3 label.sk-toggleable__label-arrow:before {content: \"▸\";float: left;margin-right: 0.25em;color: #696969;}#sk-container-id-3 label.sk-toggleable__label-arrow:hover:before {color: black;}#sk-container-id-3 div.sk-estimator:hover label.sk-toggleable__label-arrow:before {color: black;}#sk-container-id-3 div.sk-toggleable__content {max-height: 0;max-width: 0;overflow: hidden;text-align: left;background-color: #f0f8ff;}#sk-container-id-3 div.sk-toggleable__content pre {margin: 0.2em;color: black;border-radius: 0.25em;background-color: #f0f8ff;}#sk-container-id-3 input.sk-toggleable__control:checked~div.sk-toggleable__content {max-height: 200px;max-width: 100%;overflow: auto;}#sk-container-id-3 input.sk-toggleable__control:checked~label.sk-toggleable__label-arrow:before {content: \"▾\";}#sk-container-id-3 div.sk-estimator input.sk-toggleable__control:checked~label.sk-toggleable__label {background-color: #d4ebff;}#sk-container-id-3 div.sk-label input.sk-toggleable__control:checked~label.sk-toggleable__label {background-color: #d4ebff;}#sk-container-id-3 input.sk-hidden--visually {border: 0;clip: rect(1px 1px 1px 1px);clip: rect(1px, 1px, 1px, 1px);height: 1px;margin: -1px;overflow: hidden;padding: 0;position: absolute;width: 1px;}#sk-container-id-3 div.sk-estimator {font-family: monospace;background-color: #f0f8ff;border: 1px dotted black;border-radius: 0.25em;box-sizing: border-box;margin-bottom: 0.5em;}#sk-container-id-3 div.sk-estimator:hover {background-color: #d4ebff;}#sk-container-id-3 div.sk-parallel-item::after {content: \"\";width: 100%;border-bottom: 1px solid gray;flex-grow: 1;}#sk-container-id-3 div.sk-label:hover label.sk-toggleable__label {background-color: #d4ebff;}#sk-container-id-3 div.sk-serial::before {content: \"\";position: absolute;border-left: 1px solid gray;box-sizing: border-box;top: 0;bottom: 0;left: 50%;z-index: 0;}#sk-container-id-3 div.sk-serial {display: flex;flex-direction: column;align-items: center;background-color: white;padding-right: 0.2em;padding-left: 0.2em;position: relative;}#sk-container-id-3 div.sk-item {position: relative;z-index: 1;}#sk-container-id-3 div.sk-parallel {display: flex;align-items: stretch;justify-content: center;background-color: white;position: relative;}#sk-container-id-3 div.sk-item::before, #sk-container-id-3 div.sk-parallel-item::before {content: \"\";position: absolute;border-left: 1px solid gray;box-sizing: border-box;top: 0;bottom: 0;left: 50%;z-index: -1;}#sk-container-id-3 div.sk-parallel-item {display: flex;flex-direction: column;z-index: 1;position: relative;background-color: white;}#sk-container-id-3 div.sk-parallel-item:first-child::after {align-self: flex-end;width: 50%;}#sk-container-id-3 div.sk-parallel-item:last-child::after {align-self: flex-start;width: 50%;}#sk-container-id-3 div.sk-parallel-item:only-child::after {width: 0;}#sk-container-id-3 div.sk-dashed-wrapped {border: 1px dashed gray;margin: 0 0.4em 0.5em 0.4em;box-sizing: border-box;padding-bottom: 0.4em;background-color: white;}#sk-container-id-3 div.sk-label label {font-family: monospace;font-weight: bold;display: inline-block;line-height: 1.2em;}#sk-container-id-3 div.sk-label-container {text-align: center;}#sk-container-id-3 div.sk-container {/* jupyter's `normalize.less` sets `[hidden] { display: none; }` but bootstrap.min.css set `[hidden] { display: none !important; }` so we also need the `!important` here to be able to override the default hidden behavior on the sphinx rendered scikit-learn.org. See: https://github.com/scikit-learn/scikit-learn/issues/21755 */display: inline-block !important;position: relative;}#sk-container-id-3 div.sk-text-repr-fallback {display: none;}</style><div id=\"sk-container-id-3\" class=\"sk-top-container\"><div class=\"sk-text-repr-fallback\"><pre>RandomForestRegressor(criterion=&#x27;poisson&#x27;, max_depth=10, max_features=None,\n",
       "                      n_estimators=200, random_state=1)</pre><b>In a Jupyter environment, please rerun this cell to show the HTML representation or trust the notebook. <br />On GitHub, the HTML representation is unable to render, please try loading this page with nbviewer.org.</b></div><div class=\"sk-container\" hidden><div class=\"sk-item\"><div class=\"sk-estimator sk-toggleable\"><input class=\"sk-toggleable__control sk-hidden--visually\" id=\"sk-estimator-id-3\" type=\"checkbox\" checked><label for=\"sk-estimator-id-3\" class=\"sk-toggleable__label sk-toggleable__label-arrow\">RandomForestRegressor</label><div class=\"sk-toggleable__content\"><pre>RandomForestRegressor(criterion=&#x27;poisson&#x27;, max_depth=10, max_features=None,\n",
       "                      n_estimators=200, random_state=1)</pre></div></div></div></div></div>"
      ],
      "text/plain": [
       "RandomForestRegressor(criterion='poisson', max_depth=10, max_features=None,\n",
       "                      n_estimators=200, random_state=1)"
      ]
     },
     "execution_count": 26,
     "metadata": {},
     "output_type": "execute_result"
    }
   ],
   "source": [
    "model = best_params['rrr'][0]\n",
    "model"
   ]
  },
  {
   "cell_type": "markdown",
   "metadata": {
    "id": "hXdOoL8oxgmI"
   },
   "source": [
    "# Prediction"
   ]
  },
  {
   "cell_type": "markdown",
   "metadata": {},
   "source": [
    "The results of `y_test` compared to `y_pred`."
   ]
  },
  {
   "cell_type": "code",
   "execution_count": 21,
   "metadata": {},
   "outputs": [
    {
     "data": {
      "text/html": [
       "<div>\n",
       "<style scoped>\n",
       "    .dataframe tbody tr th:only-of-type {\n",
       "        vertical-align: middle;\n",
       "    }\n",
       "\n",
       "    .dataframe tbody tr th {\n",
       "        vertical-align: top;\n",
       "    }\n",
       "\n",
       "    .dataframe thead th {\n",
       "        text-align: right;\n",
       "    }\n",
       "</style>\n",
       "<table border=\"1\" class=\"dataframe\">\n",
       "  <thead>\n",
       "    <tr style=\"text-align: right;\">\n",
       "      <th></th>\n",
       "      <th>y_test</th>\n",
       "      <th>y_pred</th>\n",
       "    </tr>\n",
       "  </thead>\n",
       "  <tbody>\n",
       "    <tr>\n",
       "      <th>0</th>\n",
       "      <td>164152</td>\n",
       "      <td>135196.659568</td>\n",
       "    </tr>\n",
       "    <tr>\n",
       "      <th>1</th>\n",
       "      <td>134599</td>\n",
       "      <td>208584.395996</td>\n",
       "    </tr>\n",
       "    <tr>\n",
       "      <th>2</th>\n",
       "      <td>15446</td>\n",
       "      <td>30693.758063</td>\n",
       "    </tr>\n",
       "    <tr>\n",
       "      <th>3</th>\n",
       "      <td>5932</td>\n",
       "      <td>14377.761293</td>\n",
       "    </tr>\n",
       "    <tr>\n",
       "      <th>4</th>\n",
       "      <td>3763</td>\n",
       "      <td>17583.432776</td>\n",
       "    </tr>\n",
       "    <tr>\n",
       "      <th>...</th>\n",
       "      <td>...</td>\n",
       "      <td>...</td>\n",
       "    </tr>\n",
       "    <tr>\n",
       "      <th>814</th>\n",
       "      <td>12081</td>\n",
       "      <td>129128.305926</td>\n",
       "    </tr>\n",
       "    <tr>\n",
       "      <th>815</th>\n",
       "      <td>1010</td>\n",
       "      <td>1503.128770</td>\n",
       "    </tr>\n",
       "    <tr>\n",
       "      <th>816</th>\n",
       "      <td>1608</td>\n",
       "      <td>3990.423001</td>\n",
       "    </tr>\n",
       "    <tr>\n",
       "      <th>817</th>\n",
       "      <td>4433</td>\n",
       "      <td>88778.670273</td>\n",
       "    </tr>\n",
       "    <tr>\n",
       "      <th>818</th>\n",
       "      <td>185155</td>\n",
       "      <td>351967.838806</td>\n",
       "    </tr>\n",
       "  </tbody>\n",
       "</table>\n",
       "<p>819 rows × 2 columns</p>\n",
       "</div>"
      ],
      "text/plain": [
       "     y_test         y_pred\n",
       "0    164152  135196.659568\n",
       "1    134599  208584.395996\n",
       "2     15446   30693.758063\n",
       "3      5932   14377.761293\n",
       "4      3763   17583.432776\n",
       "..      ...            ...\n",
       "814   12081  129128.305926\n",
       "815    1010    1503.128770\n",
       "816    1608    3990.423001\n",
       "817    4433   88778.670273\n",
       "818  185155  351967.838806\n",
       "\n",
       "[819 rows x 2 columns]"
      ]
     },
     "execution_count": 21,
     "metadata": {},
     "output_type": "execute_result"
    }
   ],
   "source": [
    "df_pred = pd.concat([y_test.reset_index(drop = True), pd.Series(model.predict(X_test))], axis = 1)\n",
    "df_pred.columns = ['y_test', 'y_pred']\n",
    "df_pred"
   ]
  },
  {
   "cell_type": "code",
   "execution_count": 22,
   "metadata": {},
   "outputs": [
    {
     "data": {
      "image/png": "[encoded data removed]",
      "text/plain": [
       "<Figure size 2000x1000 with 1 Axes>"
      ]
     },
     "metadata": {},
     "output_type": "display_data"
    }
   ],
   "source": [
    "df_pred_sorted = df_pred.sort_values('y_test')\n",
    "\n",
    "fig, ax = plt.subplots(figsize = (20, 10))\n",
    "x = np.arange(0, len(y_test))\n",
    "\n",
    "ax.plot(x, df_pred_sorted['y_test'], \"r\", label = 'y_test')\n",
    "ax.plot(x, df_pred_sorted['y_pred'], \"b\", alpha = 0.3, label = 'y_pred')\n",
    "ax.plot(x, df_pred_sorted['y_pred'], \"bo\", alpha = 0.1)\n",
    "ax.set_xlabel('i-th sample')\n",
    "ax.set_ylabel('Views')\n",
    "ax.set_title('y_test vs. y_pred')\n",
    "ax.legend();"
   ]
  },
  {
   "cell_type": "markdown",
   "metadata": {
    "id": "0fT9OmGexmGl"
   },
   "source": [
    "# Results analysis"
   ]
  },
  {
   "cell_type": "markdown",
   "metadata": {},
   "source": [
    "The graph shows that the model's predictions are not very accurate overall. There are some points that are very close to the actual values, but there are also many points that are very far away. This suggests that the model is not able to generalize well to new data.\n",
    "\n",
    "The model's accuracy also appears to decline as the sample index increases. This suggests that the model may be overfitting to the earlier samples in the dataset."
   ]
  },
  {
   "cell_type": "markdown",
   "metadata": {
    "id": "LBbZKtDlv0nh"
   },
   "source": [
    "# Saving models for deployment"
   ]
  },
  {
   "cell_type": "code",
   "execution_count": 23,
   "metadata": {
    "colab": {
     "base_uri": "https://localhost:8080/"
    },
    "executionInfo": {
     "elapsed": 8,
     "status": "ok",
     "timestamp": 1704129036004,
     "user": {
      "displayName": "Phúc Nguyễn Gia",
      "userId": "17682670618312684684"
     },
     "user_tz": -420
    },
    "id": "ZN0xXb-P4L1F",
    "outputId": "a3dac8df-3525-4425-a4a0-cb2a9ca9063c"
   },
   "outputs": [
    {
     "data": {
      "text/plain": [
       "['../deploy/materials/mlb.joblib']"
      ]
     },
     "execution_count": 23,
     "metadata": {},
     "output_type": "execute_result"
    }
   ],
   "source": [
    "dump(model, '../models/model.joblib')\n",
    "dump(mlb, '../deploy/materials/mlb.joblib')"
   ]
  },
  {
   "cell_type": "markdown",
   "metadata": {
    "id": "Vx72mpz4xqOQ"
   },
   "source": [
    "# Conclusion"
   ]
  },
  {
   "cell_type": "markdown",
   "metadata": {
    "id": "v2sgb2EYxrkD"
   },
   "source": [
    "While video duration and tags provide significant insights into potential viewership, achieving truly accurate forecasts necessitates incorporating additional factors. Expanding the feature set with richer data points like sentiment analysis of viewer comments, or historical performance of similar videos could unlock a deeper understanding of audience engagement and lead to significantly more refined predictions."
   ]
  }
 ],
 "metadata": {
  "colab": {
   "provenance": []
  },
  "kernelspec": {
   "display_name": "Python 3 (ipykernel)",
   "language": "python",
   "name": "python3"
  },
  "language_info": {
   "codemirror_mode": {
    "name": "ipython",
    "version": 3
   },
   "file_extension": ".py",
   "mimetype": "text/x-python",
   "name": "python",
   "nbconvert_exporter": "python",
   "pygments_lexer": "ipython3",
   "version": "3.10.8"
  }
 },
 "nbformat": 4,
 "nbformat_minor": 4
}
